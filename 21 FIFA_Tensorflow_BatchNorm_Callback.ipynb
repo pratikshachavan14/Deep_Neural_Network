{
 "cells": [
  {
   "cell_type": "code",
   "execution_count": 1,
   "id": "a2e75ead",
   "metadata": {},
   "outputs": [],
   "source": [
    "#!/usr/bin/env python`\n",
    "# -*- coding: utf-8 -*-"
   ]
  },
  {
   "cell_type": "code",
   "execution_count": 2,
   "id": "3d52e7d5",
   "metadata": {},
   "outputs": [
    {
     "name": "stdout",
     "output_type": "stream",
     "text": [
      "WARNING:tensorflow:From C:\\Users\\Administrator.DAI-PC2\\AppData\\Roaming\\Python\\Python311\\site-packages\\keras\\src\\losses.py:2976: The name tf.losses.sparse_softmax_cross_entropy is deprecated. Please use tf.compat.v1.losses.sparse_softmax_cross_entropy instead.\n",
      "\n"
     ]
    }
   ],
   "source": [
    "###-----------------\n",
    "### Import Libraries\n",
    "###-----------------\n",
    "\n",
    "import os\n",
    "import numpy as np\n",
    "import pandas as pd\n",
    "import torch\n",
    "\n",
    "from collections.abc import Callable\n",
    "from typing import Literal\n",
    "\n",
    "from sklearn.model_selection import train_test_split\n",
    "from sklearn.metrics import accuracy_score, classification_report, confusion_matrix, ConfusionMatrixDisplay\n",
    "from sklearn.preprocessing import StandardScaler\n",
    "import matplotlib.pyplot as plt\n",
    "import tensorflow as tf\n",
    "import sys\n",
    "\n",
    "from utils.helper import fn_plot_tf_hist, fn_plot_confusion_matrix, fn_plot_torch_hist"
   ]
  },
  {
   "cell_type": "code",
   "execution_count": 3,
   "id": "affcf40f-4d50-4980-afb0-ecccaa1d79d1",
   "metadata": {},
   "outputs": [
    {
     "name": "stdout",
     "output_type": "stream",
     "text": [
      "\n",
      "    Args:\n",
      "        hist_df: a dataframe with following ccolumns\n",
      "            column 0: loss\n",
      "            column 1: accuracy\n",
      "            column 2: val_loss\n",
      "            column 3: val_accuracy\n",
      "            While plotting columns are accessed by index \n",
      "            so that even if the column names are different it will not throw exceptions.\n",
      "    \n"
     ]
    }
   ],
   "source": [
    "print(fn_plot_tf_hist.__doc__)"
   ]
  },
  {
   "cell_type": "code",
   "execution_count": 4,
   "id": "cbc5263a-2523-4460-86db-85c4787fbf69",
   "metadata": {},
   "outputs": [
    {
     "name": "stdout",
     "output_type": "stream",
     "text": [
      "\n",
      "    Args:\n",
      "        y_true: Ground Truth \n",
      "        y_pred : Predictions\n",
      "        labels : dictonary \n",
      "                  {0: 'Goal Keeper', \n",
      "                  1: 'Defender', \n",
      "                  2: 'Mid-Fielder', \n",
      "                  3: 'Forward'}\n",
      "    \n",
      "    \n"
     ]
    }
   ],
   "source": [
    "print (fn_plot_confusion_matrix.__doc__)"
   ]
  },
  {
   "cell_type": "code",
   "execution_count": 5,
   "id": "b32a9af9",
   "metadata": {},
   "outputs": [],
   "source": [
    "###----------------------\n",
    "### Some basic parameters\n",
    "###----------------------\n",
    "\n",
    "inpDir = '../input'\n",
    "outDir = '../output'\n",
    "modelDir = './models'\n",
    "subDir = 'fifa_2019'\n",
    "logDir = './logs'\n",
    "\n",
    "RANDOM_STATE = 24 # for initialization ----- REMEMBER: to remove at the time of promotion to production\n",
    "np.random.seed(RANDOM_STATE) # Set Random Seed for reproducible  results\n",
    "tf.random.set_seed(RANDOM_STATE) # setting for Tensorflow as well\n",
    "\n",
    "EPOCHS = 1000 # number of epochs\n",
    "ALPHA = 0.001 # learning rate\n",
    "\n",
    "BATCH_SIZE = 32\n",
    "TEST_SIZE = 0.2\n",
    "REG_LAMBDA = 0.001\n",
    "\n",
    "#hyper parameters\n",
    "PATIENCE = 20\n",
    "LR_PATIENCE = 10  #normally kept half of patience\n",
    "LR_FACTOR = 0.1\n",
    "\n",
    "\n",
    "# parameters for Matplotlib\n",
    "params = {'legend.fontsize': 'medium',\n",
    "          'figure.figsize': (15, 6),\n",
    "          'axes.labelsize': 'medium',\n",
    "          'axes.titlesize':'large',\n",
    "          'xtick.labelsize':'medium',\n",
    "          'ytick.labelsize':'medium'\n",
    "         }\n",
    "\n",
    "plt.rcParams.update(params)\n",
    "\n",
    "CMAP = plt.cm.coolwarm\n",
    "plt.style.use('seaborn-v0_8-darkgrid') # plt.style.use('ggplot')"
   ]
  },
  {
   "cell_type": "markdown",
   "id": "591b1fc2",
   "metadata": {},
   "source": [
    "## Read FIFA 2019 data set"
   ]
  },
  {
   "cell_type": "code",
   "execution_count": 6,
   "id": "a2177d69",
   "metadata": {},
   "outputs": [
    {
     "data": {
      "text/plain": [
       "(18207, 89)"
      ]
     },
     "execution_count": 6,
     "metadata": {},
     "output_type": "execute_result"
    }
   ],
   "source": [
    "data_df = pd.read_csv(os.path.join(inpDir, 'fifa_2019.csv'))\n",
    "data_df.shape"
   ]
  },
  {
   "cell_type": "code",
   "execution_count": 7,
   "id": "d21a48ac-1b95-44a6-8a4a-11adea74a66f",
   "metadata": {},
   "outputs": [],
   "source": [
    "#data_df.columns"
   ]
  },
  {
   "cell_type": "code",
   "execution_count": 8,
   "id": "276462a7",
   "metadata": {},
   "outputs": [],
   "source": [
    "# removing rows with position = null\n",
    "data_df = data_df[data_df[\"Position\"].notnull()]\n",
    "#data_df.head()"
   ]
  },
  {
   "cell_type": "code",
   "execution_count": 9,
   "id": "4db52786-47a7-46b0-8883-a923fbec103d",
   "metadata": {},
   "outputs": [],
   "source": [
    "#data_df['Position'].isnull()"
   ]
  },
  {
   "cell_type": "code",
   "execution_count": 10,
   "id": "5a237f4a",
   "metadata": {},
   "outputs": [],
   "source": [
    "# Following columns appear to be relevant for our analysis\n",
    "rel_cols = [\"Position\", 'Finishing', 'HeadingAccuracy', 'ShortPassing', 'Volleys', 'Dribbling',\n",
    "            'Curve', 'FKAccuracy', 'LongPassing', 'BallControl', 'Acceleration',\n",
    "            'SprintSpeed', 'Agility', 'Reactions', 'Balance', 'ShotPower',\n",
    "            'Jumping', 'Stamina', 'Strength', 'LongShots', 'Aggression',\n",
    "            'Interceptions', 'Positioning', 'Vision', 'Penalties', 'Composure',\n",
    "            'Marking', 'StandingTackle', 'SlidingTackle', 'GKDiving', 'GKHandling',\n",
    "            'GKKicking', 'GKPositioning', 'GKReflexes']"
   ]
  },
  {
   "cell_type": "code",
   "execution_count": 11,
   "id": "78f6a5e9",
   "metadata": {},
   "outputs": [],
   "source": [
    "goalkeeper = 'GK'\n",
    "forward = ['ST', 'LW', 'RW', 'LF', 'RF', 'RS','LS', 'CF']\n",
    "midfielder = ['CM','RCM','LCM', 'CDM','RDM','LDM', 'CAM', 'LAM', 'RAM', 'RM', 'LM']\n",
    "defender = ['CB', 'RCB', 'LCB', 'LWB', 'RWB', 'LB', 'RB']"
   ]
  },
  {
   "cell_type": "code",
   "execution_count": 12,
   "id": "ae7c0c41",
   "metadata": {},
   "outputs": [],
   "source": [
    "#Assign labels to goalkeepers\n",
    "data_df.loc[data_df[\"Position\"] == \"GK\", \"Position\"] = 0\n",
    "\n",
    "#Defenders\n",
    "data_df.loc[data_df[\"Position\"].isin(defender), \"Position\"] = 1\n",
    "\n",
    "#Midfielders\n",
    "data_df.loc[data_df[\"Position\"].isin(midfielder), \"Position\"] = 2\n",
    "\n",
    "#Forward\n",
    "data_df.loc[data_df[\"Position\"].isin(forward), \"Position\"] = 3\n",
    "\n",
    "# Convert Column \"Position\" to numeric so that Pandas does not complain\n",
    "data_df['Position'] = pd.to_numeric(data_df['Position'], downcast=\"integer\")"
   ]
  },
  {
   "cell_type": "code",
   "execution_count": 13,
   "id": "592d6055",
   "metadata": {},
   "outputs": [],
   "source": [
    "data_df = data_df[rel_cols]\n",
    "#data_df.head()"
   ]
  },
  {
   "cell_type": "code",
   "execution_count": 14,
   "id": "2090980a",
   "metadata": {},
   "outputs": [],
   "source": [
    "labels101 = {0: 'Goal Keeper', 1: 'Defender', 2: 'Mid-Fielder', 3: 'Forward'}"
   ]
  },
  {
   "cell_type": "code",
   "execution_count": 15,
   "id": "5e97af28-1984-4de2-a3cd-9dc492d4a024",
   "metadata": {},
   "outputs": [],
   "source": [
    "features_df = data_df.drop('Position', axis = 1)\n",
    "labels = data_df['Position']"
   ]
  },
  {
   "cell_type": "code",
   "execution_count": 16,
   "id": "352346e9-13e1-4300-b133-2e2e75563820",
   "metadata": {},
   "outputs": [
    {
     "data": {
      "text/plain": [
       "0"
      ]
     },
     "execution_count": 16,
     "metadata": {},
     "output_type": "execute_result"
    }
   ],
   "source": [
    "data_df['Position'].isnull().sum()"
   ]
  },
  {
   "cell_type": "code",
   "execution_count": 17,
   "id": "1644bc88",
   "metadata": {},
   "outputs": [
    {
     "data": {
      "text/plain": [
       "((14517, 33), (3630, 33), (14517,), (3630,))"
      ]
     },
     "execution_count": 17,
     "metadata": {},
     "output_type": "execute_result"
    }
   ],
   "source": [
    "# splitting in train ans test datasets\n",
    "X_train, X_test, y_train, y_test = train_test_split(features_df, labels,\n",
    "                                     stratify=labels,\n",
    "                                     test_size=TEST_SIZE, \n",
    "                                     random_state=RANDOM_STATE )\n",
    "X_train.shape, X_test.shape, y_train.shape, y_test.shape"
   ]
  },
  {
   "cell_type": "code",
   "execution_count": 18,
   "id": "41f368ae-3a4a-453e-8ad4-e9d07db1e5d4",
   "metadata": {},
   "outputs": [],
   "source": [
    "sc = StandardScaler()\n",
    "\n",
    "X_train = sc.fit_transform(X_train)\n",
    "X_test = sc.transform(X_test)"
   ]
  },
  {
   "cell_type": "code",
   "execution_count": 19,
   "id": "4602e774-78ae-44a2-8d95-a56434961a17",
   "metadata": {},
   "outputs": [
    {
     "data": {
      "text/plain": [
       "(14517, 33)"
      ]
     },
     "execution_count": 19,
     "metadata": {},
     "output_type": "execute_result"
    }
   ],
   "source": [
    "X_train.shape"
   ]
  },
  {
   "cell_type": "code",
   "execution_count": 20,
   "id": "0c6e7c9b-3448-463b-8743-ba13b08837de",
   "metadata": {},
   "outputs": [],
   "source": [
    "y_train = y_train.to_numpy()\n",
    "y_test = y_test.to_numpy()"
   ]
  },
  {
   "cell_type": "markdown",
   "id": "3a30b5e3-e834-4ec9-ab8d-a6e9e37dba96",
   "metadata": {},
   "source": [
    "# defining model"
   ]
  },
  {
   "cell_type": "code",
   "execution_count": 21,
   "id": "e34f1b95-f33e-48e5-9c7e-9f7d2c91e0de",
   "metadata": {},
   "outputs": [],
   "source": [
    "# 33 -> 23 -> 12 -> 4 -> 4 #diving layers"
   ]
  },
  {
   "cell_type": "markdown",
   "id": "0fa927b2-239b-4d9d-bcef-4cae2f318ae4",
   "metadata": {},
   "source": [
    "## with batch normalization"
   ]
  },
  {
   "cell_type": "code",
   "execution_count": 22,
   "id": "a9e45550-275a-4d9a-993c-5dd6ac394d0f",
   "metadata": {},
   "outputs": [
    {
     "name": "stdout",
     "output_type": "stream",
     "text": [
      "WARNING:tensorflow:From C:\\Users\\Administrator.DAI-PC2\\AppData\\Roaming\\Python\\Python311\\site-packages\\keras\\src\\backend.py:1398: The name tf.executing_eagerly_outside_functions is deprecated. Please use tf.compat.v1.executing_eagerly_outside_functions instead.\n",
      "\n"
     ]
    }
   ],
   "source": [
    "\n",
    "#initializer\n",
    "k_init = tf.keras.initializers.GlorotUniform(seed=RANDOM_STATE)\n",
    "\n",
    "#regularizer\n",
    "#k_reg = tf.keras.regularizers.L2(l2=REG_LAMBDA)\n",
    "k_reg = None\n",
    "\n",
    "#dropout rates\n",
    "dor1 = 0.35\n",
    "dor2 = 0.25\n",
    "dor3 = 0.15\n",
    "dor4 = 0.05\n",
    "\n",
    "model = tf.keras.Sequential([\n",
    "\n",
    "    #input layer\n",
    "    tf.keras.layers.InputLayer(input_shape = (33,)),\n",
    "\n",
    "    #each set contains 1 dense layer and 1 dropout\n",
    "    \n",
    "    #set 1\n",
    "    tf.keras.layers.Dense(33, \n",
    "                          #activation='relu', \n",
    "                          kernel_initializer = k_init, \n",
    "                          kernel_regularizer=k_reg),\n",
    "\n",
    "    #BN layer\n",
    "    tf.keras.layers.BatchNormalization(),\n",
    "    tf.keras.layers.ReLU(),\n",
    "    #DO Layer\n",
    "    #tf.keras.layers.Dropout(dor1),\n",
    "\n",
    "    ############################################################################\n",
    "    \n",
    "    #set 2\n",
    "    tf.keras.layers.Dense(23, \n",
    "                          #activation='relu', \n",
    "                          kernel_initializer=k_init, \n",
    "                          kernel_regularizer=k_reg),\n",
    "\n",
    "    #BN layer\n",
    "    tf.keras.layers.BatchNormalization(),\n",
    "    tf.keras.layers.ReLU(),\n",
    "    #DO Layer\n",
    "    #tf.keras.layers.Dropout(dor2),\n",
    "    ############################################################################\n",
    "     \n",
    "    #set 3\n",
    "    tf.keras.layers.Dense(12, \n",
    "                          #activation='relu', \n",
    "                          kernel_initializer=k_init, \n",
    "                          kernel_regularizer=k_reg),\n",
    "\n",
    "    #BN layer\n",
    "    tf.keras.layers.BatchNormalization(),\n",
    "    tf.keras.layers.ReLU(),\n",
    "    #DO Layer\n",
    "    #tf.keras.layers.Dropout(dor3),\n",
    "    ############################################################################\n",
    "    \n",
    "    #set 4\n",
    "    tf.keras.layers.Dense(4, \n",
    "                          #activation='relu', \n",
    "                          kernel_initializer=k_init, \n",
    "                          kernel_regularizer=k_reg),\n",
    "\n",
    "    #BN layer\n",
    "    tf.keras.layers.BatchNormalization(),\n",
    "    tf.keras.layers.ReLU(),\n",
    "    #DO Layer\n",
    "    #tf.keras.layers.Dropout(dor4),\n",
    "    ############################################################################\n",
    "\n",
    "    #output layer\n",
    "    tf.keras.layers.Dense(4)\n",
    "])"
   ]
  },
  {
   "cell_type": "markdown",
   "id": "2a3dccf7-de9a-4b2a-b30c-8411604a6ebd",
   "metadata": {},
   "source": [
    "## callbacks"
   ]
  },
  {
   "cell_type": "code",
   "execution_count": 23,
   "id": "cbbb5c4a-05f1-4d54-9474-91906577c214",
   "metadata": {},
   "outputs": [],
   "source": [
    "#when you want to change something in between epoch and before training is complete, is called callback\n",
    "\n",
    "checkpoint_path = os.path.join(modelDir, subDir, 'weights_tf_fifa1')\n",
    "#log_dir = os.path.join('.', 'logs', 'fit')\n",
    "\n",
    "model_checkpoint = tf.keras.callbacks.ModelCheckpoint(\n",
    "    checkpoint_path,\n",
    "    monitor='val_loss',\n",
    "    verbose=2,\n",
    "    save_best_only=True,\n",
    "    save_weights_only=True,\n",
    "    mode='auto')\n",
    "\n",
    "es_checkpoint = tf.keras.callbacks.EarlyStopping( #early stopping call back, after some time \n",
    "    monitor='val_loss',                           #if there is no change in loss then assume it is only your good weights\n",
    "    patience=PATIENCE,\n",
    "    verbose=2,\n",
    "    mode='auto',\n",
    "    restore_best_weights=True\n",
    ")\n",
    "\n",
    "lr_checkpoint = tf.keras.callbacks.ReduceLROnPlateau(   #learning rate call back used for decreasing learning rate, when loss is not improving\n",
    "    monitor='val_loss',\n",
    "    factor=LR_FACTOR,\n",
    "    patience=LR_PATIENCE,\n",
    "    verbose=2,\n",
    "    mode='auto',\n",
    "    min_lr=0.00001\n",
    ")\n",
    "\n",
    "log_dir = os.path.join(logDir, 'fit')\n",
    "tb_callback = tf.keras.callbacks.TensorBoard(log_dir=log_dir, histogram_freq=1)"
   ]
  },
  {
   "cell_type": "code",
   "execution_count": 24,
   "id": "86bc6c8c-6596-40e9-919f-c2c375da2070",
   "metadata": {},
   "outputs": [
    {
     "data": {
      "text/plain": [
       "<tf.Tensor: shape=(1, 4), dtype=float32, numpy=\n",
       "array([[-0.08950209,  0.30905834, -0.00566845,  0.2638592 ]],\n",
       "      dtype=float32)>"
      ]
     },
     "execution_count": 24,
     "metadata": {},
     "output_type": "execute_result"
    }
   ],
   "source": [
    "model(X_train[:1])"
   ]
  },
  {
   "cell_type": "code",
   "execution_count": 25,
   "id": "c9807fab-82aa-4126-9456-1fa35a807164",
   "metadata": {},
   "outputs": [],
   "source": [
    "loss_fn = tf.keras.losses.SparseCategoricalCrossentropy(from_logits=True)\n",
    "optimizer = tf.keras.optimizers.Adam(learning_rate = ALPHA)"
   ]
  },
  {
   "cell_type": "code",
   "execution_count": 26,
   "id": "26f21238-b48f-4e62-abe8-7e7c7ef35636",
   "metadata": {
    "scrolled": true
   },
   "outputs": [
    {
     "name": "stdout",
     "output_type": "stream",
     "text": [
      "Epoch 1/1000\n",
      "WARNING:tensorflow:From C:\\Users\\Administrator.DAI-PC2\\AppData\\Roaming\\Python\\Python311\\site-packages\\keras\\src\\utils\\tf_utils.py:492: The name tf.ragged.RaggedTensorValue is deprecated. Please use tf.compat.v1.ragged.RaggedTensorValue instead.\n",
      "\n",
      "WARNING:tensorflow:From C:\\Users\\Administrator.DAI-PC2\\AppData\\Roaming\\Python\\Python311\\site-packages\\keras\\src\\engine\\base_layer_utils.py:384: The name tf.executing_eagerly_outside_functions is deprecated. Please use tf.compat.v1.executing_eagerly_outside_functions instead.\n",
      "\n",
      "\n",
      "Epoch 1: val_loss improved from inf to 0.47789, saving model to ./models\\fifa_2019\\weights_tf_fifa1\n",
      "454/454 - 7s - loss: 0.7511 - accuracy: 0.7650 - val_loss: 0.4779 - val_accuracy: 0.8421 - lr: 0.0010 - 7s/epoch - 14ms/step\n",
      "Epoch 2/1000\n",
      "\n",
      "Epoch 2: val_loss improved from 0.47789 to 0.37003, saving model to ./models\\fifa_2019\\weights_tf_fifa1\n",
      "454/454 - 2s - loss: 0.4552 - accuracy: 0.8522 - val_loss: 0.3700 - val_accuracy: 0.8639 - lr: 0.0010 - 2s/epoch - 5ms/step\n",
      "Epoch 3/1000\n",
      "\n",
      "Epoch 3: val_loss improved from 0.37003 to 0.33140, saving model to ./models\\fifa_2019\\weights_tf_fifa1\n",
      "454/454 - 2s - loss: 0.3794 - accuracy: 0.8599 - val_loss: 0.3314 - val_accuracy: 0.8656 - lr: 0.0010 - 2s/epoch - 5ms/step\n",
      "Epoch 4/1000\n",
      "\n",
      "Epoch 4: val_loss improved from 0.33140 to 0.31459, saving model to ./models\\fifa_2019\\weights_tf_fifa1\n",
      "454/454 - 3s - loss: 0.3481 - accuracy: 0.8602 - val_loss: 0.3146 - val_accuracy: 0.8749 - lr: 0.0010 - 3s/epoch - 6ms/step\n",
      "Epoch 5/1000\n",
      "\n",
      "Epoch 5: val_loss did not improve from 0.31459\n",
      "454/454 - 2s - loss: 0.3321 - accuracy: 0.8653 - val_loss: 0.3153 - val_accuracy: 0.8636 - lr: 0.0010 - 2s/epoch - 5ms/step\n",
      "Epoch 6/1000\n",
      "\n",
      "Epoch 6: val_loss improved from 0.31459 to 0.30845, saving model to ./models\\fifa_2019\\weights_tf_fifa1\n",
      "454/454 - 3s - loss: 0.3315 - accuracy: 0.8654 - val_loss: 0.3084 - val_accuracy: 0.8689 - lr: 0.0010 - 3s/epoch - 6ms/step\n",
      "Epoch 7/1000\n",
      "\n",
      "Epoch 7: val_loss improved from 0.30845 to 0.30344, saving model to ./models\\fifa_2019\\weights_tf_fifa1\n",
      "454/454 - 3s - loss: 0.3194 - accuracy: 0.8684 - val_loss: 0.3034 - val_accuracy: 0.8738 - lr: 0.0010 - 3s/epoch - 6ms/step\n",
      "Epoch 8/1000\n",
      "\n",
      "Epoch 8: val_loss did not improve from 0.30344\n",
      "454/454 - 2s - loss: 0.3165 - accuracy: 0.8704 - val_loss: 0.3065 - val_accuracy: 0.8705 - lr: 0.0010 - 2s/epoch - 4ms/step\n",
      "Epoch 9/1000\n",
      "\n",
      "Epoch 9: val_loss did not improve from 0.30344\n",
      "454/454 - 3s - loss: 0.3129 - accuracy: 0.8704 - val_loss: 0.3161 - val_accuracy: 0.8601 - lr: 0.0010 - 3s/epoch - 6ms/step\n",
      "Epoch 10/1000\n",
      "\n",
      "Epoch 10: val_loss improved from 0.30344 to 0.30276, saving model to ./models\\fifa_2019\\weights_tf_fifa1\n",
      "454/454 - 3s - loss: 0.3109 - accuracy: 0.8729 - val_loss: 0.3028 - val_accuracy: 0.8727 - lr: 0.0010 - 3s/epoch - 6ms/step\n",
      "Epoch 11/1000\n",
      "\n",
      "Epoch 11: val_loss improved from 0.30276 to 0.29719, saving model to ./models\\fifa_2019\\weights_tf_fifa1\n",
      "454/454 - 2s - loss: 0.3138 - accuracy: 0.8689 - val_loss: 0.2972 - val_accuracy: 0.8771 - lr: 0.0010 - 2s/epoch - 5ms/step\n",
      "Epoch 12/1000\n",
      "\n",
      "Epoch 12: val_loss improved from 0.29719 to 0.29716, saving model to ./models\\fifa_2019\\weights_tf_fifa1\n",
      "454/454 - 2s - loss: 0.3060 - accuracy: 0.8737 - val_loss: 0.2972 - val_accuracy: 0.8821 - lr: 0.0010 - 2s/epoch - 5ms/step\n",
      "Epoch 13/1000\n",
      "\n",
      "Epoch 13: val_loss did not improve from 0.29716\n",
      "454/454 - 2s - loss: 0.3057 - accuracy: 0.8737 - val_loss: 0.2973 - val_accuracy: 0.8780 - lr: 0.0010 - 2s/epoch - 5ms/step\n",
      "Epoch 14/1000\n",
      "\n",
      "Epoch 14: val_loss did not improve from 0.29716\n",
      "454/454 - 2s - loss: 0.3039 - accuracy: 0.8736 - val_loss: 0.3007 - val_accuracy: 0.8741 - lr: 0.0010 - 2s/epoch - 5ms/step\n",
      "Epoch 15/1000\n",
      "\n",
      "Epoch 15: val_loss did not improve from 0.29716\n",
      "454/454 - 2s - loss: 0.2962 - accuracy: 0.8786 - val_loss: 0.2994 - val_accuracy: 0.8771 - lr: 0.0010 - 2s/epoch - 6ms/step\n",
      "Epoch 16/1000\n",
      "\n",
      "Epoch 16: val_loss improved from 0.29716 to 0.29418, saving model to ./models\\fifa_2019\\weights_tf_fifa1\n",
      "454/454 - 3s - loss: 0.2974 - accuracy: 0.8786 - val_loss: 0.2942 - val_accuracy: 0.8777 - lr: 0.0010 - 3s/epoch - 6ms/step\n",
      "Epoch 17/1000\n",
      "\n",
      "Epoch 17: val_loss did not improve from 0.29418\n",
      "454/454 - 2s - loss: 0.3010 - accuracy: 0.8735 - val_loss: 0.2972 - val_accuracy: 0.8727 - lr: 0.0010 - 2s/epoch - 4ms/step\n",
      "Epoch 18/1000\n",
      "\n",
      "Epoch 18: val_loss did not improve from 0.29418\n",
      "454/454 - 2s - loss: 0.2973 - accuracy: 0.8797 - val_loss: 0.2979 - val_accuracy: 0.8716 - lr: 0.0010 - 2s/epoch - 5ms/step\n",
      "Epoch 19/1000\n",
      "\n",
      "Epoch 19: val_loss did not improve from 0.29418\n",
      "454/454 - 3s - loss: 0.2962 - accuracy: 0.8771 - val_loss: 0.2946 - val_accuracy: 0.8788 - lr: 0.0010 - 3s/epoch - 6ms/step\n",
      "Epoch 20/1000\n",
      "\n",
      "Epoch 20: val_loss did not improve from 0.29418\n",
      "454/454 - 3s - loss: 0.2948 - accuracy: 0.8797 - val_loss: 0.2965 - val_accuracy: 0.8771 - lr: 0.0010 - 3s/epoch - 6ms/step\n",
      "Epoch 21/1000\n",
      "\n",
      "Epoch 21: val_loss improved from 0.29418 to 0.29385, saving model to ./models\\fifa_2019\\weights_tf_fifa1\n",
      "454/454 - 3s - loss: 0.2948 - accuracy: 0.8826 - val_loss: 0.2939 - val_accuracy: 0.8769 - lr: 0.0010 - 3s/epoch - 6ms/step\n",
      "Epoch 22/1000\n",
      "\n",
      "Epoch 22: val_loss did not improve from 0.29385\n",
      "454/454 - 2s - loss: 0.2932 - accuracy: 0.8788 - val_loss: 0.2955 - val_accuracy: 0.8769 - lr: 0.0010 - 2s/epoch - 5ms/step\n",
      "Epoch 23/1000\n",
      "\n",
      "Epoch 23: val_loss did not improve from 0.29385\n",
      "454/454 - 2s - loss: 0.2896 - accuracy: 0.8803 - val_loss: 0.2940 - val_accuracy: 0.8774 - lr: 0.0010 - 2s/epoch - 5ms/step\n",
      "Epoch 24/1000\n",
      "\n",
      "Epoch 24: val_loss did not improve from 0.29385\n",
      "454/454 - 3s - loss: 0.2929 - accuracy: 0.8812 - val_loss: 0.2959 - val_accuracy: 0.8749 - lr: 0.0010 - 3s/epoch - 6ms/step\n",
      "Epoch 25/1000\n",
      "\n",
      "Epoch 25: val_loss improved from 0.29385 to 0.29354, saving model to ./models\\fifa_2019\\weights_tf_fifa1\n",
      "454/454 - 3s - loss: 0.2918 - accuracy: 0.8775 - val_loss: 0.2935 - val_accuracy: 0.8785 - lr: 0.0010 - 3s/epoch - 6ms/step\n",
      "Epoch 26/1000\n",
      "\n",
      "Epoch 26: val_loss did not improve from 0.29354\n",
      "454/454 - 2s - loss: 0.2875 - accuracy: 0.8811 - val_loss: 0.2978 - val_accuracy: 0.8755 - lr: 0.0010 - 2s/epoch - 5ms/step\n",
      "Epoch 27/1000\n",
      "\n",
      "Epoch 27: val_loss did not improve from 0.29354\n",
      "454/454 - 2s - loss: 0.2881 - accuracy: 0.8804 - val_loss: 0.2971 - val_accuracy: 0.8771 - lr: 0.0010 - 2s/epoch - 5ms/step\n",
      "Epoch 28/1000\n",
      "\n",
      "Epoch 28: val_loss did not improve from 0.29354\n",
      "454/454 - 2s - loss: 0.2880 - accuracy: 0.8808 - val_loss: 0.2992 - val_accuracy: 0.8716 - lr: 0.0010 - 2s/epoch - 5ms/step\n",
      "Epoch 29/1000\n",
      "\n",
      "Epoch 29: val_loss did not improve from 0.29354\n",
      "454/454 - 3s - loss: 0.2919 - accuracy: 0.8772 - val_loss: 0.3013 - val_accuracy: 0.8758 - lr: 0.0010 - 3s/epoch - 6ms/step\n",
      "Epoch 30/1000\n",
      "\n",
      "Epoch 30: val_loss did not improve from 0.29354\n",
      "454/454 - 3s - loss: 0.2850 - accuracy: 0.8832 - val_loss: 0.2973 - val_accuracy: 0.8769 - lr: 0.0010 - 3s/epoch - 6ms/step\n",
      "Epoch 31/1000\n",
      "\n",
      "Epoch 31: val_loss did not improve from 0.29354\n",
      "454/454 - 2s - loss: 0.2859 - accuracy: 0.8786 - val_loss: 0.2967 - val_accuracy: 0.8736 - lr: 0.0010 - 2s/epoch - 5ms/step\n",
      "Epoch 32/1000\n",
      "\n",
      "Epoch 32: val_loss did not improve from 0.29354\n",
      "454/454 - 3s - loss: 0.2835 - accuracy: 0.8822 - val_loss: 0.2969 - val_accuracy: 0.8766 - lr: 0.0010 - 3s/epoch - 6ms/step\n",
      "Epoch 33/1000\n",
      "\n",
      "Epoch 33: val_loss did not improve from 0.29354\n",
      "454/454 - 3s - loss: 0.2827 - accuracy: 0.8818 - val_loss: 0.3064 - val_accuracy: 0.8719 - lr: 0.0010 - 3s/epoch - 6ms/step\n",
      "Epoch 34/1000\n",
      "\n",
      "Epoch 34: val_loss did not improve from 0.29354\n",
      "454/454 - 2s - loss: 0.2814 - accuracy: 0.8850 - val_loss: 0.3012 - val_accuracy: 0.8758 - lr: 0.0010 - 2s/epoch - 5ms/step\n",
      "Epoch 35/1000\n",
      "\n",
      "Epoch 35: val_loss did not improve from 0.29354\n",
      "\n",
      "Epoch 35: ReduceLROnPlateau reducing learning rate to 0.00010000000474974513.\n",
      "454/454 - 3s - loss: 0.2804 - accuracy: 0.8844 - val_loss: 0.3014 - val_accuracy: 0.8738 - lr: 0.0010 - 3s/epoch - 6ms/step\n",
      "Epoch 36/1000\n",
      "\n",
      "Epoch 36: val_loss did not improve from 0.29354\n",
      "454/454 - 3s - loss: 0.2755 - accuracy: 0.8868 - val_loss: 0.2982 - val_accuracy: 0.8727 - lr: 1.0000e-04 - 3s/epoch - 6ms/step\n",
      "Epoch 37/1000\n",
      "\n",
      "Epoch 37: val_loss did not improve from 0.29354\n",
      "454/454 - 3s - loss: 0.2703 - accuracy: 0.8874 - val_loss: 0.2975 - val_accuracy: 0.8727 - lr: 1.0000e-04 - 3s/epoch - 6ms/step\n",
      "Epoch 38/1000\n",
      "\n",
      "Epoch 38: val_loss did not improve from 0.29354\n",
      "454/454 - 3s - loss: 0.2687 - accuracy: 0.8875 - val_loss: 0.2979 - val_accuracy: 0.8738 - lr: 1.0000e-04 - 3s/epoch - 6ms/step\n",
      "Epoch 39/1000\n",
      "\n",
      "Epoch 39: val_loss did not improve from 0.29354\n",
      "454/454 - 2s - loss: 0.2697 - accuracy: 0.8883 - val_loss: 0.2984 - val_accuracy: 0.8738 - lr: 1.0000e-04 - 2s/epoch - 5ms/step\n",
      "Epoch 40/1000\n",
      "\n",
      "Epoch 40: val_loss did not improve from 0.29354\n",
      "454/454 - 2s - loss: 0.2715 - accuracy: 0.8852 - val_loss: 0.2975 - val_accuracy: 0.8741 - lr: 1.0000e-04 - 2s/epoch - 5ms/step\n",
      "Epoch 41/1000\n",
      "\n",
      "Epoch 41: val_loss did not improve from 0.29354\n",
      "454/454 - 3s - loss: 0.2710 - accuracy: 0.8856 - val_loss: 0.2992 - val_accuracy: 0.8719 - lr: 1.0000e-04 - 3s/epoch - 6ms/step\n",
      "Epoch 42/1000\n",
      "\n",
      "Epoch 42: val_loss did not improve from 0.29354\n",
      "454/454 - 3s - loss: 0.2657 - accuracy: 0.8872 - val_loss: 0.2995 - val_accuracy: 0.8733 - lr: 1.0000e-04 - 3s/epoch - 6ms/step\n",
      "Epoch 43/1000\n",
      "\n",
      "Epoch 43: val_loss did not improve from 0.29354\n",
      "454/454 - 3s - loss: 0.2709 - accuracy: 0.8870 - val_loss: 0.2986 - val_accuracy: 0.8744 - lr: 1.0000e-04 - 3s/epoch - 6ms/step\n",
      "Epoch 44/1000\n",
      "\n",
      "Epoch 44: val_loss did not improve from 0.29354\n",
      "454/454 - 3s - loss: 0.2690 - accuracy: 0.8892 - val_loss: 0.2988 - val_accuracy: 0.8725 - lr: 1.0000e-04 - 3s/epoch - 6ms/step\n",
      "Epoch 45/1000\n",
      "\n",
      "Epoch 45: val_loss did not improve from 0.29354\n",
      "Restoring model weights from the end of the best epoch: 25.\n",
      "\n",
      "Epoch 45: ReduceLROnPlateau reducing learning rate to 1.0000000474974514e-05.\n",
      "454/454 - 3s - loss: 0.2661 - accuracy: 0.8891 - val_loss: 0.2991 - val_accuracy: 0.8727 - lr: 1.0000e-04 - 3s/epoch - 6ms/step\n",
      "Epoch 45: early stopping\n"
     ]
    }
   ],
   "source": [
    "model.compile(optimizer=optimizer, loss=loss_fn, metrics=['accuracy'])\n",
    "history = model.fit(X_train, y_train, validation_data=(X_test, y_test),\n",
    "                    batch_size=BATCH_SIZE,\n",
    "                    epochs=EPOCHS,\n",
    "                    callbacks = [model_checkpoint, es_checkpoint, lr_checkpoint,tb_callback],\n",
    "                    verbose=2\n",
    "                   )"
   ]
  },
  {
   "cell_type": "code",
   "execution_count": 27,
   "id": "6cf6dcda-fc03-4189-a94f-67e2e3d32b26",
   "metadata": {},
   "outputs": [
    {
     "data": {
      "text/html": [
       "<div>\n",
       "<style scoped>\n",
       "    .dataframe tbody tr th:only-of-type {\n",
       "        vertical-align: middle;\n",
       "    }\n",
       "\n",
       "    .dataframe tbody tr th {\n",
       "        vertical-align: top;\n",
       "    }\n",
       "\n",
       "    .dataframe thead th {\n",
       "        text-align: right;\n",
       "    }\n",
       "</style>\n",
       "<table border=\"1\" class=\"dataframe\">\n",
       "  <thead>\n",
       "    <tr style=\"text-align: right;\">\n",
       "      <th></th>\n",
       "      <th>loss</th>\n",
       "      <th>accuracy</th>\n",
       "      <th>val_loss</th>\n",
       "      <th>val_accuracy</th>\n",
       "      <th>lr</th>\n",
       "    </tr>\n",
       "  </thead>\n",
       "  <tbody>\n",
       "    <tr>\n",
       "      <th>0</th>\n",
       "      <td>0.751143</td>\n",
       "      <td>0.764965</td>\n",
       "      <td>0.477885</td>\n",
       "      <td>0.842149</td>\n",
       "      <td>0.001</td>\n",
       "    </tr>\n",
       "    <tr>\n",
       "      <th>1</th>\n",
       "      <td>0.455199</td>\n",
       "      <td>0.852242</td>\n",
       "      <td>0.370025</td>\n",
       "      <td>0.863912</td>\n",
       "      <td>0.001</td>\n",
       "    </tr>\n",
       "    <tr>\n",
       "      <th>2</th>\n",
       "      <td>0.379402</td>\n",
       "      <td>0.859888</td>\n",
       "      <td>0.331396</td>\n",
       "      <td>0.865565</td>\n",
       "      <td>0.001</td>\n",
       "    </tr>\n",
       "    <tr>\n",
       "      <th>3</th>\n",
       "      <td>0.348142</td>\n",
       "      <td>0.860233</td>\n",
       "      <td>0.314588</td>\n",
       "      <td>0.874931</td>\n",
       "      <td>0.001</td>\n",
       "    </tr>\n",
       "    <tr>\n",
       "      <th>4</th>\n",
       "      <td>0.332085</td>\n",
       "      <td>0.865261</td>\n",
       "      <td>0.315309</td>\n",
       "      <td>0.863636</td>\n",
       "      <td>0.001</td>\n",
       "    </tr>\n",
       "  </tbody>\n",
       "</table>\n",
       "</div>"
      ],
      "text/plain": [
       "       loss  accuracy  val_loss  val_accuracy     lr\n",
       "0  0.751143  0.764965  0.477885      0.842149  0.001\n",
       "1  0.455199  0.852242  0.370025      0.863912  0.001\n",
       "2  0.379402  0.859888  0.331396      0.865565  0.001\n",
       "3  0.348142  0.860233  0.314588      0.874931  0.001\n",
       "4  0.332085  0.865261  0.315309      0.863636  0.001"
      ]
     },
     "execution_count": 27,
     "metadata": {},
     "output_type": "execute_result"
    }
   ],
   "source": [
    "loss_df = pd.DataFrame(history.history)\n",
    "loss_df.head()"
   ]
  },
  {
   "cell_type": "code",
   "execution_count": 28,
   "id": "46eb4941-6ace-4bc8-9b09-e446edc1cc00",
   "metadata": {},
   "outputs": [
    {
     "data": {
      "image/png": "[encoded data removed]",
      "text/plain": [
       "<Figure size 1500x600 with 2 Axes>"
      ]
     },
     "metadata": {},
     "output_type": "display_data"
    }
   ],
   "source": [
    "fn_plot_tf_hist(loss_df)"
   ]
  },
  {
   "cell_type": "code",
   "execution_count": 29,
   "id": "cfa7edd5-9dbe-40e7-9cfb-6edd99189389",
   "metadata": {},
   "outputs": [
    {
     "name": "stdout",
     "output_type": "stream",
     "text": [
      "114/114 [==============================] - 0s 3ms/step - loss: 0.2935 - accuracy: 0.8785\n"
     ]
    },
    {
     "data": {
      "text/plain": [
       "[0.29354172945022583, 0.8785123825073242]"
      ]
     },
     "execution_count": 29,
     "metadata": {},
     "output_type": "execute_result"
    }
   ],
   "source": [
    "model.evaluate(X_test, y_test)"
   ]
  }
 ],
 "metadata": {
  "kernelspec": {
   "display_name": "Python 3 (ipykernel)",
   "language": "python",
   "name": "python3"
  },
  "language_info": {
   "codemirror_mode": {
    "name": "ipython",
    "version": 3
   },
   "file_extension": ".py",
   "mimetype": "text/x-python",
   "name": "python",
   "nbconvert_exporter": "python",
   "pygments_lexer": "ipython3",
   "version": "3.11.7"
  }
 },
 "nbformat": 4,
 "nbformat_minor": 5
}
