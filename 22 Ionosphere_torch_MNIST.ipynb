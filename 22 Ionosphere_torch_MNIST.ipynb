{
 "cells": [
  {
   "cell_type": "code",
   "execution_count": 1,
   "id": "a2e75ead",
   "metadata": {},
   "outputs": [],
   "source": [
    "#!/usr/bin/env python\n",
    "# -*- coding: utf-8 -*-"
   ]
  },
  {
   "cell_type": "code",
   "execution_count": 2,
   "id": "3d52e7d5",
   "metadata": {},
   "outputs": [],
   "source": [
    "###-----------------\n",
    "### Import Libraries\n",
    "###-----------------\n",
    "\n",
    "import os\n",
    "import numpy as np\n",
    "import pandas as pd\n",
    "\n",
    "from sklearn.metrics import accuracy_score, classification_report\n",
    "from sklearn.model_selection import train_test_split\n",
    "from sklearn.preprocessing import StandardScaler, LabelEncoder\n",
    "import matplotlib.pyplot as plt\n",
    "\n",
    "\n",
    "import torch\n",
    "import torch.nn as nn\n",
    "from torch.utils.data import DataLoader, Dataset\n",
    "\n",
    "from utils.helper import fn_plot_torch_hist, fn_plot_confusion_matrix"
   ]
  },
  {
   "cell_type": "code",
   "execution_count": 3,
   "id": "b32a9af9",
   "metadata": {},
   "outputs": [],
   "source": [
    "###----------------------\n",
    "### Some basic parameters\n",
    "###----------------------\n",
    "\n",
    "inpDir = '../input'\n",
    "outDir = '../output'\n",
    "modelDir = '../models'\n",
    "subDir = 'ionosphere'\n",
    "\n",
    "RANDOM_STATE = 24 # for initialization ----- REMEMBER: to remove at the time of promotion to production\n",
    "torch.manual_seed(RANDOM_STATE) # Set Random Seed for reproducible  results\n",
    "\n",
    "EPOCHS = 500 # number of epochs\n",
    "BATCH_SIZE = 16\n",
    "ALPHA = 0.001 # learning rate\n",
    "TRAIN_SIZE = int(17*BATCH_SIZE) # complete batches\n",
    "\n",
    "WEIGHT_DECAY = 0.001\n",
    "PATIENCE = 30\n",
    "LR_FACTOR = 0.1\n",
    "LR_PATIENCE = 10\n",
    "\n",
    "# parameters for Matplotlib\n",
    "params = {'legend.fontsize': 'medium',\n",
    "          'figure.figsize': (15, 10),\n",
    "          'axes.labelsize': 'large',\n",
    "          'axes.titlesize':'large',\n",
    "          'xtick.labelsize':'medium',\n",
    "          'ytick.labelsize':'medium'\n",
    "         }\n",
    "\n",
    "CMAP = plt.cm.brg\n",
    "\n",
    "plt.rcParams.update(params)"
   ]
  },
  {
   "cell_type": "markdown",
   "id": "591b1fc2",
   "metadata": {},
   "source": [
    "## Read MNIST FASHION data set"
   ]
  },
  {
   "cell_type": "code",
   "execution_count": 4,
   "id": "a2177d69",
   "metadata": {},
   "outputs": [
    {
     "data": {
      "text/html": [
       "<div>\n",
       "<style scoped>\n",
       "    .dataframe tbody tr th:only-of-type {\n",
       "        vertical-align: middle;\n",
       "    }\n",
       "\n",
       "    .dataframe tbody tr th {\n",
       "        vertical-align: top;\n",
       "    }\n",
       "\n",
       "    .dataframe thead th {\n",
       "        text-align: right;\n",
       "    }\n",
       "</style>\n",
       "<table border=\"1\" class=\"dataframe\">\n",
       "  <thead>\n",
       "    <tr style=\"text-align: right;\">\n",
       "      <th></th>\n",
       "      <th>0</th>\n",
       "      <th>1</th>\n",
       "      <th>2</th>\n",
       "      <th>3</th>\n",
       "      <th>4</th>\n",
       "      <th>5</th>\n",
       "      <th>6</th>\n",
       "      <th>7</th>\n",
       "      <th>8</th>\n",
       "      <th>9</th>\n",
       "      <th>...</th>\n",
       "      <th>25</th>\n",
       "      <th>26</th>\n",
       "      <th>27</th>\n",
       "      <th>28</th>\n",
       "      <th>29</th>\n",
       "      <th>30</th>\n",
       "      <th>31</th>\n",
       "      <th>32</th>\n",
       "      <th>33</th>\n",
       "      <th>34</th>\n",
       "    </tr>\n",
       "  </thead>\n",
       "  <tbody>\n",
       "    <tr>\n",
       "      <th>0</th>\n",
       "      <td>1</td>\n",
       "      <td>0</td>\n",
       "      <td>0.99539</td>\n",
       "      <td>-0.05889</td>\n",
       "      <td>0.85243</td>\n",
       "      <td>0.02306</td>\n",
       "      <td>0.83398</td>\n",
       "      <td>-0.37708</td>\n",
       "      <td>1.00000</td>\n",
       "      <td>0.03760</td>\n",
       "      <td>...</td>\n",
       "      <td>-0.51171</td>\n",
       "      <td>0.41078</td>\n",
       "      <td>-0.46168</td>\n",
       "      <td>0.21266</td>\n",
       "      <td>-0.34090</td>\n",
       "      <td>0.42267</td>\n",
       "      <td>-0.54487</td>\n",
       "      <td>0.18641</td>\n",
       "      <td>-0.45300</td>\n",
       "      <td>g</td>\n",
       "    </tr>\n",
       "    <tr>\n",
       "      <th>1</th>\n",
       "      <td>1</td>\n",
       "      <td>0</td>\n",
       "      <td>1.00000</td>\n",
       "      <td>-0.18829</td>\n",
       "      <td>0.93035</td>\n",
       "      <td>-0.36156</td>\n",
       "      <td>-0.10868</td>\n",
       "      <td>-0.93597</td>\n",
       "      <td>1.00000</td>\n",
       "      <td>-0.04549</td>\n",
       "      <td>...</td>\n",
       "      <td>-0.26569</td>\n",
       "      <td>-0.20468</td>\n",
       "      <td>-0.18401</td>\n",
       "      <td>-0.19040</td>\n",
       "      <td>-0.11593</td>\n",
       "      <td>-0.16626</td>\n",
       "      <td>-0.06288</td>\n",
       "      <td>-0.13738</td>\n",
       "      <td>-0.02447</td>\n",
       "      <td>b</td>\n",
       "    </tr>\n",
       "    <tr>\n",
       "      <th>2</th>\n",
       "      <td>1</td>\n",
       "      <td>0</td>\n",
       "      <td>1.00000</td>\n",
       "      <td>-0.03365</td>\n",
       "      <td>1.00000</td>\n",
       "      <td>0.00485</td>\n",
       "      <td>1.00000</td>\n",
       "      <td>-0.12062</td>\n",
       "      <td>0.88965</td>\n",
       "      <td>0.01198</td>\n",
       "      <td>...</td>\n",
       "      <td>-0.40220</td>\n",
       "      <td>0.58984</td>\n",
       "      <td>-0.22145</td>\n",
       "      <td>0.43100</td>\n",
       "      <td>-0.17365</td>\n",
       "      <td>0.60436</td>\n",
       "      <td>-0.24180</td>\n",
       "      <td>0.56045</td>\n",
       "      <td>-0.38238</td>\n",
       "      <td>g</td>\n",
       "    </tr>\n",
       "    <tr>\n",
       "      <th>3</th>\n",
       "      <td>1</td>\n",
       "      <td>0</td>\n",
       "      <td>1.00000</td>\n",
       "      <td>-0.45161</td>\n",
       "      <td>1.00000</td>\n",
       "      <td>1.00000</td>\n",
       "      <td>0.71216</td>\n",
       "      <td>-1.00000</td>\n",
       "      <td>0.00000</td>\n",
       "      <td>0.00000</td>\n",
       "      <td>...</td>\n",
       "      <td>0.90695</td>\n",
       "      <td>0.51613</td>\n",
       "      <td>1.00000</td>\n",
       "      <td>1.00000</td>\n",
       "      <td>-0.20099</td>\n",
       "      <td>0.25682</td>\n",
       "      <td>1.00000</td>\n",
       "      <td>-0.32382</td>\n",
       "      <td>1.00000</td>\n",
       "      <td>b</td>\n",
       "    </tr>\n",
       "    <tr>\n",
       "      <th>4</th>\n",
       "      <td>1</td>\n",
       "      <td>0</td>\n",
       "      <td>1.00000</td>\n",
       "      <td>-0.02401</td>\n",
       "      <td>0.94140</td>\n",
       "      <td>0.06531</td>\n",
       "      <td>0.92106</td>\n",
       "      <td>-0.23255</td>\n",
       "      <td>0.77152</td>\n",
       "      <td>-0.16399</td>\n",
       "      <td>...</td>\n",
       "      <td>-0.65158</td>\n",
       "      <td>0.13290</td>\n",
       "      <td>-0.53206</td>\n",
       "      <td>0.02431</td>\n",
       "      <td>-0.62197</td>\n",
       "      <td>-0.05707</td>\n",
       "      <td>-0.59573</td>\n",
       "      <td>-0.04608</td>\n",
       "      <td>-0.65697</td>\n",
       "      <td>g</td>\n",
       "    </tr>\n",
       "  </tbody>\n",
       "</table>\n",
       "<p>5 rows × 35 columns</p>\n",
       "</div>"
      ],
      "text/plain": [
       "   0   1        2        3        4        5        6        7        8   \\\n",
       "0   1   0  0.99539 -0.05889  0.85243  0.02306  0.83398 -0.37708  1.00000   \n",
       "1   1   0  1.00000 -0.18829  0.93035 -0.36156 -0.10868 -0.93597  1.00000   \n",
       "2   1   0  1.00000 -0.03365  1.00000  0.00485  1.00000 -0.12062  0.88965   \n",
       "3   1   0  1.00000 -0.45161  1.00000  1.00000  0.71216 -1.00000  0.00000   \n",
       "4   1   0  1.00000 -0.02401  0.94140  0.06531  0.92106 -0.23255  0.77152   \n",
       "\n",
       "        9   ...       25       26       27       28       29       30  \\\n",
       "0  0.03760  ... -0.51171  0.41078 -0.46168  0.21266 -0.34090  0.42267   \n",
       "1 -0.04549  ... -0.26569 -0.20468 -0.18401 -0.19040 -0.11593 -0.16626   \n",
       "2  0.01198  ... -0.40220  0.58984 -0.22145  0.43100 -0.17365  0.60436   \n",
       "3  0.00000  ...  0.90695  0.51613  1.00000  1.00000 -0.20099  0.25682   \n",
       "4 -0.16399  ... -0.65158  0.13290 -0.53206  0.02431 -0.62197 -0.05707   \n",
       "\n",
       "        31       32       33  34  \n",
       "0 -0.54487  0.18641 -0.45300   g  \n",
       "1 -0.06288 -0.13738 -0.02447   b  \n",
       "2 -0.24180  0.56045 -0.38238   g  \n",
       "3  1.00000 -0.32382  1.00000   b  \n",
       "4 -0.59573 -0.04608 -0.65697   g  \n",
       "\n",
       "[5 rows x 35 columns]"
      ]
     },
     "execution_count": 4,
     "metadata": {},
     "output_type": "execute_result"
    }
   ],
   "source": [
    "trainFilepath = os.path.join(inpDir, subDir, 'ionosphere.data')\n",
    "\n",
    "\n",
    "data_df = pd.read_csv(trainFilepath, header = None)\n",
    "\n",
    "data_df.head()"
   ]
  },
  {
   "cell_type": "markdown",
   "id": "3d4b61d8",
   "metadata": {},
   "source": [
    "## All about CUDA"
   ]
  },
  {
   "cell_type": "code",
   "execution_count": 5,
   "id": "de6c4efd",
   "metadata": {},
   "outputs": [
    {
     "name": "stdout",
     "output_type": "stream",
     "text": [
      "Is CUDA available:  False\n",
      "CUDA version:  None\n"
     ]
    }
   ],
   "source": [
    "print ('Is CUDA available: ', torch.cuda.is_available())\n",
    "\n",
    "print ('CUDA version: ', torch.version.cuda )"
   ]
  },
  {
   "cell_type": "code",
   "execution_count": 6,
   "id": "8095ee67",
   "metadata": {},
   "outputs": [
    {
     "name": "stdout",
     "output_type": "stream",
     "text": [
      "Using cpu device\n"
     ]
    }
   ],
   "source": [
    "# Get cpu or gpu device for training.\n",
    "\n",
    "device = \"cuda\" if torch.cuda.is_available() else \"cpu\"\n",
    "\n",
    "print(f\"Using {device} device\")"
   ]
  },
  {
   "cell_type": "code",
   "execution_count": 7,
   "id": "703d3fda-0e50-461a-b16b-4fc234587070",
   "metadata": {},
   "outputs": [
    {
     "data": {
      "text/plain": [
       "(351, 35)"
      ]
     },
     "execution_count": 7,
     "metadata": {},
     "output_type": "execute_result"
    }
   ],
   "source": [
    "data_df.shape  "
   ]
  },
  {
   "cell_type": "code",
   "execution_count": 8,
   "id": "060c1f9d-1d8d-4385-a98b-6d4e4fa35f80",
   "metadata": {},
   "outputs": [
    {
     "name": "stdout",
     "output_type": "stream",
     "text": [
      "3.94875\n",
      "79\n"
     ]
    }
   ],
   "source": [
    "# to check in what ratio to split data\n",
    "print(351*0.18/16)\n",
    "print(351 -17 * 16)\n",
    "\n",
    "# changed batch size to 16 after this calculation and also changed train_size"
   ]
  },
  {
   "cell_type": "code",
   "execution_count": 9,
   "id": "5c5a8277-bac7-4eac-84d8-9822e654b5ba",
   "metadata": {},
   "outputs": [
    {
     "data": {
      "text/plain": [
       "((272, 35), (79, 35))"
      ]
     },
     "execution_count": 9,
     "metadata": {},
     "output_type": "execute_result"
    }
   ],
   "source": [
    "train_df , test_df = train_test_split(data_df, \n",
    "                                      train_size = TRAIN_SIZE, \n",
    "                                      stratify = data_df[data_df.columns[-1]]) \n",
    "train_df.shape, test_df.shape"
   ]
  },
  {
   "cell_type": "code",
   "execution_count": 10,
   "id": "69a0dfd8-9ca3-4795-9c96-cac06d632c5d",
   "metadata": {},
   "outputs": [],
   "source": [
    "'''Using Singleton design pattern'''\n",
    "\n",
    "class Transformers:\n",
    "    '''\n",
    "    Args :\n",
    "         has one standard scaler and one label encoder\n",
    "    '''\n",
    "    _instance = None\n",
    "    \n",
    "    def __init__ (self):\n",
    "        if Transformers._instance is not None:\n",
    "            raise Exception (\"GlobalScaler class is a singleton.\")\n",
    "\n",
    "        self.scaler = StandardScaler()\n",
    "        self.encoder = LabelEncoder()\n",
    "        \n",
    "    @classmethod\n",
    "    def get_instance(cls):\n",
    "        if cls._instance is None:\n",
    "            cls._instance = Transformers()\n",
    "        return cls._instance\n",
    "    "
   ]
  },
  {
   "cell_type": "code",
   "execution_count": 11,
   "id": "0c49f9e0",
   "metadata": {},
   "outputs": [],
   "source": [
    "'''\n",
    "In this code, we define a custom dataset called IonoDS that takes a DataFrame as input. \n",
    "\n",
    "'''\n",
    "class IonoDS(Dataset):\n",
    "\n",
    "    transformers = Transformers.get_instance()    #scaler and encoder\n",
    "    \n",
    "    def __init__(self, \n",
    "                 dataframe: pd.DataFrame, \n",
    "                 device : str = device,\n",
    "                 is_train = True,\n",
    "                 label_col = None\n",
    "                ):\n",
    "        super(IonoDS, self).__init__()\n",
    "        \n",
    "        self.df = dataframe\n",
    "        self.device = device\n",
    "        self.is_train = is_train\n",
    "        self.label_col = label_col\n",
    "        self.scaler = self.transformers.scaler\n",
    "        self.encoder = self.transformers.encoder\n",
    "\n",
    "        \n",
    "        y = self.df[self.label_col].to_numpy()\n",
    "        X = self.df.drop(self.label_col, axis = 1).to_numpy()\n",
    "        \n",
    "        \n",
    "        if self.is_train:\n",
    "            self.labels = self.encoder.fit_transform(y)\n",
    "            self.features = self.scaler.fit_transform(X)\n",
    "        else :\n",
    "            self.labels = self.encoder.transform(y)\n",
    "            self.features = self.scaler.transform(X)\n",
    "        \n",
    "    def __len__(self):\n",
    "        return len(self.features)\n",
    "    \n",
    "    def __getitem__(self, index):\n",
    "        # Extract features and label from the dataframe row\n",
    "        features = self.features[index]\n",
    "        label = self.labels[index]\n",
    "        \n",
    "        # Convert to PyTorch tensors\n",
    "        features = torch.tensor(features, \n",
    "                                dtype=torch.float32, \n",
    "                                device=self.device)\n",
    "        \n",
    "        label = torch.tensor(label, \n",
    "                             dtype=torch.int64, \n",
    "                             device=self.device)\n",
    "        \n",
    "        return features, label"
   ]
  },
  {
   "cell_type": "code",
   "execution_count": 12,
   "id": "2b527392",
   "metadata": {},
   "outputs": [],
   "source": [
    "class Model(nn.Module):\n",
    "    def __init__(self, input_dim):\n",
    "        super(Model, self).__init__()\n",
    "\n",
    "        # define Dropout rates\n",
    "        self.dor1 = 0.5\n",
    "        self.dor2 = 0.1\n",
    "        self.dor3 = 0.15\n",
    "\n",
    "        # Layer 1 \n",
    "        self.layer1 = nn.Linear(input_dim,26) # 34 x 26\n",
    "        self.bn1 = nn.BatchNorm1d(26)\n",
    "        self.activ1 = nn.ReLU()\n",
    "        self.dropout1 = nn.Dropout(self.dor1)\n",
    "\n",
    "\n",
    "        # Layer 2\n",
    "        self.layer2 = nn.Linear(26, 18)   # 26 x 18\n",
    "        self.bn2 = nn.BatchNorm1d(18)\n",
    "        self.activ2 = nn.ReLU()\n",
    "        self.dropout2 = nn.Dropout(self.dor2)\n",
    "\n",
    "        # Layer 3\n",
    "        self.layer3 = nn.Linear(18, 10)  # 18 x 10\n",
    "        self.bn3 = nn.BatchNorm1d(10)\n",
    "        self.activ3 = nn.ReLU()\n",
    "        self.dropout3 = nn.Dropout(self.dor3)\n",
    "\n",
    "        #Layer 4\n",
    "        self.layer4 = nn.Linear(10, 2)  # 10 x 2\n",
    "        self.softmax = nn.LogSoftmax(dim = 1)\n",
    "         \n",
    "    def forward(self, x):\n",
    "\n",
    "        # x = self.dropout1(self.activ1(self.bn1))   -->different way to write \n",
    "        x = self.layer1(x)\n",
    "        x = self.bn1(x)\n",
    "        x = self.activ1(x)\n",
    "        x = self.dropout1(x)\n",
    "\n",
    "        x = self.layer2(x)\n",
    "        x = self.bn2(x)\n",
    "        x = self.activ2(x)\n",
    "        x = self.dropout2(x)\n",
    "        \n",
    "        x = self.layer3(x)\n",
    "        x = self.bn3(x)\n",
    "        x = self.activ3(x)\n",
    "        x = self.dropout3(x)\n",
    "\n",
    "        x = self.layer4(x)\n",
    "        \n",
    "        return self.softmax(x)\n",
    "\n"
   ]
  },
  {
   "cell_type": "code",
   "execution_count": 13,
   "id": "c3ad6199-94ec-479f-9c95-d00330053ce6",
   "metadata": {},
   "outputs": [
    {
     "name": "stdout",
     "output_type": "stream",
     "text": [
      "Model(\n",
      "  (layer1): Linear(in_features=34, out_features=26, bias=True)\n",
      "  (bn1): BatchNorm1d(26, eps=1e-05, momentum=0.1, affine=True, track_running_stats=True)\n",
      "  (activ1): ReLU()\n",
      "  (dropout1): Dropout(p=0.5, inplace=False)\n",
      "  (layer2): Linear(in_features=26, out_features=18, bias=True)\n",
      "  (bn2): BatchNorm1d(18, eps=1e-05, momentum=0.1, affine=True, track_running_stats=True)\n",
      "  (activ2): ReLU()\n",
      "  (dropout2): Dropout(p=0.1, inplace=False)\n",
      "  (layer3): Linear(in_features=18, out_features=10, bias=True)\n",
      "  (bn3): BatchNorm1d(10, eps=1e-05, momentum=0.1, affine=True, track_running_stats=True)\n",
      "  (activ3): ReLU()\n",
      "  (dropout3): Dropout(p=0.15, inplace=False)\n",
      "  (layer4): Linear(in_features=10, out_features=2, bias=True)\n",
      "  (softmax): LogSoftmax(dim=1)\n",
      ")\n"
     ]
    }
   ],
   "source": [
    "input_shape = 34\n",
    "net = Model(input_dim=input_shape).to(device) # Create model on GPU\n",
    "print (net)"
   ]
  },
  {
   "cell_type": "code",
   "execution_count": 14,
   "id": "893c27df-2ec3-4faf-8162-f21204aaad3c",
   "metadata": {},
   "outputs": [],
   "source": [
    "label_col = 34\n",
    "train_ds = IonoDS(train_df, is_train= True, label_col=label_col)\n",
    "test_ds = IonoDS(test_df, is_train= False, label_col=label_col)"
   ]
  },
  {
   "cell_type": "code",
   "execution_count": 15,
   "id": "9d2fa238-ff20-42ec-9730-1490179cf549",
   "metadata": {},
   "outputs": [],
   "source": [
    "train_loader = DataLoader(train_ds, \n",
    "                         batch_size = BATCH_SIZE,\n",
    "                         shuffle= True)\n",
    "test_loader = DataLoader(test_ds, \n",
    "                         batch_size = BATCH_SIZE,\n",
    "                         shuffle= True)"
   ]
  },
  {
   "cell_type": "code",
   "execution_count": 16,
   "id": "66a6a86e-20be-430d-90a1-d7db95c92b28",
   "metadata": {},
   "outputs": [],
   "source": [
    "XX, yy = next(iter(train_loader))"
   ]
  },
  {
   "cell_type": "code",
   "execution_count": 17,
   "id": "113243fc-f7dc-4ae0-be5c-d518770e44dc",
   "metadata": {},
   "outputs": [
    {
     "data": {
      "text/plain": [
       "<__main__.IonoDS at 0x1df3617b350>"
      ]
     },
     "execution_count": 17,
     "metadata": {},
     "output_type": "execute_result"
    }
   ],
   "source": [
    "train_ds"
   ]
  },
  {
   "cell_type": "code",
   "execution_count": 18,
   "id": "0403b9b7",
   "metadata": {
    "scrolled": true
   },
   "outputs": [
    {
     "name": "stdout",
     "output_type": "stream",
     "text": [
      " At epoch   0 | Loss : 0.7576/0.6216| Acc : 0.5221/0.7468| LR : 0.00100| Counter : 0\n",
      " At epoch   1 | Loss : 0.6134/0.5662| Acc : 0.7132/0.7848| LR : 0.00100| Counter : 0\n",
      " At epoch   2 | Loss : 0.5473/0.4878| Acc : 0.7757/0.8481| LR : 0.00100| Counter : 0\n",
      " At epoch   3 | Loss : 0.4644/0.4039| Acc : 0.8346/0.8987| LR : 0.00100| Counter : 0\n",
      " At epoch   4 | Loss : 0.3753/0.3220| Acc : 0.9007/0.9114| LR : 0.00100| Counter : 0\n",
      " At epoch   5 | Loss : 0.2947/0.2565| Acc : 0.9265/0.9114| LR : 0.00100| Counter : 0\n",
      " At epoch   6 | Loss : 0.2350/0.2187| Acc : 0.9375/0.9367| LR : 0.00100| Counter : 0\n",
      " At epoch   7 | Loss : 0.1936/0.1960| Acc : 0.9485/0.9494| LR : 0.00100| Counter : 0\n",
      " At epoch   8 | Loss : 0.1655/0.1844| Acc : 0.9522/0.9494| LR : 0.00100| Counter : 0\n",
      " At epoch   9 | Loss : 0.1421/0.1731| Acc : 0.9632/0.9494| LR : 0.00100| Counter : 0\n",
      " At epoch  10 | Loss : 0.1219/0.1631| Acc : 0.9632/0.9494| LR : 0.00100| Counter : 0\n",
      " At epoch  11 | Loss : 0.1096/0.1569| Acc : 0.9669/0.9494| LR : 0.00100| Counter : 0\n",
      " At epoch  12 | Loss : 0.1000/0.1488| Acc : 0.9743/0.9494| LR : 0.00100| Counter : 0\n",
      " At epoch  13 | Loss : 0.0901/0.1406| Acc : 0.9706/0.9494| LR : 0.00100| Counter : 0\n",
      " At epoch  14 | Loss : 0.0744/0.1366| Acc : 0.9779/0.9494| LR : 0.00100| Counter : 0\n",
      " At epoch  15 | Loss : 0.0683/0.1282| Acc : 0.9816/0.9620| LR : 0.00100| Counter : 0\n",
      " At epoch  16 | Loss : 0.0599/0.1377| Acc : 0.9816/0.9494| LR : 0.00100| Counter : 1\n",
      " At epoch  17 | Loss : 0.0539/0.1232| Acc : 0.9853/0.9620| LR : 0.00100| Counter : 0\n",
      " At epoch  18 | Loss : 0.0510/0.1230| Acc : 0.9853/0.9620| LR : 0.00100| Counter : 0\n",
      " At epoch  19 | Loss : 0.0485/0.1243| Acc : 0.9853/0.9367| LR : 0.00100| Counter : 1\n",
      " At epoch  20 | Loss : 0.0427/0.1173| Acc : 0.9890/0.9494| LR : 0.00100| Counter : 0\n",
      " At epoch  21 | Loss : 0.0415/0.1304| Acc : 0.9890/0.9367| LR : 0.00100| Counter : 1\n",
      " At epoch  22 | Loss : 0.0407/0.1248| Acc : 0.9890/0.9494| LR : 0.00100| Counter : 2\n",
      " At epoch  23 | Loss : 0.0359/0.1216| Acc : 0.9926/0.9494| LR : 0.00100| Counter : 3\n",
      " At epoch  24 | Loss : 0.0343/0.1263| Acc : 0.9926/0.9494| LR : 0.00100| Counter : 4\n",
      " At epoch  25 | Loss : 0.0328/0.1367| Acc : 0.9926/0.9494| LR : 0.00100| Counter : 5\n",
      " At epoch  26 | Loss : 0.0306/0.1227| Acc : 0.9926/0.9494| LR : 0.00100| Counter : 6\n",
      " At epoch  27 | Loss : 0.0282/0.1424| Acc : 0.9963/0.9367| LR : 0.00100| Counter : 7\n",
      " At epoch  28 | Loss : 0.0272/0.1327| Acc : 0.9963/0.9494| LR : 0.00100| Counter : 8\n",
      " At epoch  29 | Loss : 0.0260/0.1338| Acc : 0.9963/0.9367| LR : 0.00100| Counter : 9\n",
      " At epoch  30 | Loss : 0.0261/0.1398| Acc : 0.9963/0.9241| LR : 0.00100| Counter : 10\n",
      " At epoch  31 | Loss : 0.0246/0.1436| Acc : 0.9963/0.9241| LR : 0.00010| Counter : 11\n",
      " At epoch  32 | Loss : 0.0231/0.1454| Acc : 0.9963/0.9241| LR : 0.00010| Counter : 12\n",
      " At epoch  33 | Loss : 0.0230/0.1448| Acc : 0.9963/0.9241| LR : 0.00010| Counter : 13\n",
      " At epoch  34 | Loss : 0.0229/0.1446| Acc : 0.9963/0.9241| LR : 0.00010| Counter : 14\n",
      " At epoch  35 | Loss : 0.0228/0.1435| Acc : 0.9963/0.9241| LR : 0.00010| Counter : 15\n",
      " At epoch  36 | Loss : 0.0229/0.1444| Acc : 0.9963/0.9241| LR : 0.00010| Counter : 16\n",
      " At epoch  37 | Loss : 0.0227/0.1446| Acc : 0.9963/0.9241| LR : 0.00010| Counter : 17\n",
      " At epoch  38 | Loss : 0.0226/0.1449| Acc : 0.9963/0.9241| LR : 0.00010| Counter : 18\n",
      " At epoch  39 | Loss : 0.0225/0.1449| Acc : 0.9963/0.9241| LR : 0.00010| Counter : 19\n",
      " At epoch  40 | Loss : 0.0224/0.1453| Acc : 0.9963/0.9241| LR : 0.00010| Counter : 20\n",
      " At epoch  41 | Loss : 0.0224/0.1450| Acc : 0.9963/0.9241| LR : 0.00010| Counter : 21\n",
      " At epoch  42 | Loss : 0.0223/0.1450| Acc : 0.9963/0.9241| LR : 0.00001| Counter : 22\n",
      " At epoch  43 | Loss : 0.0222/0.1451| Acc : 0.9963/0.9241| LR : 0.00001| Counter : 23\n",
      " At epoch  44 | Loss : 0.0222/0.1451| Acc : 0.9963/0.9241| LR : 0.00001| Counter : 24\n",
      " At epoch  45 | Loss : 0.0222/0.1451| Acc : 0.9963/0.9241| LR : 0.00001| Counter : 25\n",
      " At epoch  46 | Loss : 0.0222/0.1452| Acc : 0.9963/0.9241| LR : 0.00001| Counter : 26\n",
      " At epoch  47 | Loss : 0.0222/0.1452| Acc : 0.9963/0.9241| LR : 0.00001| Counter : 27\n",
      " At epoch  48 | Loss : 0.0222/0.1453| Acc : 0.9963/0.9241| LR : 0.00001| Counter : 28\n",
      " At epoch  49 | Loss : 0.0222/0.1453| Acc : 0.9963/0.9241| LR : 0.00001| Counter : 29\n",
      " At epoch  50 | Loss : 0.0222/0.1454| Acc : 0.9963/0.9241| LR : 0.00001| Counter : 30\n"
     ]
    }
   ],
   "source": [
    "# Define the loss function and optimizer\n",
    "loss_fn = nn.CrossEntropyLoss() # cross entropy loss\n",
    "\n",
    "loss, tloss = [],[]\n",
    "acc, tacc = [],[]\n",
    "n_epoch = []\n",
    "\n",
    "optimizer = torch.optim.Adam(net.parameters(), \n",
    "                             lr=ALPHA, \n",
    "                             weight_decay=1e-5) # weight decay\n",
    "\n",
    "scheduler = torch.optim.lr_scheduler.ReduceLROnPlateau(optimizer, \n",
    "                                                       mode='min', \n",
    "                                                      factor=LR_FACTOR,\n",
    "                                                      patience=LR_PATIENCE,\n",
    "                                                      min_lr=0.00001)\n",
    "\n",
    "minLoss = float('inf') #minimum loss\n",
    "savePath = os.path.join('models', 'iono.pth')\n",
    "\n",
    "# Train the model for multiple epochs\n",
    "\n",
    "for epoch in range(EPOCHS):\n",
    "    \n",
    "    # Training loop\n",
    "    train_loss = 0.0\n",
    "    train_acc = 0.0\n",
    "    \n",
    "    for i, data in enumerate(train_loader):\n",
    "        \n",
    "        inputs, labels = data\n",
    "        \n",
    "        optimizer.zero_grad()\n",
    "        \n",
    "        outputs = net(inputs)\n",
    "        \n",
    "        preds = torch.argmax(outputs, dim = 1)\n",
    "        \n",
    "        batch_loss = loss_fn(outputs, labels)\n",
    "        batch_acc = accuracy_score(labels.cpu().numpy(), preds.cpu().numpy())\n",
    "        \n",
    "        batch_loss.backward()\n",
    "        \n",
    "        optimizer.step()\n",
    "        \n",
    "        train_loss += batch_loss.item() * inputs.size(0)\n",
    "        train_acc += batch_acc * inputs.size(0)\n",
    "    \n",
    "    train_loss /= len(train_ds)\n",
    "    train_acc /= len(train_ds)\n",
    "    \n",
    "    loss.append(train_loss)\n",
    "    acc.append(train_acc)\n",
    "    \n",
    "    # Testing loop\n",
    "    test_loss = 0.0\n",
    "    test_acc = 0.0\n",
    "    \n",
    "    with torch.no_grad():\n",
    "        net.eval()\n",
    "        #net.train()\n",
    "        for data in test_loader:\n",
    "            \n",
    "            inputs, labels = data\n",
    "            \n",
    "            outputs = net(inputs)\n",
    "            \n",
    "            preds = torch.argmax(outputs, dim = 1)\n",
    "            \n",
    "            batch_loss = loss_fn(outputs, labels)\n",
    "\n",
    "            batch_acc = accuracy_score(labels.cpu().numpy(), preds.cpu().numpy())\n",
    "            \n",
    "            test_loss += batch_loss.item() * inputs.size(0)\n",
    "            test_acc += batch_acc* inputs.size(0)\n",
    "        \n",
    "        test_loss /= len(test_ds)\n",
    "        test_acc /= len(test_ds)\n",
    "    \n",
    "        tloss.append(test_loss)\n",
    "        tacc.append(test_acc)\n",
    "    n_epoch.append(epoch)\n",
    "\n",
    "    scheduler.step(test_loss)\n",
    "\n",
    "    # Add Early stopping / saving model\n",
    "    if test_loss < minLoss :\n",
    "        minLoss  = test_loss\n",
    "        counter = 0\n",
    "        #save the model\n",
    "        torch.save({'epoch': epoch + 1,\n",
    "                    'model_state_dict': net.state_dict(),\n",
    "                    'optimizer_state_dict': optimizer.state_dict(),\n",
    "                    'loss': loss_fn}, savePath)\n",
    "    else :\n",
    "        counter += 1\n",
    "        \n",
    "    if counter > PATIENCE :\n",
    "        break\n",
    "    \n",
    "   \n",
    "    print(f' At epoch {epoch : 3d} ', end = '')\n",
    "    print(f'| Loss : {train_loss:.4f}/{test_loss:.4f}', end = '')\n",
    "    print(f'| Acc : {train_acc:.4f}/{test_acc:.4f}', end = '')\n",
    "    print(f'| LR : {scheduler.get_last_lr()[0]:.5f}', end = '')\n",
    "    print(f'| Counter : {counter}')\n"
   ]
  },
  {
   "cell_type": "code",
   "execution_count": 19,
   "id": "c9efcad0",
   "metadata": {},
   "outputs": [
    {
     "data": {
      "image/png": "[encoded data removed]",
      "text/plain": [
       "<Figure size 1500x600 with 2 Axes>"
      ]
     },
     "metadata": {},
     "output_type": "display_data"
    }
   ],
   "source": [
    "loss_df = pd.DataFrame({'epoch' : n_epoch, 'loss' : loss, 'test_loss': tloss, 'acc' : acc, 'test_acc': tacc})\n",
    "fn_plot_torch_hist(loss_df)"
   ]
  },
  {
   "cell_type": "code",
   "execution_count": 20,
   "id": "17d47d60",
   "metadata": {},
   "outputs": [],
   "source": [
    "y_train = []\n",
    "y_pred = []\n",
    "for i, data in enumerate(train_loader):\n",
    "    \n",
    "    inputs, labels = data\n",
    "    \n",
    "    outputs = net(inputs)\n",
    "    \n",
    "    preds = torch.argmax(outputs, dim = 1)\n",
    "\n",
    "    y_train.extend(labels.cpu().numpy())\n",
    "\n",
    "    y_pred.extend(preds.cpu().numpy())"
   ]
  },
  {
   "cell_type": "code",
   "execution_count": 21,
   "id": "31927620",
   "metadata": {},
   "outputs": [
    {
     "name": "stdout",
     "output_type": "stream",
     "text": [
      "              precision    recall  f1-score   support\n",
      "\n",
      "           0       1.00      0.99      0.99        98\n",
      "           1       0.99      1.00      1.00       174\n",
      "\n",
      "    accuracy                           1.00       272\n",
      "   macro avg       1.00      0.99      1.00       272\n",
      "weighted avg       1.00      1.00      1.00       272\n",
      "\n"
     ]
    }
   ],
   "source": [
    "print(classification_report(y_train,y_pred))"
   ]
  },
  {
   "cell_type": "code",
   "execution_count": 22,
   "id": "973d076c-ff61-4c3f-9905-47d4b4c5726e",
   "metadata": {},
   "outputs": [],
   "source": [
    "class_labels = {k:v for k, v in enumerate(train_ds.transformers.encoder.classes_)}"
   ]
  },
  {
   "cell_type": "code",
   "execution_count": 23,
   "id": "bdb8bce2",
   "metadata": {},
   "outputs": [
    {
     "data": {
      "image/png": "[encoded data removed]",
      "text/plain": [
       "<Figure size 600x600 with 1 Axes>"
      ]
     },
     "metadata": {},
     "output_type": "display_data"
    }
   ],
   "source": [
    "fn_plot_confusion_matrix(y_train, y_pred, class_labels)"
   ]
  }
 ],
 "metadata": {
  "kernelspec": {
   "display_name": "Python 3 (ipykernel)",
   "language": "python",
   "name": "python3"
  },
  "language_info": {
   "codemirror_mode": {
    "name": "ipython",
    "version": 3
   },
   "file_extension": ".py",
   "mimetype": "text/x-python",
   "name": "python",
   "nbconvert_exporter": "python",
   "pygments_lexer": "ipython3",
   "version": "3.11.7"
  }
 },
 "nbformat": 4,
 "nbformat_minor": 5
}
