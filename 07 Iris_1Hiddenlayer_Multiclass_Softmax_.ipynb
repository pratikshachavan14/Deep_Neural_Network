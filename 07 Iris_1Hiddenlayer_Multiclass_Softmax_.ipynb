{
 "cells": [
  {
   "cell_type": "code",
   "execution_count": 1,
   "id": "5b834a33-006a-45b7-ad9d-a3adc4feba29",
   "metadata": {},
   "outputs": [],
   "source": [
    "# Multiclass with 1 hidden layer 4 neurons\n",
    "#activation functions used -> 1. tanh    2.softmax "
   ]
  },
  {
   "cell_type": "code",
   "execution_count": 2,
   "id": "af0a9aa8-4e48-4a03-b51b-2915ed0f6133",
   "metadata": {},
   "outputs": [],
   "source": [
    "import numpy as np\n",
    "import pandas as pd\n",
    "import matplotlib.pyplot as plt\n",
    "\n",
    "import seaborn as sns\n",
    "\n",
    "from sklearn import datasets\n",
    "from sklearn.metrics import accuracy_score, confusion_matrix, ConfusionMatrixDisplay, classification_report\n",
    "from sklearn.model_selection import train_test_split\n",
    "from sklearn.preprocessing import StandardScaler\n",
    "from sklearn.preprocessing import LabelBinarizer\n",
    " "
   ]
  },
  {
   "cell_type": "code",
   "execution_count": 3,
   "id": "999379c1-9a91-4202-862d-75aa269fedfd",
   "metadata": {},
   "outputs": [],
   "source": [
    "\n",
    "RANDOM_STATE = 24 # REMEMBER: to remove at the time of promotion to production\n",
    "np.random.seed(RANDOM_STATE)\n",
    "rng = np.random.default_rng(seed = RANDOM_STATE) # Set Random Seed for reproducible  results\n",
    "\n",
    "TEST_SIZE = 0.2\n",
    "NOISE = 0.2\n",
    "EPOCHS = 10000  # number of epochs\n",
    "ALPHA = 0.1  # learning rate\n",
    "N_SAMPLES = 1000\n",
    "\n",
    "# parameters for Matplotlib\n",
    "params = {'legend.fontsize': 'medium',\n",
    "          'figure.figsize': (15, 8),\n",
    "          'axes.labelsize': 'large',\n",
    "          'axes.titlesize':'large',\n",
    "          'xtick.labelsize':'large',\n",
    "          'ytick.labelsize':'large'\n",
    "         }\n",
    "\n",
    "plt.rcParams.update(params)\n",
    "\n",
    "CMAP = plt.cm.coolwarm\n",
    "plt.style.use('seaborn-v0_8-darkgrid') # plt.style.use('ggplot')"
   ]
  },
  {
   "cell_type": "code",
   "execution_count": 4,
   "id": "18cd03b4-0392-45ec-b147-5884ecb829cb",
   "metadata": {},
   "outputs": [
    {
     "data": {
      "text/plain": [
       "dict_keys(['data', 'target', 'frame', 'target_names', 'DESCR', 'feature_names', 'filename', 'data_module'])"
      ]
     },
     "execution_count": 4,
     "metadata": {},
     "output_type": "execute_result"
    }
   ],
   "source": [
    "iris = datasets.load_iris()\n",
    "iris.keys()"
   ]
  },
  {
   "cell_type": "code",
   "execution_count": 5,
   "id": "894ca60f-9c84-414b-9042-d56646cb2d5c",
   "metadata": {
    "scrolled": true
   },
   "outputs": [
    {
     "name": "stdout",
     "output_type": "stream",
     "text": [
      ".. _iris_dataset:\n",
      "\n",
      "Iris plants dataset\n",
      "--------------------\n",
      "\n",
      "**Data Set Characteristics:**\n",
      "\n",
      ":Number of Instances: 150 (50 in each of three classes)\n",
      ":Number of Attributes: 4 numeric, predictive attributes and the class\n",
      ":Attribute Information:\n",
      "    - sepal length in cm\n",
      "    - sepal width in cm\n",
      "    - petal length in cm\n",
      "    - petal width in cm\n",
      "    - class:\n",
      "            - Iris-Setosa\n",
      "            - Iris-Versicolour\n",
      "            - Iris-Virginica\n",
      "\n",
      ":Summary Statistics:\n",
      "\n",
      "============== ==== ==== ======= ===== ====================\n",
      "                Min  Max   Mean    SD   Class Correlation\n",
      "============== ==== ==== ======= ===== ====================\n",
      "sepal length:   4.3  7.9   5.84   0.83    0.7826\n",
      "sepal width:    2.0  4.4   3.05   0.43   -0.4194\n",
      "petal length:   1.0  6.9   3.76   1.76    0.9490  (high!)\n",
      "petal width:    0.1  2.5   1.20   0.76    0.9565  (high!)\n",
      "============== ==== ==== ======= ===== ====================\n",
      "\n",
      ":Missing Attribute Values: None\n",
      ":Class Distribution: 33.3% for each of 3 classes.\n",
      ":Creator: R.A. Fisher\n",
      ":Donor: Michael Marshall (MARSHALL%PLU@io.arc.nasa.gov)\n",
      ":Date: July, 1988\n",
      "\n",
      "The famous Iris database, first used by Sir R.A. Fisher. The dataset is taken\n",
      "from Fisher's paper. Note that it's the same as in R, but not as in the UCI\n",
      "Machine Learning Repository, which has two wrong data points.\n",
      "\n",
      "This is perhaps the best known database to be found in the\n",
      "pattern recognition literature.  Fisher's paper is a classic in the field and\n",
      "is referenced frequently to this day.  (See Duda & Hart, for example.)  The\n",
      "data set contains 3 classes of 50 instances each, where each class refers to a\n",
      "type of iris plant.  One class is linearly separable from the other 2; the\n",
      "latter are NOT linearly separable from each other.\n",
      "\n",
      "|details-start|\n",
      "**References**\n",
      "|details-split|\n",
      "\n",
      "- Fisher, R.A. \"The use of multiple measurements in taxonomic problems\"\n",
      "  Annual Eugenics, 7, Part II, 179-188 (1936); also in \"Contributions to\n",
      "  Mathematical Statistics\" (John Wiley, NY, 1950).\n",
      "- Duda, R.O., & Hart, P.E. (1973) Pattern Classification and Scene Analysis.\n",
      "  (Q327.D83) John Wiley & Sons.  ISBN 0-471-22361-1.  See page 218.\n",
      "- Dasarathy, B.V. (1980) \"Nosing Around the Neighborhood: A New System\n",
      "  Structure and Classification Rule for Recognition in Partially Exposed\n",
      "  Environments\".  IEEE Transactions on Pattern Analysis and Machine\n",
      "  Intelligence, Vol. PAMI-2, No. 1, 67-71.\n",
      "- Gates, G.W. (1972) \"The Reduced Nearest Neighbor Rule\".  IEEE Transactions\n",
      "  on Information Theory, May 1972, 431-433.\n",
      "- See also: 1988 MLC Proceedings, 54-64.  Cheeseman et al\"s AUTOCLASS II\n",
      "  conceptual clustering system finds 3 classes in the data.\n",
      "- Many, many more ...\n",
      "\n",
      "|details-end|\n",
      "\n"
     ]
    }
   ],
   "source": [
    "print(iris.DESCR)"
   ]
  },
  {
   "cell_type": "code",
   "execution_count": 6,
   "id": "93d7c442-529e-4db3-b4e5-6b56f5ed32a8",
   "metadata": {},
   "outputs": [
    {
     "data": {
      "text/plain": [
       "((150, 4), (150,))"
      ]
     },
     "execution_count": 6,
     "metadata": {},
     "output_type": "execute_result"
    }
   ],
   "source": [
    "iris.data.shape, iris.target.shape"
   ]
  },
  {
   "cell_type": "code",
   "execution_count": 7,
   "id": "27abf553-fb73-4488-9ef1-97b008b2ed26",
   "metadata": {},
   "outputs": [
    {
     "data": {
      "text/plain": [
       "array([0, 0, 0, 0, 0, 0, 0, 0, 0, 0, 0, 0, 0, 0, 0, 0, 0, 0, 0, 0, 0, 0,\n",
       "       0, 0, 0, 0, 0, 0, 0, 0, 0, 0, 0, 0, 0, 0, 0, 0, 0, 0, 0, 0, 0, 0,\n",
       "       0, 0, 0, 0, 0, 0, 1, 1, 1, 1, 1, 1, 1, 1, 1, 1, 1, 1, 1, 1, 1, 1,\n",
       "       1, 1, 1, 1, 1, 1, 1, 1, 1, 1, 1, 1, 1, 1, 1, 1, 1, 1, 1, 1, 1, 1,\n",
       "       1, 1, 1, 1, 1, 1, 1, 1, 1, 1, 1, 1, 2, 2, 2, 2, 2, 2, 2, 2, 2, 2,\n",
       "       2, 2, 2, 2, 2, 2, 2, 2, 2, 2, 2, 2, 2, 2, 2, 2, 2, 2, 2, 2, 2, 2,\n",
       "       2, 2, 2, 2, 2, 2, 2, 2, 2, 2, 2, 2, 2, 2, 2, 2, 2, 2])"
      ]
     },
     "execution_count": 7,
     "metadata": {},
     "output_type": "execute_result"
    }
   ],
   "source": [
    "iris.target"
   ]
  },
  {
   "cell_type": "code",
   "execution_count": 8,
   "id": "2bcaa1d6-d159-49cb-a3c5-e97916cd9e43",
   "metadata": {},
   "outputs": [
    {
     "data": {
      "text/plain": [
       "array(['setosa', 'versicolor', 'virginica'], dtype='<U10')"
      ]
     },
     "execution_count": 8,
     "metadata": {},
     "output_type": "execute_result"
    }
   ],
   "source": [
    "iris.target_names"
   ]
  },
  {
   "cell_type": "code",
   "execution_count": 9,
   "id": "cb9e034f-0c02-4d00-8454-f10ba6eed7fc",
   "metadata": {},
   "outputs": [
    {
     "data": {
      "text/plain": [
       "['sepal length (cm)',\n",
       " 'sepal width (cm)',\n",
       " 'petal length (cm)',\n",
       " 'petal width (cm)']"
      ]
     },
     "execution_count": 9,
     "metadata": {},
     "output_type": "execute_result"
    }
   ],
   "source": [
    "iris.feature_names"
   ]
  },
  {
   "cell_type": "code",
   "execution_count": 10,
   "id": "18ad6e87-dff3-4f8c-8612-1dc6b1c44287",
   "metadata": {
    "scrolled": true
   },
   "outputs": [],
   "source": [
    "X, y = iris.data, iris.target"
   ]
  },
  {
   "cell_type": "code",
   "execution_count": 11,
   "id": "014d0a21-eca7-40a4-807c-6cdd3f179928",
   "metadata": {},
   "outputs": [
    {
     "data": {
      "text/html": [
       "<div>\n",
       "<style scoped>\n",
       "    .dataframe tbody tr th:only-of-type {\n",
       "        vertical-align: middle;\n",
       "    }\n",
       "\n",
       "    .dataframe tbody tr th {\n",
       "        vertical-align: top;\n",
       "    }\n",
       "\n",
       "    .dataframe thead th {\n",
       "        text-align: right;\n",
       "    }\n",
       "</style>\n",
       "<table border=\"1\" class=\"dataframe\">\n",
       "  <thead>\n",
       "    <tr style=\"text-align: right;\">\n",
       "      <th></th>\n",
       "      <th>A</th>\n",
       "      <th>B</th>\n",
       "      <th>C</th>\n",
       "      <th>D</th>\n",
       "      <th>species</th>\n",
       "    </tr>\n",
       "  </thead>\n",
       "  <tbody>\n",
       "    <tr>\n",
       "      <th>0</th>\n",
       "      <td>5.1</td>\n",
       "      <td>3.5</td>\n",
       "      <td>1.4</td>\n",
       "      <td>0.2</td>\n",
       "      <td>0</td>\n",
       "    </tr>\n",
       "    <tr>\n",
       "      <th>1</th>\n",
       "      <td>4.9</td>\n",
       "      <td>3.0</td>\n",
       "      <td>1.4</td>\n",
       "      <td>0.2</td>\n",
       "      <td>0</td>\n",
       "    </tr>\n",
       "    <tr>\n",
       "      <th>2</th>\n",
       "      <td>4.7</td>\n",
       "      <td>3.2</td>\n",
       "      <td>1.3</td>\n",
       "      <td>0.2</td>\n",
       "      <td>0</td>\n",
       "    </tr>\n",
       "    <tr>\n",
       "      <th>3</th>\n",
       "      <td>4.6</td>\n",
       "      <td>3.1</td>\n",
       "      <td>1.5</td>\n",
       "      <td>0.2</td>\n",
       "      <td>0</td>\n",
       "    </tr>\n",
       "    <tr>\n",
       "      <th>4</th>\n",
       "      <td>5.0</td>\n",
       "      <td>3.6</td>\n",
       "      <td>1.4</td>\n",
       "      <td>0.2</td>\n",
       "      <td>0</td>\n",
       "    </tr>\n",
       "  </tbody>\n",
       "</table>\n",
       "</div>"
      ],
      "text/plain": [
       "     A    B    C    D  species\n",
       "0  5.1  3.5  1.4  0.2        0\n",
       "1  4.9  3.0  1.4  0.2        0\n",
       "2  4.7  3.2  1.3  0.2        0\n",
       "3  4.6  3.1  1.5  0.2        0\n",
       "4  5.0  3.6  1.4  0.2        0"
      ]
     },
     "execution_count": 11,
     "metadata": {},
     "output_type": "execute_result"
    }
   ],
   "source": [
    "#visualization\n",
    "data_df = pd.DataFrame(X, columns = ['A', 'B', 'C', 'D'])\n",
    "\n",
    "data_df['species'] = y\n",
    "\n",
    "data_df.head()"
   ]
  },
  {
   "cell_type": "code",
   "execution_count": 12,
   "id": "9f1c8827-e261-4ff9-8d7d-9d5ae5b4abf2",
   "metadata": {},
   "outputs": [],
   "source": [
    "#y = pd.get_dummies(y).to_numpy() #Conveting to one-hot encoding\n",
    "#y"
   ]
  },
  {
   "cell_type": "code",
   "execution_count": 13,
   "id": "7309d7fe-5cdb-4efe-9863-f9dac3ecb269",
   "metadata": {},
   "outputs": [],
   "source": [
    "data_train, data_test = data_df.to_numpy()[:900], data_df.to_numpy()[900:]"
   ]
  },
  {
   "cell_type": "code",
   "execution_count": 14,
   "id": "4cfe82e1-9837-44b2-8f73-7811d88dc19b",
   "metadata": {},
   "outputs": [],
   "source": [
    "X_train, X_test, y_train, y_test  =  train_test_split(X, y ,stratify= y, random_state=RANDOM_STATE, test_size=TEST_SIZE, shuffle = True) #"
   ]
  },
  {
   "cell_type": "code",
   "execution_count": 15,
   "id": "0519d743-ba6e-4bf1-8a26-c5238dc0499c",
   "metadata": {
    "scrolled": true
   },
   "outputs": [],
   "source": [
    "#X_train"
   ]
  },
  {
   "cell_type": "code",
   "execution_count": 16,
   "id": "25e7b30c-9502-4816-b6d4-14b3a4cd230f",
   "metadata": {
    "scrolled": true
   },
   "outputs": [],
   "source": [
    "#X_test"
   ]
  },
  {
   "cell_type": "code",
   "execution_count": 17,
   "id": "3134c143-0a8b-4337-a0c9-509213c5637d",
   "metadata": {},
   "outputs": [
    {
     "data": {
      "text/plain": [
       "((120, 4), (30, 4), (120,), (30,))"
      ]
     },
     "execution_count": 17,
     "metadata": {},
     "output_type": "execute_result"
    }
   ],
   "source": [
    "X_train.shape, X_test.shape, y_train.shape, y_test.shape"
   ]
  },
  {
   "cell_type": "markdown",
   "id": "ce9238bc-daac-4be9-b642-c621f48d2a9f",
   "metadata": {},
   "source": [
    "shape of input is frozen i.e. same as number of features.\n",
    "shape of output is also frozen i.e. same as number of outputs. \n",
    "In hidden layer you can add as many no of neurons you want.\n",
    "bias seats on the top of each neuron."
   ]
  },
  {
   "cell_type": "code",
   "execution_count": 18,
   "id": "0889ff43-4228-4715-8081-51af8ee830c7",
   "metadata": {},
   "outputs": [],
   "source": [
    "sc = StandardScaler()\n",
    "X_train = sc.fit_transform(X_train)\n",
    "X_test = sc.fit_transform(X_test)"
   ]
  },
  {
   "cell_type": "code",
   "execution_count": 19,
   "id": "739605ae-d82a-41ac-b3a1-77373291bc95",
   "metadata": {},
   "outputs": [],
   "source": [
    "lb = LabelBinarizer()\n",
    "y_train = lb.fit_transform(y_train)\n",
    "y_test = lb.fit_transform(y_test)"
   ]
  },
  {
   "cell_type": "code",
   "execution_count": 20,
   "id": "cd4811a1-05b6-4ebd-bfe3-267a3c53e665",
   "metadata": {},
   "outputs": [],
   "source": [
    "#first activation function -> tanh\n",
    "def fn_activ(z):\n",
    "    return np.tanh(z)\n",
    "\n",
    "#to change the range from -inf,+ing to -1,1 using tanh\n",
    "def fn_activ_prime(a):\n",
    "    return 1 - np.tanh(a)**2\n"
   ]
  },
  {
   "cell_type": "code",
   "execution_count": 21,
   "id": "8026084f-4832-4699-ae49-b745d3769244",
   "metadata": {},
   "outputs": [],
   "source": [
    "#second activation function -> softmax\n",
    "def fn_softmax(z):\n",
    "    '''\n",
    "    Args:\n",
    "        z : a matrix of z values of shape\n",
    "    returns :\n",
    "        softmax values of z\n",
    "    '''\n",
    "\n",
    "    #calculating softmax function\n",
    "    exp_z = np.exp(z)\n",
    "    return exp_z / np.sum(exp_z, axis=1, keepdims=True)"
   ]
  },
  {
   "cell_type": "code",
   "execution_count": 22,
   "id": "ceeb5651-f038-44f3-987c-15ad9f5b4192",
   "metadata": {},
   "outputs": [
    {
     "data": {
      "text/plain": [
       "array([[1.],\n",
       "       [1.]])"
      ]
     },
     "execution_count": 22,
     "metadata": {},
     "output_type": "execute_result"
    }
   ],
   "source": [
    "sm = fn_softmax(np.asarray([[8,5,0], [-10, 0, 10]]))\n",
    "sm.sum(axis=1, keepdims=True) #along axis is always one axis=1, keepdims=True"
   ]
  },
  {
   "cell_type": "code",
   "execution_count": 23,
   "id": "29c7d061-b20d-4a22-8b90-25e303f44fa6",
   "metadata": {},
   "outputs": [],
   "source": [
    "#forward propagation \n",
    "\n",
    "def predict(model, X_p):\n",
    "    W1, b1, W2, b2 = model['W1'], model['b1'], model['W2'], model['b2']\n",
    "    \n",
    "    # forward propagation \n",
    "    # Layer 1\n",
    "    z1 = X_p.dot(W1) + b1   #aggregation for layer 1\n",
    "    a1 = fn_activ(z1)     #activation for layer 1\n",
    "\n",
    "    # Layer 2\n",
    "    z2 = a1.dot(W2) + b2   #aggregation for layer 2\n",
    "    a2 = fn_softmax(z2)    #activation for layer 2\n",
    "\n",
    "    return np.argmax(a2, axis=1) #pick index of class with highest probability # argmax gives us probability"
   ]
  },
  {
   "cell_type": "code",
   "execution_count": 24,
   "id": "c73372fe-e235-4dc6-9afe-61c3dc83e7b0",
   "metadata": {},
   "outputs": [],
   "source": [
    "#calculating loss as we are taking weights and bias random \n",
    "\n",
    "def calculate_loss(model, X_l, y_l):\n",
    "    W1, b1, W2, b2 = model['W1'], model['b1'], model['W2'], model['b2']\n",
    "\n",
    "    m = X_l.shape[0]\n",
    "    \n",
    "    # forward propagation \n",
    "    # Layer 1\n",
    "    z1 = X_l.dot(W1) + b1   #aggregation for layer 1\n",
    "    a1 = fn_activ(z1)     #activation for layer 1\n",
    "\n",
    "    # Layer 2\n",
    "    z2 = a1.dot(W2) + b2   #aggregation for layer 2\n",
    "    a2 = fn_softmax(z2)    #activation for layer 2\n",
    "\n",
    "    #binary  , element wise multiplication\n",
    "    data_loss = - ( y_l*np.log(a2) + ( 1-y_l ) * np.log(1-a2) ).sum()   #calculating losses along each sample\n",
    " \n",
    "    return data_loss / m "
   ]
  },
  {
   "cell_type": "code",
   "execution_count": 25,
   "id": "e46a5814-30ff-4286-86da-b173deae372e",
   "metadata": {},
   "outputs": [],
   "source": [
    "loss_hist = {}"
   ]
  },
  {
   "cell_type": "code",
   "execution_count": 26,
   "id": "e67d6a26-55c4-415e-a740-e4c5cdfdfe5d",
   "metadata": {},
   "outputs": [],
   "source": [
    "#we dont know the weights so building the model \n",
    "\n",
    "def build_model(X_tr, y_tr, nn_hdim, nn_out, alpha=ALPHA, epochs=EPOCHS):\n",
    "    '''\n",
    "    Args:\n",
    "        X_tr : Training features\n",
    "        y_tr : Training labels\n",
    "        nn_hdim : number of nodes in the hidden layer\n",
    "        nn_out : size of output\n",
    "        nn_input_dim : no. of columns\n",
    "    '''\n",
    "    m, nn_input_dim = X_tr.shape\n",
    "    nn_output_dim = nn_out\n",
    "\n",
    "    #weight between fetaure layer and 1st layer (size = 2, 4(no. of features (incoming), no. of nodes in hidden layer (outgoing)))\n",
    "    # dtype = np.float32 --> coverts to type float32 i.e reduces size\n",
    "    W1= np.random.rand(nn_input_dim, nn_hdim) / np.sqrt(nn_input_dim)\n",
    "\n",
    "    #weight between 1st hidden layer and output layer (size = 4, 2(no. of nodes in hidden layer (incoming), no. of output(outgoing) ))\n",
    "    W2= np.random.rand(nn_hdim, nn_output_dim) / np.sqrt(nn_hdim)\n",
    "\n",
    "    # bias (b1) = no. of nodes in input || size = 4\n",
    "    b1 = np.zeros((1, nn_hdim), dtype = np.float32)\n",
    "    \n",
    "    # bias (b2) = no. of nodes in output || size = 2\n",
    "    b2 = np.zeros((1, nn_output_dim), dtype = np.float32)\n",
    "\n",
    "    curr_loss = 0\n",
    "\n",
    "    loss, epoch = [] , []\n",
    "\n",
    "    for i  in range (0, epochs):\n",
    "        \n",
    "        # forward propagation \n",
    "        \n",
    "        # Layer 1 || marked 3 in diagram\n",
    "        # in notes: x -> z1= x.w1 + b1  ->  \n",
    "        z1 = X_tr.dot(W1) + b1\n",
    "        # ->  a[1] = g[z1]\n",
    "        a1 = fn_activ(z1) \n",
    "\n",
    "        # Layer 2  || marked 1 in diagram\n",
    "        # in notes: z2 = a[1].w2 + b2  -> \n",
    "        z2 = a1.dot(W2) + b2\n",
    "        # ->  a[2] = g[z2]\n",
    "        a2 = fn_softmax(z2) \n",
    "\n",
    "\n",
    "        ########################################################################\n",
    "\n",
    "        #back propogation of the loss of LAYER 2 || marked 2 in diagram\n",
    "\n",
    "        #checking the size of the matrix for the multiplication using assert \n",
    "        #assert(a2.shape== y_tr.shape), f'check y {a2.shape}/{y_tr.shape}'\n",
    "        dz2 = a2 - y_tr #remember dimention of a2 and y to be same\n",
    "\n",
    "        dW2 = (a1.T).dot(dz2)\n",
    "        assert (W2.shape == dW2.shape), f'check W2 {W2.shape}/{dW2.shape}'\n",
    "\n",
    "        db2 = np.sum(dz2, axis = 0, keepdims=True)\n",
    "        assert (b2.shape == db2.shape), f'check b2 {b2.shape}/{db2.shape}'\n",
    "\n",
    "        da1 = dz2.dot(W2.T)  \n",
    "        assert (a1.shape == da1.shape), f'check b2 {a1.shape}/{da1.shape}'\n",
    "\n",
    "        ##############################################################################\n",
    "\n",
    "        #back propogation of the loss of LAYER 1 || marked 4 in diagram\n",
    "        \n",
    "        dz1 = da1 * fn_activ_prime(z1)  \n",
    "        assert (z1.shape == dz1.shape), f'check b2 {z1.shape}/{dz1.shape}'\n",
    "\n",
    "        dW1 = (X_tr.T).dot(dz1)   \n",
    "        assert (W1.shape == dW1.shape), f'check W2 {W1.shape}/{dW1.shape}'\n",
    "\n",
    "        db1 = np.sum(dz1, axis=0, keepdims=True)\n",
    "        assert (b1.shape == db1.shape), f'check b1 {b1.shape}/{db1.shape}'\n",
    "\n",
    "        ##############################################################################\n",
    "\n",
    "        #Gradient Update (updating weight) m = total no. of rows\n",
    "        W1 += - alpha * dW1 / m  \n",
    "        b1 += - alpha * db1 / m \n",
    "        W2 += - alpha * dW2 / m \n",
    "        b2 += - alpha * db2 / m \n",
    "\n",
    "        #saving weights and biases in dict to use in other functions\n",
    "        model = { 'W1' : W1, 'b1' : b1,\n",
    "                  'W2' : W2, 'b2' : b2 }\n",
    "\n",
    "    \n",
    "        curr_loss = calculate_loss(model, X_tr, y_tr)\n",
    "        loss.append(curr_loss)\n",
    "        epoch.append(i)\n",
    "\n",
    "        #printing current loss calculated\n",
    "        if i % 100 == 0:\n",
    "            print(f'After epoch: {i:3d}; loss: {curr_loss: .5f}')\n",
    "        \n",
    "    loss_hist['epoch'] = epoch\n",
    "    loss_hist['loss'] = loss\n",
    "    \n",
    "    return model"
   ]
  },
  {
   "cell_type": "code",
   "execution_count": 27,
   "id": "9e342d61-40d2-4385-8db9-0cc745e31f78",
   "metadata": {},
   "outputs": [
    {
     "data": {
      "text/plain": [
       "(120, 3)"
      ]
     },
     "execution_count": 27,
     "metadata": {},
     "output_type": "execute_result"
    }
   ],
   "source": [
    " y_train.shape"
   ]
  },
  {
   "cell_type": "code",
   "execution_count": 28,
   "id": "5ba14c5a-ec54-469a-a3a6-63f3f5402933",
   "metadata": {
    "scrolled": true
   },
   "outputs": [
    {
     "name": "stdout",
     "output_type": "stream",
     "text": [
      "After epoch:   0; loss:  1.95957\n",
      "After epoch: 100; loss:  0.74347\n",
      "After epoch: 200; loss:  0.44953\n",
      "After epoch: 300; loss:  0.28880\n",
      "After epoch: 400; loss:  0.21377\n",
      "After epoch: 500; loss:  0.17565\n",
      "After epoch: 600; loss:  0.15339\n",
      "After epoch: 700; loss:  0.13899\n",
      "After epoch: 800; loss:  0.12897\n",
      "After epoch: 900; loss:  0.12165\n",
      "After epoch: 1000; loss:  0.11608\n",
      "After epoch: 1100; loss:  0.11174\n",
      "After epoch: 1200; loss:  0.10827\n",
      "After epoch: 1300; loss:  0.10546\n",
      "After epoch: 1400; loss:  0.10314\n",
      "After epoch: 1500; loss:  0.10120\n",
      "After epoch: 1600; loss:  0.09957\n",
      "After epoch: 1700; loss:  0.09819\n",
      "After epoch: 1800; loss:  0.09700\n",
      "After epoch: 1900; loss:  0.09597\n",
      "After epoch: 2000; loss:  0.09508\n",
      "After epoch: 2100; loss:  0.09430\n",
      "After epoch: 2200; loss:  0.09361\n",
      "After epoch: 2300; loss:  0.09300\n",
      "After epoch: 2400; loss:  0.09247\n",
      "After epoch: 2500; loss:  0.09199\n",
      "After epoch: 2600; loss:  0.09156\n",
      "After epoch: 2700; loss:  0.09117\n",
      "After epoch: 2800; loss:  0.09083\n",
      "After epoch: 2900; loss:  0.09051\n",
      "After epoch: 3000; loss:  0.09023\n",
      "After epoch: 3100; loss:  0.08997\n",
      "After epoch: 3200; loss:  0.08973\n",
      "After epoch: 3300; loss:  0.08952\n",
      "After epoch: 3400; loss:  0.08932\n",
      "After epoch: 3500; loss:  0.08914\n",
      "After epoch: 3600; loss:  0.08898\n",
      "After epoch: 3700; loss:  0.08882\n",
      "After epoch: 3800; loss:  0.08868\n",
      "After epoch: 3900; loss:  0.08855\n",
      "After epoch: 4000; loss:  0.08843\n",
      "After epoch: 4100; loss:  0.08832\n",
      "After epoch: 4200; loss:  0.08822\n",
      "After epoch: 4300; loss:  0.08812\n",
      "After epoch: 4400; loss:  0.08803\n",
      "After epoch: 4500; loss:  0.08794\n",
      "After epoch: 4600; loss:  0.08786\n",
      "After epoch: 4700; loss:  0.08779\n",
      "After epoch: 4800; loss:  0.08772\n",
      "After epoch: 4900; loss:  0.08766\n",
      "After epoch: 5000; loss:  0.08760\n",
      "After epoch: 5100; loss:  0.08754\n",
      "After epoch: 5200; loss:  0.08748\n",
      "After epoch: 5300; loss:  0.08743\n",
      "After epoch: 5400; loss:  0.08738\n",
      "After epoch: 5500; loss:  0.08734\n",
      "After epoch: 5600; loss:  0.08729\n",
      "After epoch: 5700; loss:  0.08725\n",
      "After epoch: 5800; loss:  0.08721\n",
      "After epoch: 5900; loss:  0.08718\n",
      "After epoch: 6000; loss:  0.08714\n",
      "After epoch: 6100; loss:  0.08711\n",
      "After epoch: 6200; loss:  0.08707\n",
      "After epoch: 6300; loss:  0.08704\n",
      "After epoch: 6400; loss:  0.08701\n",
      "After epoch: 6500; loss:  0.08699\n",
      "After epoch: 6600; loss:  0.08696\n",
      "After epoch: 6700; loss:  0.08693\n",
      "After epoch: 6800; loss:  0.08691\n",
      "After epoch: 6900; loss:  0.08689\n",
      "After epoch: 7000; loss:  0.08686\n",
      "After epoch: 7100; loss:  0.08684\n",
      "After epoch: 7200; loss:  0.08682\n",
      "After epoch: 7300; loss:  0.08680\n",
      "After epoch: 7400; loss:  0.08678\n",
      "After epoch: 7500; loss:  0.08676\n",
      "After epoch: 7600; loss:  0.08674\n",
      "After epoch: 7700; loss:  0.08672\n",
      "After epoch: 7800; loss:  0.08671\n",
      "After epoch: 7900; loss:  0.08669\n",
      "After epoch: 8000; loss:  0.08668\n",
      "After epoch: 8100; loss:  0.08666\n",
      "After epoch: 8200; loss:  0.08664\n",
      "After epoch: 8300; loss:  0.08663\n",
      "After epoch: 8400; loss:  0.08662\n",
      "After epoch: 8500; loss:  0.08660\n",
      "After epoch: 8600; loss:  0.08659\n",
      "After epoch: 8700; loss:  0.08657\n",
      "After epoch: 8800; loss:  0.08656\n",
      "After epoch: 8900; loss:  0.08655\n",
      "After epoch: 9000; loss:  0.08654\n",
      "After epoch: 9100; loss:  0.08653\n",
      "After epoch: 9200; loss:  0.08651\n",
      "After epoch: 9300; loss:  0.08650\n",
      "After epoch: 9400; loss:  0.08649\n",
      "After epoch: 9500; loss:  0.08648\n",
      "After epoch: 9600; loss:  0.08647\n",
      "After epoch: 9700; loss:  0.08646\n",
      "After epoch: 9800; loss:  0.08645\n",
      "After epoch: 9900; loss:  0.08644\n"
     ]
    }
   ],
   "source": [
    "nn_out_dim = 3\n",
    "model = build_model(X_train, y_train, 4, nn_out_dim)"
   ]
  },
  {
   "cell_type": "code",
   "execution_count": 29,
   "id": "847c8f70-34e2-4c26-8ca3-eb6a2ef32cac",
   "metadata": {},
   "outputs": [
    {
     "data": {
      "text/plain": [
       "(4, 4)"
      ]
     },
     "execution_count": 29,
     "metadata": {},
     "output_type": "execute_result"
    }
   ],
   "source": [
    "model['W1'].shape    #weight size matiching (2,4)"
   ]
  },
  {
   "cell_type": "code",
   "execution_count": 30,
   "id": "a939c3e2-0d5a-43ea-bfee-6102a6abb134",
   "metadata": {},
   "outputs": [
    {
     "data": {
      "text/plain": [
       "<Axes: xlabel='epoch'>"
      ]
     },
     "execution_count": 30,
     "metadata": {},
     "output_type": "execute_result"
    },
    {
     "data": {
      "image/png": "[encoded data removed]",
      "text/plain": [
       "<Figure size 1500x800 with 1 Axes>"
      ]
     },
     "metadata": {},
     "output_type": "display_data"
    }
   ],
   "source": [
    "pd.DataFrame(loss_hist).plot(x='epoch')  #loss curve "
   ]
  },
  {
   "cell_type": "code",
   "execution_count": 31,
   "id": "462a8dbb-1e10-497c-a9ac-d76529746956",
   "metadata": {},
   "outputs": [
    {
     "data": {
      "text/plain": [
       "array([0.61464763, 0.22768325, 0.48603187, 0.8072193 , 0.84422015])"
      ]
     },
     "execution_count": 31,
     "metadata": {},
     "output_type": "execute_result"
    }
   ],
   "source": [
    "np.random.rand(data_train.shape[1]) #w0, w1, w2\n",
    "#Z = x*w + b\n",
    "#Z = weights[0]"
   ]
  },
  {
   "cell_type": "code",
   "execution_count": 32,
   "id": "b8692b1f-2b8f-4ab7-b573-15ae3a977402",
   "metadata": {},
   "outputs": [
    {
     "data": {
      "text/plain": [
       "1.0"
      ]
     },
     "execution_count": 32,
     "metadata": {},
     "output_type": "execute_result"
    }
   ],
   "source": [
    "y_pred = predict(model, X_test)\n",
    "accuracy_score(y_test.argmax(axis=1), y_pred) #"
   ]
  },
  {
   "cell_type": "code",
   "execution_count": 33,
   "id": "862b0b73-7e16-451b-a9c9-3a96c851ce97",
   "metadata": {},
   "outputs": [
    {
     "data": {
      "text/plain": [
       "array([[10,  0,  0],\n",
       "       [ 0, 10,  0],\n",
       "       [ 0,  0, 10]], dtype=int64)"
      ]
     },
     "execution_count": 33,
     "metadata": {},
     "output_type": "execute_result"
    }
   ],
   "source": [
    "y_pred = predict(model, X_test)\n",
    "cmy = confusion_matrix(y_test.argmax(axis=1), y_pred)\n",
    "cmy"
   ]
  },
  {
   "cell_type": "code",
   "execution_count": 34,
   "id": "2901ed72-48f5-416c-a383-d08eb984c043",
   "metadata": {},
   "outputs": [
    {
     "data": {
      "text/plain": [
       "array([[40,  0,  0],\n",
       "       [ 0, 39,  1],\n",
       "       [ 0,  1, 39]], dtype=int64)"
      ]
     },
     "execution_count": 34,
     "metadata": {},
     "output_type": "execute_result"
    }
   ],
   "source": [
    "y_pred = predict(model, X_train)\n",
    "cm = confusion_matrix(y_train.argmax(axis=1), y_pred)\n",
    "cm"
   ]
  },
  {
   "cell_type": "code",
   "execution_count": 35,
   "id": "d4656e81-6f16-47f4-82d0-95a8a05127ce",
   "metadata": {},
   "outputs": [
    {
     "data": {
      "text/plain": [
       "0.9833333333333333"
      ]
     },
     "execution_count": 35,
     "metadata": {},
     "output_type": "execute_result"
    }
   ],
   "source": [
    "y_pred = predict(model, X_train)\n",
    "accuracy_score(y_train.argmax(axis=1), y_pred)"
   ]
  },
  {
   "cell_type": "code",
   "execution_count": 36,
   "id": "700efe11-a031-4130-ab91-04b8258c7236",
   "metadata": {},
   "outputs": [
    {
     "data": {
      "image/png": "[encoded data removed]",
      "text/plain": [
       "<Figure size 1500x800 with 1 Axes>"
      ]
     },
     "metadata": {},
     "output_type": "display_data"
    }
   ],
   "source": [
    "disp = ConfusionMatrixDisplay(confusion_matrix=cmy)\n",
    "fig, ax = plt.subplots(figure=(6,6))\n",
    "disp.plot(ax = ax, cmap='Blues', colorbar=False);\n",
    "ax.grid(False);"
   ]
  }
 ],
 "metadata": {
  "kernelspec": {
   "display_name": "Python 3 (ipykernel)",
   "language": "python",
   "name": "python3"
  },
  "language_info": {
   "codemirror_mode": {
    "name": "ipython",
    "version": 3
   },
   "file_extension": ".py",
   "mimetype": "text/x-python",
   "name": "python",
   "nbconvert_exporter": "python",
   "pygments_lexer": "ipython3",
   "version": "3.11.7"
  }
 },
 "nbformat": 4,
 "nbformat_minor": 5
}
