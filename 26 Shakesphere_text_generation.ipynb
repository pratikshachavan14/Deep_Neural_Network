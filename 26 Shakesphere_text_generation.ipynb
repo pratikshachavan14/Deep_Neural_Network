{
 "cells": [
  {
   "cell_type": "code",
   "execution_count": 1,
   "metadata": {},
   "outputs": [],
   "source": [
    "#!/usr/bin/env python\n",
    "# -*- coding: utf-8 -*-"
   ]
  },
  {
   "cell_type": "markdown",
   "metadata": {},
   "source": [
    "## Text Generation using RNN"
   ]
  },
  {
   "cell_type": "markdown",
   "metadata": {
    "id": "WGyKZj3bzf9p"
   },
   "source": [
    "### Import TensorFlow and other libraries"
   ]
  },
  {
   "cell_type": "code",
   "execution_count": 2,
   "metadata": {},
   "outputs": [
    {
     "name": "stdout",
     "output_type": "stream",
     "text": [
      "WARNING:tensorflow:From C:\\Users\\Administrator.DAI-PC2\\AppData\\Roaming\\Python\\Python311\\site-packages\\keras\\src\\losses.py:2976: The name tf.losses.sparse_softmax_cross_entropy is deprecated. Please use tf.compat.v1.losses.sparse_softmax_cross_entropy instead.\n",
      "\n"
     ]
    }
   ],
   "source": [
    "# Lets import some libraries\n",
    "import os\n",
    "import time\n",
    "import datetime\n",
    "import numpy as np\n",
    "import pandas as pd\n",
    "\n",
    "import matplotlib.pyplot as plt\n",
    "\n",
    "import tensorflow as tf\n",
    "\n",
    "%matplotlib inline"
   ]
  },
  {
   "cell_type": "code",
   "execution_count": 3,
   "metadata": {},
   "outputs": [],
   "source": [
    "def fn_verify_dir(_path):\n",
    "    '''\n",
    "    Arg:\n",
    "        path: path to verify the directory\n",
    "    returns:\n",
    "        create dir if it does not exists\n",
    "    '''\n",
    "    if os.path.exists(_path): # check if the path exists. Maybe a file or a folder\n",
    "        \n",
    "        print(_path, ' exists') # advised the user\n",
    "        \n",
    "    else:\n",
    "        \n",
    "        os.makedirs(_path) # create the path\n",
    "        \n",
    "        print(\"Created folder : \", _path)"
   ]
  },
  {
   "cell_type": "code",
   "execution_count": 4,
   "metadata": {},
   "outputs": [],
   "source": [
    "# Some basic parameters\n",
    "\n",
    "inpDir = '../input' # location where input data is stored\n",
    "outDir = '../output' # location to store outputs\n",
    "modelDir = '../models' # location to store models\n",
    "subDir = 'text_gen' # location to store models\n",
    "\n",
    "\n",
    "RANDOM_STATE = 24 # for initialization ----- REMEMBER: to remove at the time of promotion to production\n",
    "\n",
    "np.random.seed(RANDOM_STATE) # Set Random Seed for reproducible  results\n",
    "\n",
    "BATCH_SIZE = 64\n",
    "\n",
    "EPOCHS = 50 # number of cycles to run\n",
    "\n",
    "ALPHA = 0.1 # learning rate"
   ]
  },
  {
   "cell_type": "code",
   "execution_count": 5,
   "metadata": {},
   "outputs": [],
   "source": [
    "physical_devices = tf.config.list_physical_devices('GPU') \n",
    "\n",
    "if len(physical_devices) > 0:\n",
    "    tf.config.experimental.set_memory_growth(physical_devices[0], True)"
   ]
  },
  {
   "cell_type": "markdown",
   "metadata": {
    "id": "EHDoRoc5PKWz"
   },
   "source": [
    "### Reading Shakespeare dataset"
   ]
  },
  {
   "cell_type": "code",
   "execution_count": 6,
   "metadata": {},
   "outputs": [
    {
     "data": {
      "text/plain": [
       "'../input\\\\text_gen\\\\shakespeare.txt'"
      ]
     },
     "execution_count": 6,
     "metadata": {},
     "output_type": "execute_result"
    }
   ],
   "source": [
    "filePath = os.path.join(inpDir, subDir, 'shakespeare.txt')\n",
    "filePath"
   ]
  },
  {
   "cell_type": "code",
   "execution_count": 7,
   "metadata": {},
   "outputs": [
    {
     "data": {
      "text/plain": [
       "1115395"
      ]
     },
     "execution_count": 7,
     "metadata": {},
     "output_type": "execute_result"
    }
   ],
   "source": [
    "#reading the text file\n",
    "text = open(filePath, 'rb').read().decode(encoding='utf-8')\n",
    "\n",
    "len(text)"
   ]
  },
  {
   "cell_type": "code",
   "execution_count": 8,
   "metadata": {},
   "outputs": [
    {
     "name": "stdout",
     "output_type": "stream",
     "text": [
      "First Citizen:\n",
      "Before we proceed any further, hear me speak.\n",
      "\n",
      "All:\n",
      "Speak, speak.\n",
      "\n",
      "First Citizen:\n",
      "You are all resolved rather to die than to famish?\n",
      "\n",
      "All:\n",
      "Resolved. resolved.\n",
      "\n",
      "First Citizen:\n",
      "First, you know Caius Marcius is chief enemy to the people.\n",
      "\n",
      "All:\n",
      "We know't, we know't.\n",
      "\n",
      "First Citizen:\n",
      "Let us kill him, and we'll have corn at our own price.\n",
      "Is't a verdict?\n",
      "\n",
      "All:\n",
      "No more talking on't; let it \n"
     ]
    }
   ],
   "source": [
    "print(text[:400])"
   ]
  },
  {
   "cell_type": "code",
   "execution_count": 9,
   "metadata": {},
   "outputs": [
    {
     "data": {
      "text/plain": [
       "65"
      ]
     },
     "execution_count": 9,
     "metadata": {},
     "output_type": "execute_result"
    }
   ],
   "source": [
    "#character level vocabulary\n",
    "\n",
    "vocab = sorted(set(text))\n",
    "len(vocab)"
   ]
  },
  {
   "cell_type": "code",
   "execution_count": 10,
   "metadata": {},
   "outputs": [],
   "source": [
    "#vocab"
   ]
  },
  {
   "cell_type": "code",
   "execution_count": 11,
   "metadata": {},
   "outputs": [
    {
     "data": {
      "text/plain": [
       "(1115395,)"
      ]
     },
     "execution_count": 11,
     "metadata": {},
     "output_type": "execute_result"
    }
   ],
   "source": [
    "#every character assigning index\n",
    "\n",
    "#create indexing of vocab\n",
    "char2idx = {u:i for i, u in enumerate(vocab)}    #iterating over whole vocabulary, picking up character, adding index\n",
    "\n",
    "idx2char = np.array(vocab)                       #index to character\n",
    "\n",
    "text_as_int = np.array([char2idx[c] for c in text])   \n",
    "\n",
    "text_as_int.shape"
   ]
  },
  {
   "cell_type": "code",
   "execution_count": 12,
   "metadata": {},
   "outputs": [
    {
     "data": {
      "text/plain": [
       "array([18, 47, 56, ...,  8,  0,  0])"
      ]
     },
     "execution_count": 12,
     "metadata": {},
     "output_type": "execute_result"
    }
   ],
   "source": [
    "text_as_int"
   ]
  },
  {
   "cell_type": "code",
   "execution_count": 13,
   "metadata": {},
   "outputs": [
    {
     "data": {
      "text/plain": [
       "numpy.ndarray"
      ]
     },
     "execution_count": 13,
     "metadata": {},
     "output_type": "execute_result"
    }
   ],
   "source": [
    "type(text_as_int)"
   ]
  },
  {
   "cell_type": "code",
   "execution_count": 14,
   "metadata": {},
   "outputs": [
    {
     "data": {
      "text/plain": [
       "(1115395,)"
      ]
     },
     "execution_count": 14,
     "metadata": {},
     "output_type": "execute_result"
    }
   ],
   "source": [
    "text_as_int.shape"
   ]
  },
  {
   "cell_type": "code",
   "execution_count": 15,
   "metadata": {},
   "outputs": [
    {
     "data": {
      "text/plain": [
       "'i'"
      ]
     },
     "execution_count": 15,
     "metadata": {},
     "output_type": "execute_result"
    }
   ],
   "source": [
    "idx2char[47]"
   ]
  },
  {
   "cell_type": "code",
   "execution_count": 16,
   "metadata": {
    "scrolled": true
   },
   "outputs": [
    {
     "data": {
      "text/plain": [
       "{'\\n': 0,\n",
       " ' ': 1,\n",
       " '!': 2,\n",
       " '$': 3,\n",
       " '&': 4,\n",
       " \"'\": 5,\n",
       " ',': 6,\n",
       " '-': 7,\n",
       " '.': 8,\n",
       " '3': 9,\n",
       " ':': 10,\n",
       " ';': 11,\n",
       " '?': 12,\n",
       " 'A': 13,\n",
       " 'B': 14,\n",
       " 'C': 15,\n",
       " 'D': 16,\n",
       " 'E': 17,\n",
       " 'F': 18,\n",
       " 'G': 19,\n",
       " 'H': 20,\n",
       " 'I': 21,\n",
       " 'J': 22,\n",
       " 'K': 23,\n",
       " 'L': 24,\n",
       " 'M': 25,\n",
       " 'N': 26,\n",
       " 'O': 27,\n",
       " 'P': 28,\n",
       " 'Q': 29,\n",
       " 'R': 30,\n",
       " 'S': 31,\n",
       " 'T': 32,\n",
       " 'U': 33,\n",
       " 'V': 34,\n",
       " 'W': 35,\n",
       " 'X': 36,\n",
       " 'Y': 37,\n",
       " 'Z': 38,\n",
       " 'a': 39,\n",
       " 'b': 40,\n",
       " 'c': 41,\n",
       " 'd': 42,\n",
       " 'e': 43,\n",
       " 'f': 44,\n",
       " 'g': 45,\n",
       " 'h': 46,\n",
       " 'i': 47,\n",
       " 'j': 48,\n",
       " 'k': 49,\n",
       " 'l': 50,\n",
       " 'm': 51,\n",
       " 'n': 52,\n",
       " 'o': 53,\n",
       " 'p': 54,\n",
       " 'q': 55,\n",
       " 'r': 56,\n",
       " 's': 57,\n",
       " 't': 58,\n",
       " 'u': 59,\n",
       " 'v': 60,\n",
       " 'w': 61,\n",
       " 'x': 62,\n",
       " 'y': 63,\n",
       " 'z': 64}"
      ]
     },
     "execution_count": 16,
     "metadata": {},
     "output_type": "execute_result"
    }
   ],
   "source": [
    "char2idx"
   ]
  },
  {
   "cell_type": "code",
   "execution_count": 17,
   "metadata": {},
   "outputs": [
    {
     "name": "stdout",
     "output_type": "stream",
     "text": [
      "[1.0, 2.0, 3.0]\n"
     ]
    }
   ],
   "source": [
    "dataset = tf.data.Dataset.from_tensor_slices([1.,2.,3.])\n",
    "\n",
    "print (list(dataset.as_numpy_iterator()))"
   ]
  },
  {
   "cell_type": "code",
   "execution_count": 18,
   "metadata": {},
   "outputs": [
    {
     "name": "stdout",
     "output_type": "stream",
     "text": [
      "First Citi irst Citiz\n"
     ]
    }
   ],
   "source": [
    "print(text[:10], text[1:11])"
   ]
  },
  {
   "cell_type": "code",
   "execution_count": 19,
   "metadata": {},
   "outputs": [
    {
     "name": "stdout",
     "output_type": "stream",
     "text": [
      "18 | F\n",
      "47 | i\n",
      "56 | r\n",
      "57 | s\n",
      "58 | t\n",
      "1 |  \n",
      "15 | C\n",
      "47 | i\n",
      "58 | t\n",
      "47 | i\n"
     ]
    }
   ],
   "source": [
    "seq_length = 100\n",
    "\n",
    "example_per_epoch = len(text) // (seq_length+1)  #output needs extra character to predict next character\n",
    "\n",
    "char_dataset = tf.data.Dataset.from_tensor_slices(text_as_int) \n",
    "\n",
    "for i in char_dataset.take(10):\n",
    "    \n",
    "    print (i.numpy(), '|', idx2char[i.numpy()])"
   ]
  },
  {
   "cell_type": "code",
   "execution_count": 20,
   "metadata": {},
   "outputs": [
    {
     "name": "stdout",
     "output_type": "stream",
     "text": [
      "tf.Tensor(\n",
      "[18 47 56 57 58  1 15 47 58 47 64 43 52 10  0 14 43 44 53 56 43  1 61 43\n",
      "  1 54 56 53 41 43 43 42  1 39 52 63  1 44 59 56 58 46 43 56  6  1 46 43\n",
      " 39 56  1 51 43  1 57 54 43 39 49  8  0  0 13 50 50 10  0 31 54 43 39 49\n",
      "  6  1 57 54 43 39 49  8  0  0 18 47 56 57 58  1 15 47 58 47 64 43 52 10\n",
      "  0 37 53 59  1], shape=(101,), dtype=int32)\n",
      "tf.Tensor(\n",
      "[39 56 43  1 39 50 50  1 56 43 57 53 50 60 43 42  1 56 39 58 46 43 56  1\n",
      " 58 53  1 42 47 43  1 58 46 39 52  1 58 53  1 44 39 51 47 57 46 12  0  0\n",
      " 13 50 50 10  0 30 43 57 53 50 60 43 42  8  1 56 43 57 53 50 60 43 42  8\n",
      "  0  0 18 47 56 57 58  1 15 47 58 47 64 43 52 10  0 18 47 56 57 58  6  1\n",
      " 63 53 59  1 49], shape=(101,), dtype=int32)\n"
     ]
    }
   ],
   "source": [
    "sequences = char_dataset.batch(seq_length+1, drop_remainder=True) #sequence lenght in batches and dropping remaining characters\n",
    "\n",
    "for item in sequences.take(2):    #if take(2)-> two tensors \n",
    "    \n",
    "    print (item)"
   ]
  },
  {
   "cell_type": "code",
   "execution_count": 21,
   "metadata": {},
   "outputs": [
    {
     "name": "stdout",
     "output_type": "stream",
     "text": [
      "'First Citizen:\\nBefore we proceed any further, hear me speak.\\n\\nAll:\\nSpeak, speak.\\n\\nFirst Citizen:\\nYou '\n",
      "'are all resolved rather to die than to famish?\\n\\nAll:\\nResolved. resolved.\\n\\nFirst Citizen:\\nFirst, you k'\n"
     ]
    }
   ],
   "source": [
    "#converting back to characters to see sequence\n",
    "for item in sequences.take(2):\n",
    "    \n",
    "    print (repr( ''.join(idx2char[item.numpy()] ) ) )   "
   ]
  },
  {
   "cell_type": "code",
   "execution_count": 22,
   "metadata": {},
   "outputs": [],
   "source": [
    "#converting sequences into input and ouput text\n",
    "\n",
    "def split_input_target(chunk):\n",
    "    \n",
    "    input_text = chunk[:-1]\n",
    "    \n",
    "    target_text = chunk[1:]\n",
    "    \n",
    "    return input_text, target_text\n",
    "\n",
    "dataset = sequences.map(split_input_target)  #data mapping is complete at this step"
   ]
  },
  {
   "cell_type": "code",
   "execution_count": 23,
   "metadata": {},
   "outputs": [
    {
     "name": "stdout",
     "output_type": "stream",
     "text": [
      "'First Citizen:\\nBefore we proceed any further, hear me speak.\\n\\nAll:\\nSpeak, speak.\\n\\nFirst Citizen:\\nYou'\n",
      "'irst Citizen:\\nBefore we proceed any further, hear me speak.\\n\\nAll:\\nSpeak, speak.\\n\\nFirst Citizen:\\nYou '\n",
      "************************************************** \n",
      "\n",
      "'are all resolved rather to die than to famish?\\n\\nAll:\\nResolved. resolved.\\n\\nFirst Citizen:\\nFirst, you '\n",
      "'re all resolved rather to die than to famish?\\n\\nAll:\\nResolved. resolved.\\n\\nFirst Citizen:\\nFirst, you k'\n",
      "************************************************** \n",
      "\n"
     ]
    }
   ],
   "source": [
    "for inp_ex, tar_ex in dataset.take (2):\n",
    "    print (repr( ''.join(idx2char[inp_ex.numpy()] ) ))\n",
    "    print (repr( ''.join(idx2char[tar_ex.numpy()] ) ))\n",
    "    print ('*'*50, '\\n')"
   ]
  },
  {
   "cell_type": "code",
   "execution_count": 24,
   "metadata": {},
   "outputs": [
    {
     "data": {
      "text/plain": [
       "<_BatchDataset element_spec=(TensorSpec(shape=(64, 100), dtype=tf.int32, name=None), TensorSpec(shape=(64, 100), dtype=tf.int32, name=None))>"
      ]
     },
     "execution_count": 24,
     "metadata": {},
     "output_type": "execute_result"
    }
   ],
   "source": [
    "#shuffling using buffer to save cache memory\n",
    "\n",
    "BUFFER_SIZE = 10000\n",
    "\n",
    "dataset = dataset.shuffle(BUFFER_SIZE).batch(BATCH_SIZE, drop_remainder=True)\n",
    "\n",
    "dataset"
   ]
  },
  {
   "cell_type": "code",
   "execution_count": 25,
   "metadata": {},
   "outputs": [],
   "source": [
    "vocab_size = len(vocab)\n",
    "\n",
    "embedding_dim = 256     #embedding need to be tuned to create relation\n",
    "\n",
    "rnn_units = 1024\n"
   ]
  },
  {
   "cell_type": "code",
   "execution_count": 26,
   "metadata": {},
   "outputs": [],
   "source": [
    "def build_model(vocab_size, embedding_dim, rnn_units, batch_size):\n",
    "    \n",
    "    model = tf.keras.models.Sequential([\n",
    "        \n",
    "        tf.keras.layers.Embedding(vocab_size, \n",
    "                                  embedding_dim, \n",
    "                                  batch_input_shape= [batch_size, None]),\n",
    "        \n",
    "        tf.keras.layers.GRU(rnn_units,\n",
    "                            return_sequences=True, \n",
    "                            stateful=True, \n",
    "                            recurrent_initializer='glorot_uniform'\n",
    "                           ),\n",
    "        tf.keras.layers.Dense(vocab_size)\n",
    "    ])\n",
    "    \n",
    "    return model"
   ]
  },
  {
   "cell_type": "markdown",
   "metadata": {},
   "source": [
    "## model without training "
   ]
  },
  {
   "cell_type": "code",
   "execution_count": 27,
   "metadata": {},
   "outputs": [
    {
     "name": "stdout",
     "output_type": "stream",
     "text": [
      "WARNING:tensorflow:From C:\\Users\\Administrator.DAI-PC2\\AppData\\Roaming\\Python\\Python311\\site-packages\\keras\\src\\backend.py:873: The name tf.get_default_graph is deprecated. Please use tf.compat.v1.get_default_graph instead.\n",
      "\n"
     ]
    }
   ],
   "source": [
    "\n",
    "# vocab_size, embedding_dim, rnn_units, batch_size\n",
    "model = build_model(vocab_size= len(vocab), \n",
    "                    embedding_dim=embedding_dim, \n",
    "                    rnn_units = rnn_units,\n",
    "                    batch_size= BATCH_SIZE)"
   ]
  },
  {
   "cell_type": "code",
   "execution_count": 28,
   "metadata": {},
   "outputs": [
    {
     "name": "stdout",
     "output_type": "stream",
     "text": [
      "Model: \"sequential\"\n",
      "_________________________________________________________________\n",
      " Layer (type)                Output Shape              Param #   \n",
      "=================================================================\n",
      " embedding (Embedding)       (64, None, 256)           16640     \n",
      "                                                                 \n",
      " gru (GRU)                   (64, None, 1024)          3938304   \n",
      "                                                                 \n",
      " dense (Dense)               (64, None, 65)            66625     \n",
      "                                                                 \n",
      "=================================================================\n",
      "Total params: 4021569 (15.34 MB)\n",
      "Trainable params: 4021569 (15.34 MB)\n",
      "Non-trainable params: 0 (0.00 Byte)\n",
      "_________________________________________________________________\n"
     ]
    }
   ],
   "source": [
    "model.summary()"
   ]
  },
  {
   "cell_type": "code",
   "execution_count": 29,
   "metadata": {
    "scrolled": true
   },
   "outputs": [
    {
     "data": {
      "text/plain": [
       "<tf.Tensor: shape=(64, 100, 65), dtype=float32, numpy=\n",
       "array([[[-7.71450205e-03,  1.18302181e-02,  2.66546849e-04, ...,\n",
       "         -7.36422045e-03, -6.56804396e-03, -2.72386335e-03],\n",
       "        [ 3.07571143e-03,  4.23251046e-03, -8.56857561e-03, ...,\n",
       "          9.44747869e-03,  5.40684676e-04,  2.01759534e-03],\n",
       "        [ 8.26581381e-03,  1.88353881e-02, -1.82907488e-02, ...,\n",
       "          4.60136682e-03,  6.64701918e-03, -1.03462860e-02],\n",
       "        ...,\n",
       "        [-4.96507902e-03,  6.07218593e-03,  2.36177444e-02, ...,\n",
       "         -1.13936439e-02, -1.64370649e-02, -5.02436282e-03],\n",
       "        [-3.12405569e-03, -4.86289710e-03,  1.78474188e-02, ...,\n",
       "          7.91952200e-03, -1.31450510e-02,  1.72061846e-05],\n",
       "        [-2.17728270e-03, -2.87159067e-03,  8.94669071e-03, ...,\n",
       "          1.17589831e-02, -8.97912309e-03,  1.05955526e-02]],\n",
       "\n",
       "       [[ 1.10546816e-02, -7.17321876e-03,  2.05308199e-03, ...,\n",
       "         -9.39912070e-03, -4.67778649e-03, -1.08755995e-02],\n",
       "        [ 3.53640947e-03, -9.53755341e-03,  4.18556854e-03, ...,\n",
       "          1.35563184e-02, -8.98236223e-03, -1.16785802e-03],\n",
       "        [-6.55495143e-03,  8.27274844e-03,  2.48414604e-03, ...,\n",
       "          4.43628523e-04, -1.26290228e-02, -5.43014146e-04],\n",
       "        ...,\n",
       "        [ 1.30027551e-02,  8.35127663e-04,  1.05321286e-02, ...,\n",
       "          1.53109375e-02,  1.04816724e-02,  1.38334213e-02],\n",
       "        [-4.18290729e-03,  5.69264079e-03,  1.82298422e-02, ...,\n",
       "          1.52490623e-02,  7.03818025e-03,  1.89812072e-02],\n",
       "        [ 4.63589048e-03,  1.67766237e-03,  2.13218257e-02, ...,\n",
       "          1.63366292e-02,  1.23398406e-02,  2.20602881e-02]],\n",
       "\n",
       "       [[-7.71450205e-03,  1.18302181e-02,  2.66546849e-04, ...,\n",
       "         -7.36422045e-03, -6.56804396e-03, -2.72386335e-03],\n",
       "        [ 2.60253903e-03,  2.19345698e-03, -7.99406134e-03, ...,\n",
       "         -4.69678175e-03, -4.75699920e-03,  2.46744882e-03],\n",
       "        [ 6.47535734e-03,  8.42684694e-03,  3.33996955e-04, ...,\n",
       "         -5.09049091e-03, -2.53786985e-03,  1.60163874e-03],\n",
       "        ...,\n",
       "        [-1.76798832e-02, -1.59249585e-02,  1.12280101e-02, ...,\n",
       "         -9.02849250e-03, -1.99356512e-03,  9.97405965e-03],\n",
       "        [-2.26609223e-02, -1.27459709e-02, -4.87108342e-03, ...,\n",
       "         -7.08771357e-03,  8.06642976e-03,  9.25063994e-03],\n",
       "        [-1.71048678e-02, -1.52889844e-02,  6.85983989e-03, ...,\n",
       "         -4.11232701e-03,  1.59691535e-02, -5.35693951e-04]],\n",
       "\n",
       "       ...,\n",
       "\n",
       "       [[ 1.10546816e-02, -7.17321876e-03,  2.05308199e-03, ...,\n",
       "         -9.39912070e-03, -4.67778649e-03, -1.08755995e-02],\n",
       "        [ 1.25458725e-02, -2.18086038e-03,  1.23404982e-02, ...,\n",
       "          4.50246641e-03,  3.92723456e-03,  7.02706724e-03],\n",
       "        [ 9.25644860e-03, -5.80629148e-03,  8.98265745e-03, ...,\n",
       "          4.04609647e-03,  2.26573041e-03,  5.99002652e-03],\n",
       "        ...,\n",
       "        [-3.32829636e-03,  1.02794748e-02,  5.80497179e-03, ...,\n",
       "          9.37592424e-03,  1.14440070e-02,  8.60850886e-03],\n",
       "        [ 5.03883697e-03,  6.63294410e-03,  1.37458416e-02, ...,\n",
       "          1.37928966e-02,  1.51938479e-02,  1.26536144e-02],\n",
       "        [-8.46608263e-03,  6.91844476e-03,  1.88517980e-02, ...,\n",
       "          1.43305268e-02,  1.01843644e-02,  1.75294839e-02]],\n",
       "\n",
       "       [[ 1.28122680e-02, -1.27570694e-02,  3.59365949e-03, ...,\n",
       "          4.44493286e-04,  3.33993370e-03,  8.25752132e-03],\n",
       "        [-4.76994738e-03, -1.10058384e-02,  3.61876935e-03, ...,\n",
       "         -1.00380247e-02,  1.16793718e-02, -1.74590794e-03],\n",
       "        [-1.02443611e-02, -1.92484893e-02, -6.81756297e-04, ...,\n",
       "         -1.12686651e-02, -6.74693845e-04,  3.50810587e-05],\n",
       "        ...,\n",
       "        [-1.53040029e-02,  1.43968279e-03,  2.31508911e-02, ...,\n",
       "          8.40746984e-03, -2.38240627e-03,  1.37833944e-02],\n",
       "        [ 3.17163765e-04, -5.71378972e-03,  6.17626775e-03, ...,\n",
       "          2.48885527e-03, -2.91520264e-03,  1.17661590e-02],\n",
       "        [ 5.92274684e-03,  3.38485651e-03,  8.84047337e-03, ...,\n",
       "         -2.08847830e-03, -1.78085570e-03,  6.57108519e-03]],\n",
       "\n",
       "       [[ 9.54731554e-03, -1.02744624e-03, -7.80930510e-03, ...,\n",
       "          1.37182344e-02,  3.42360605e-03,  4.30473685e-03],\n",
       "        [-4.97311726e-03,  6.16131816e-04,  1.12979785e-02, ...,\n",
       "          1.57015324e-02,  4.21871524e-03,  1.49195567e-02],\n",
       "        [ 3.28845344e-03,  5.12971077e-03,  1.10612828e-02, ...,\n",
       "          2.85756867e-03,  2.71706143e-03,  9.83697455e-03],\n",
       "        ...,\n",
       "        [-8.62194784e-03, -1.10506488e-03,  3.46467365e-04, ...,\n",
       "         -6.30102586e-03,  1.47422571e-02, -2.72199302e-03],\n",
       "        [-7.05132354e-03, -1.84570923e-02, -1.94941182e-03, ...,\n",
       "         -1.93941372e-03,  7.25421030e-03, -5.10322629e-04],\n",
       "        [-8.50650389e-03, -1.00759408e-02,  6.39716582e-03, ...,\n",
       "         -3.90588539e-03,  5.50724473e-03,  2.99896346e-03]]],\n",
       "      dtype=float32)>"
      ]
     },
     "execution_count": 29,
     "metadata": {},
     "output_type": "execute_result"
    }
   ],
   "source": [
    "for input_ex_batch, target_ex_batch in dataset.take(1):\n",
    "    ex_batch_pred = model(input_ex_batch)\n",
    "\n",
    "ex_batch_pred"
   ]
  },
  {
   "cell_type": "code",
   "execution_count": 30,
   "metadata": {},
   "outputs": [
    {
     "data": {
      "text/plain": [
       "TensorShape([64, 100, 65])"
      ]
     },
     "execution_count": 30,
     "metadata": {},
     "output_type": "execute_result"
    }
   ],
   "source": [
    "ex_batch_pred.shape  #64 is batchsize  , timesteps are 100,  features are 65"
   ]
  },
  {
   "cell_type": "code",
   "execution_count": 31,
   "metadata": {},
   "outputs": [
    {
     "name": "stdout",
     "output_type": "stream",
     "text": [
      "Model: \"sequential\"\n",
      "_________________________________________________________________\n",
      " Layer (type)                Output Shape              Param #   \n",
      "=================================================================\n",
      " embedding (Embedding)       (64, None, 256)           16640     \n",
      "                                                                 \n",
      " gru (GRU)                   (64, None, 1024)          3938304   \n",
      "                                                                 \n",
      " dense (Dense)               (64, None, 65)            66625     \n",
      "                                                                 \n",
      "=================================================================\n",
      "Total params: 4021569 (15.34 MB)\n",
      "Trainable params: 4021569 (15.34 MB)\n",
      "Non-trainable params: 0 (0.00 Byte)\n",
      "_________________________________________________________________\n"
     ]
    }
   ],
   "source": [
    "model.summary()"
   ]
  },
  {
   "cell_type": "markdown",
   "metadata": {},
   "source": [
    "## model with training"
   ]
  },
  {
   "cell_type": "code",
   "execution_count": 32,
   "metadata": {},
   "outputs": [
    {
     "data": {
      "text/plain": [
       "array([59,  3, 16,  6, 49, 33,  0, 61,  1, 61, 61, 35, 21, 26, 39, 32, 18,\n",
       "       32,  5,  0, 56, 41, 46, 52,  1,  7, 48,  9, 51,  8,  5, 50, 58,  0,\n",
       "       54, 43, 10, 22, 54, 10, 38, 48, 16, 19, 38, 62, 60, 10, 64,  9,  3,\n",
       "       39, 44, 49, 37, 28, 19, 31,  6, 11, 15, 46, 19, 28, 44,  2,  9,  2,\n",
       "       50,  1, 32, 22,  9, 27, 21, 21, 55,  7, 28, 13, 32, 52, 14,  3, 22,\n",
       "       32, 63, 46, 60, 11, 17, 23,  0, 41, 53, 37,  7, 25,  1, 31],\n",
       "      dtype=int64)"
      ]
     },
     "execution_count": 32,
     "metadata": {},
     "output_type": "execute_result"
    }
   ],
   "source": [
    "#from 3d to 2d\n",
    "sampled_indices = tf.random.categorical(ex_batch_pred[0], num_samples=1)\n",
    "sampled_indices = tf.squeeze(sampled_indices, axis = -1).numpy()\n",
    "\n",
    "sampled_indices"
   ]
  },
  {
   "cell_type": "code",
   "execution_count": 33,
   "metadata": {},
   "outputs": [],
   "source": [
    "loss_fn = tf.losses.SparseCategoricalCrossentropy(from_logits=True)"
   ]
  },
  {
   "cell_type": "code",
   "execution_count": 34,
   "metadata": {},
   "outputs": [
    {
     "name": "stdout",
     "output_type": "stream",
     "text": [
      "WARNING:tensorflow:From C:\\Users\\Administrator.DAI-PC2\\AppData\\Roaming\\Python\\Python311\\site-packages\\keras\\src\\optimizers\\__init__.py:309: The name tf.train.Optimizer is deprecated. Please use tf.compat.v1.train.Optimizer instead.\n",
      "\n"
     ]
    }
   ],
   "source": [
    "model.compile(optimizer = 'adam', loss=loss_fn)  #compiling model with adam"
   ]
  },
  {
   "cell_type": "code",
   "execution_count": 35,
   "metadata": {},
   "outputs": [],
   "source": [
    "#checkpoint to every \n",
    "chkPtPath = os.path.join(modelDir, subDir)\n",
    "\n",
    "chkPtPrefix = os.path.join(chkPtPath, 'chkpt_{epoch}')\n",
    "\n",
    "checkpoint_callback = tf.keras.callbacks.ModelCheckpoint(filepath=chkPtPrefix,\n",
    "                                                        save_weights_only=True)"
   ]
  },
  {
   "cell_type": "code",
   "execution_count": 36,
   "metadata": {
    "scrolled": true
   },
   "outputs": [
    {
     "name": "stdout",
     "output_type": "stream",
     "text": [
      "Epoch 1/50\n",
      "WARNING:tensorflow:From C:\\Users\\Administrator.DAI-PC2\\AppData\\Roaming\\Python\\Python311\\site-packages\\keras\\src\\utils\\tf_utils.py:492: The name tf.ragged.RaggedTensorValue is deprecated. Please use tf.compat.v1.ragged.RaggedTensorValue instead.\n",
      "\n",
      "172/172 [==============================] - 172s 973ms/step - loss: 2.6851\n",
      "Epoch 2/50\n",
      "172/172 [==============================] - 172s 990ms/step - loss: 1.9798\n",
      "Epoch 3/50\n",
      "172/172 [==============================] - 176s 1s/step - loss: 1.7085\n",
      "Epoch 4/50\n",
      "172/172 [==============================] - 173s 998ms/step - loss: 1.5557\n",
      "Epoch 5/50\n",
      "172/172 [==============================] - 170s 981ms/step - loss: 1.4653\n",
      "Epoch 6/50\n",
      "172/172 [==============================] - 173s 995ms/step - loss: 1.4030\n",
      "Epoch 7/50\n",
      "172/172 [==============================] - 172s 993ms/step - loss: 1.3567\n",
      "Epoch 8/50\n",
      "172/172 [==============================] - 169s 973ms/step - loss: 1.3179\n",
      "Epoch 9/50\n",
      "172/172 [==============================] - 171s 985ms/step - loss: 1.2825\n",
      "Epoch 10/50\n",
      "172/172 [==============================] - 168s 971ms/step - loss: 1.2499\n",
      "Epoch 11/50\n",
      "172/172 [==============================] - 168s 969ms/step - loss: 1.2186\n",
      "Epoch 12/50\n",
      "172/172 [==============================] - 168s 968ms/step - loss: 1.1868\n",
      "Epoch 13/50\n",
      "172/172 [==============================] - 172s 994ms/step - loss: 1.1547\n",
      "Epoch 14/50\n",
      "172/172 [==============================] - 172s 992ms/step - loss: 1.1231\n",
      "Epoch 15/50\n",
      "172/172 [==============================] - 171s 986ms/step - loss: 1.0885\n",
      "Epoch 16/50\n",
      "172/172 [==============================] - 173s 999ms/step - loss: 1.0535\n",
      "Epoch 17/50\n",
      "172/172 [==============================] - 170s 979ms/step - loss: 1.0188\n",
      "Epoch 18/50\n",
      "172/172 [==============================] - 169s 972ms/step - loss: 0.9819\n",
      "Epoch 19/50\n",
      "172/172 [==============================] - 168s 966ms/step - loss: 0.9476\n",
      "Epoch 20/50\n",
      "172/172 [==============================] - 169s 974ms/step - loss: 0.9124\n",
      "Epoch 21/50\n",
      "172/172 [==============================] - 167s 962ms/step - loss: 0.8803\n",
      "Epoch 22/50\n",
      "172/172 [==============================] - 169s 972ms/step - loss: 0.8507\n",
      "Epoch 23/50\n",
      "172/172 [==============================] - 169s 976ms/step - loss: 0.8219\n",
      "Epoch 24/50\n",
      "172/172 [==============================] - 173s 994ms/step - loss: 0.7991\n",
      "Epoch 25/50\n",
      "172/172 [==============================] - 173s 994ms/step - loss: 0.7744\n",
      "Epoch 26/50\n",
      "172/172 [==============================] - 173s 999ms/step - loss: 0.7561\n",
      "Epoch 27/50\n",
      "172/172 [==============================] - 173s 998ms/step - loss: 0.7368\n",
      "Epoch 28/50\n",
      "172/172 [==============================] - 173s 1000ms/step - loss: 0.7236\n",
      "Epoch 29/50\n",
      "172/172 [==============================] - 173s 999ms/step - loss: 0.7082\n",
      "Epoch 30/50\n",
      "172/172 [==============================] - 172s 992ms/step - loss: 0.6969\n",
      "Epoch 31/50\n",
      "172/172 [==============================] - 171s 987ms/step - loss: 0.6859\n",
      "Epoch 32/50\n",
      "172/172 [==============================] - 168s 970ms/step - loss: 0.6784\n",
      "Epoch 33/50\n",
      "172/172 [==============================] - 168s 968ms/step - loss: 0.6709\n",
      "Epoch 34/50\n",
      "172/172 [==============================] - 171s 988ms/step - loss: 0.6648\n",
      "Epoch 35/50\n",
      "172/172 [==============================] - 172s 994ms/step - loss: 0.6585\n",
      "Epoch 36/50\n",
      "172/172 [==============================] - 172s 991ms/step - loss: 0.6529\n",
      "Epoch 37/50\n",
      "172/172 [==============================] - 173s 1s/step - loss: 0.6484\n",
      "Epoch 38/50\n",
      "172/172 [==============================] - 172s 990ms/step - loss: 0.6451\n",
      "Epoch 39/50\n",
      "172/172 [==============================] - 169s 974ms/step - loss: 0.6428\n",
      "Epoch 40/50\n",
      "172/172 [==============================] - 168s 971ms/step - loss: 0.6383\n",
      "Epoch 41/50\n",
      "172/172 [==============================] - 170s 981ms/step - loss: 0.6384\n",
      "Epoch 42/50\n",
      "172/172 [==============================] - 168s 968ms/step - loss: 0.6357\n",
      "Epoch 43/50\n",
      "172/172 [==============================] - 170s 980ms/step - loss: 0.6360\n",
      "Epoch 44/50\n",
      "172/172 [==============================] - 173s 998ms/step - loss: 0.6346\n",
      "Epoch 45/50\n",
      "172/172 [==============================] - 174s 1s/step - loss: 0.6347\n",
      "Epoch 46/50\n",
      "172/172 [==============================] - 170s 978ms/step - loss: 0.6330\n",
      "Epoch 47/50\n",
      "172/172 [==============================] - 174s 1s/step - loss: 0.6323\n",
      "Epoch 48/50\n",
      "172/172 [==============================] - 171s 985ms/step - loss: 0.6298\n",
      "Epoch 49/50\n",
      "172/172 [==============================] - 171s 983ms/step - loss: 0.6324\n",
      "Epoch 50/50\n",
      "172/172 [==============================] - 168s 966ms/step - loss: 0.6330\n"
     ]
    }
   ],
   "source": [
    "history = model.fit(dataset, epochs=EPOCHS, callbacks=[checkpoint_callback])"
   ]
  },
  {
   "cell_type": "code",
   "execution_count": 37,
   "metadata": {},
   "outputs": [
    {
     "data": {
      "text/plain": [
       "'../models\\\\text_gen\\\\chkpt_50'"
      ]
     },
     "execution_count": 37,
     "metadata": {},
     "output_type": "execute_result"
    }
   ],
   "source": [
    "tf.train.latest_checkpoint(chkPtPath)"
   ]
  },
  {
   "cell_type": "code",
   "execution_count": 38,
   "metadata": {},
   "outputs": [],
   "source": [
    "#builing model once again for batch size 1, for each character\n",
    "\n",
    "model = build_model(vocab_size, embedding_dim, rnn_units, batch_size=1)\n",
    "\n",
    "model.load_weights(tf.train.latest_checkpoint(chkPtPath))\n",
    "\n",
    "model.build ( tf.TensorShape ( [1, None ] ) )"
   ]
  },
  {
   "cell_type": "code",
   "execution_count": 39,
   "metadata": {},
   "outputs": [
    {
     "name": "stdout",
     "output_type": "stream",
     "text": [
      "Model: \"sequential_1\"\n",
      "_________________________________________________________________\n",
      " Layer (type)                Output Shape              Param #   \n",
      "=================================================================\n",
      " embedding_1 (Embedding)     (1, None, 256)            16640     \n",
      "                                                                 \n",
      " gru_1 (GRU)                 (1, None, 1024)           3938304   \n",
      "                                                                 \n",
      " dense_1 (Dense)             (1, None, 65)             66625     \n",
      "                                                                 \n",
      "=================================================================\n",
      "Total params: 4021569 (15.34 MB)\n",
      "Trainable params: 4021569 (15.34 MB)\n",
      "Non-trainable params: 0 (0.00 Byte)\n",
      "_________________________________________________________________\n"
     ]
    }
   ],
   "source": [
    "model.summary()"
   ]
  },
  {
   "cell_type": "code",
   "execution_count": 40,
   "metadata": {},
   "outputs": [],
   "source": [
    "def generate_text(model, start_string):\n",
    "    \n",
    "    num_generate =  1000\n",
    "    input_eval = [char2idx[s] for s in start_string] # [37, 48, 56 ]\n",
    "    print (f'Input: {start_string} | {input_eval}\\n')\n",
    "    input_eval = tf.expand_dims(input_eval, 0) # tf.Tensor (1, 1, 5)\n",
    "    text_generated = []\n",
    "    \n",
    "    model.reset_states()  #state reset as \n",
    "    \n",
    "    for i in range(num_generate):\n",
    "        \n",
    "        predictions = model(input_eval)\n",
    "        predictions = tf.squeeze(predictions, 0)\n",
    "        predict_td = tf.random.categorical(predictions, \n",
    "                                            num_samples=1)[-1,0].numpy()\n",
    "        \n",
    "        input_eval = tf.expand_dims([predict_td], 0)       #converting into texy\n",
    "        text_generated.append(idx2char[predict_td])\n",
    "        \n",
    "    return start_string+''.join(text_generated)"
   ]
  },
  {
   "cell_type": "code",
   "execution_count": 41,
   "metadata": {},
   "outputs": [
    {
     "name": "stdout",
     "output_type": "stream",
     "text": [
      "Input: ROMEO: | [30, 27, 25, 17, 27, 10]\n",
      "\n",
      "ROMEO:\n",
      "Why, what's the marther\n",
      "They not hear him health of sweet beauty,\n",
      "To stop these forthtiolitage.\n",
      "\n",
      "ROMEO:\n",
      "It was the infant troop?\n",
      "\n",
      "BIANCA:\n",
      "Why, then you please to end whose rod esched;\n",
      "Who for this controvate will I be\n",
      "Of 'twere not by judge: they love Julius 'gainst the field\n",
      "II lesser his smiles lord: it is not known\n",
      "Whether you can him\n",
      "Approach'd coloces here; this is a miracle,\n",
      "I, not my company, stealing how can heaven bid Bolingbroke\n",
      "and more than you or I yet shues this is the royalties enjoy\n",
      "your estate and state and bring out justice,--\n",
      "\n",
      "AUFIDIUS:\n",
      "That I were slain!\n",
      "Away to them, and in that save beats;\n",
      "Mow's would have beat the man that hath the woe,\n",
      "How should they follow upon\n",
      "A Fresh shook way: die? Thou'rt a friendstund caps and child\n",
      "Did not beck fair march in your velvate\n",
      "Dideafter to reside scandage of the western shames,\n",
      "And let us any inferr's sun;\n",
      "Not sweat is nothing of the adverse remorse\n",
      "To win her severel thou art.\n",
      "\n",
      "Second Murderer:\n",
      "I thought my iraturance treebl\n"
     ]
    }
   ],
   "source": [
    "print (generate_text(model, start_string=u'ROMEO:'))"
   ]
  }
 ],
 "metadata": {
  "accelerator": "GPU",
  "colab": {
   "collapsed_sections": [],
   "name": "text_generation.ipynb",
   "toc_visible": true
  },
  "kernelspec": {
   "display_name": "Python 3 (ipykernel)",
   "language": "python",
   "name": "python3"
  },
  "language_info": {
   "codemirror_mode": {
    "name": "ipython",
    "version": 3
   },
   "file_extension": ".py",
   "mimetype": "text/x-python",
   "name": "python",
   "nbconvert_exporter": "python",
   "pygments_lexer": "ipython3",
   "version": "3.11.7"
  }
 },
 "nbformat": 4,
 "nbformat_minor": 4
}
