{
 "cells": [
  {
   "cell_type": "code",
   "execution_count": 1,
   "id": "a2e75ead",
   "metadata": {},
   "outputs": [],
   "source": [
    "#!/usr/bin/env python`\n",
    "# -*- coding: utf-8 -*-"
   ]
  },
  {
   "cell_type": "code",
   "execution_count": 2,
   "id": "3d52e7d5",
   "metadata": {},
   "outputs": [
    {
     "name": "stdout",
     "output_type": "stream",
     "text": [
      "WARNING:tensorflow:From C:\\Users\\Administrator.DAI-PC2\\AppData\\Roaming\\Python\\Python311\\site-packages\\keras\\src\\losses.py:2976: The name tf.losses.sparse_softmax_cross_entropy is deprecated. Please use tf.compat.v1.losses.sparse_softmax_cross_entropy instead.\n",
      "\n"
     ]
    }
   ],
   "source": [
    "###-----------------\n",
    "### Import Libraries\n",
    "###-----------------\n",
    "\n",
    "import os\n",
    "import numpy as np\n",
    "import pandas as pd\n",
    "import torch\n",
    "\n",
    "from collections.abc import Callable\n",
    "from typing import Literal\n",
    "\n",
    "from sklearn.model_selection import train_test_split\n",
    "from sklearn.metrics import accuracy_score, classification_report, confusion_matrix, ConfusionMatrixDisplay\n",
    "from sklearn.preprocessing import StandardScaler\n",
    "import matplotlib.pyplot as plt\n",
    "import tensorflow as tf\n",
    "import sys\n",
    "\n",
    "from utils.helper import fn_plot_tf_hist, fn_plot_confusion_matrix, fn_plot_torch_hist"
   ]
  },
  {
   "cell_type": "code",
   "execution_count": 3,
   "id": "affcf40f-4d50-4980-afb0-ecccaa1d79d1",
   "metadata": {},
   "outputs": [
    {
     "name": "stdout",
     "output_type": "stream",
     "text": [
      "\n",
      "    Args:\n",
      "        hist_df: a dataframe with following ccolumns\n",
      "            column 0: loss\n",
      "            column 1: accuracy\n",
      "            column 2: val_loss\n",
      "            column 3: val_accuracy\n",
      "            While plotting columns are accessed by index \n",
      "            so that even if the column names are different it will not throw exceptions.\n",
      "    \n"
     ]
    }
   ],
   "source": [
    "print(fn_plot_tf_hist.__doc__)"
   ]
  },
  {
   "cell_type": "code",
   "execution_count": 4,
   "id": "cbc5263a-2523-4460-86db-85c4787fbf69",
   "metadata": {},
   "outputs": [
    {
     "name": "stdout",
     "output_type": "stream",
     "text": [
      "\n",
      "    Args:\n",
      "        y_true: Ground Truth \n",
      "        y_pred : Predictions\n",
      "        labels : dictonary \n",
      "                  {0: 'Goal Keeper', \n",
      "                  1: 'Defender', \n",
      "                  2: 'Mid-Fielder', \n",
      "                  3: 'Forward'}\n",
      "    \n",
      "    \n"
     ]
    }
   ],
   "source": [
    "print (fn_plot_confusion_matrix.__doc__)"
   ]
  },
  {
   "cell_type": "code",
   "execution_count": 5,
   "id": "b32a9af9",
   "metadata": {},
   "outputs": [],
   "source": [
    "###----------------------\n",
    "### Some basic parameters\n",
    "###----------------------\n",
    "\n",
    "inpDir = '../input'\n",
    "outDir = '../output'\n",
    "modelDir = './models'\n",
    "subDir = 'fifa_2019'\n",
    "\n",
    "RANDOM_STATE = 24 # for initialization ----- REMEMBER: to remove at the time of promotion to production\n",
    "np.random.seed(RANDOM_STATE) # Set Random Seed for reproducible  results\n",
    "tf.random.set_seed(RANDOM_STATE) # setting for Tensorflow as well\n",
    "\n",
    "\n",
    "EPOCHS = 101 # number of epochs\n",
    "ALPHA = 0.001 # learning rate\n",
    "\n",
    "BATCH_SIZE = 32\n",
    "TEST_SIZE = 0.2\n",
    "REG_LAMBDA = 0.001\n",
    "\n",
    "\n",
    "# parameters for Matplotlib\n",
    "params = {'legend.fontsize': 'medium',\n",
    "          'figure.figsize': (15, 6),\n",
    "          'axes.labelsize': 'medium',\n",
    "          'axes.titlesize':'large',\n",
    "          'xtick.labelsize':'medium',\n",
    "          'ytick.labelsize':'medium'\n",
    "         }\n",
    "\n",
    "plt.rcParams.update(params)\n",
    "\n",
    "CMAP = plt.cm.coolwarm\n",
    "plt.style.use('seaborn-v0_8-darkgrid') # plt.style.use('ggplot')"
   ]
  },
  {
   "cell_type": "markdown",
   "id": "591b1fc2",
   "metadata": {},
   "source": [
    "## Read FIFA 2019 data set"
   ]
  },
  {
   "cell_type": "code",
   "execution_count": 6,
   "id": "a2177d69",
   "metadata": {},
   "outputs": [
    {
     "data": {
      "text/plain": [
       "(18207, 89)"
      ]
     },
     "execution_count": 6,
     "metadata": {},
     "output_type": "execute_result"
    }
   ],
   "source": [
    "data_df = pd.read_csv(os.path.join(inpDir, 'fifa_2019.csv'))\n",
    "data_df.shape"
   ]
  },
  {
   "cell_type": "code",
   "execution_count": 7,
   "id": "d21a48ac-1b95-44a6-8a4a-11adea74a66f",
   "metadata": {},
   "outputs": [],
   "source": [
    "#data_df.columns"
   ]
  },
  {
   "cell_type": "code",
   "execution_count": 8,
   "id": "276462a7",
   "metadata": {},
   "outputs": [],
   "source": [
    "# removing rows with position = null\n",
    "data_df = data_df[data_df[\"Position\"].notnull()]\n",
    "#data_df.head()"
   ]
  },
  {
   "cell_type": "code",
   "execution_count": 9,
   "id": "4db52786-47a7-46b0-8883-a923fbec103d",
   "metadata": {},
   "outputs": [],
   "source": [
    "#data_df['Position'].isnull()"
   ]
  },
  {
   "cell_type": "code",
   "execution_count": 10,
   "id": "5a237f4a",
   "metadata": {},
   "outputs": [],
   "source": [
    "# Following columns appear to be relevant for our analysis\n",
    "rel_cols = [\"Position\", 'Finishing', 'HeadingAccuracy', 'ShortPassing', 'Volleys', 'Dribbling',\n",
    "            'Curve', 'FKAccuracy', 'LongPassing', 'BallControl', 'Acceleration',\n",
    "            'SprintSpeed', 'Agility', 'Reactions', 'Balance', 'ShotPower',\n",
    "            'Jumping', 'Stamina', 'Strength', 'LongShots', 'Aggression',\n",
    "            'Interceptions', 'Positioning', 'Vision', 'Penalties', 'Composure',\n",
    "            'Marking', 'StandingTackle', 'SlidingTackle', 'GKDiving', 'GKHandling',\n",
    "            'GKKicking', 'GKPositioning', 'GKReflexes']"
   ]
  },
  {
   "cell_type": "code",
   "execution_count": 11,
   "id": "78f6a5e9",
   "metadata": {},
   "outputs": [],
   "source": [
    "goalkeeper = 'GK'\n",
    "forward = ['ST', 'LW', 'RW', 'LF', 'RF', 'RS','LS', 'CF']\n",
    "midfielder = ['CM','RCM','LCM', 'CDM','RDM','LDM', 'CAM', 'LAM', 'RAM', 'RM', 'LM']\n",
    "defender = ['CB', 'RCB', 'LCB', 'LWB', 'RWB', 'LB', 'RB']"
   ]
  },
  {
   "cell_type": "code",
   "execution_count": 12,
   "id": "ae7c0c41",
   "metadata": {},
   "outputs": [],
   "source": [
    "#Assign labels to goalkeepers\n",
    "data_df.loc[data_df[\"Position\"] == \"GK\", \"Position\"] = 0\n",
    "\n",
    "#Defenders\n",
    "data_df.loc[data_df[\"Position\"].isin(defender), \"Position\"] = 1\n",
    "\n",
    "#Midfielders\n",
    "data_df.loc[data_df[\"Position\"].isin(midfielder), \"Position\"] = 2\n",
    "\n",
    "#Forward\n",
    "data_df.loc[data_df[\"Position\"].isin(forward), \"Position\"] = 3\n",
    "\n",
    "# Convert Column \"Position\" to numeric so that Pandas does not complain\n",
    "data_df['Position'] = pd.to_numeric(data_df['Position'], downcast=\"integer\")"
   ]
  },
  {
   "cell_type": "code",
   "execution_count": 13,
   "id": "592d6055",
   "metadata": {},
   "outputs": [],
   "source": [
    "data_df = data_df[rel_cols]\n",
    "#data_df.head()"
   ]
  },
  {
   "cell_type": "code",
   "execution_count": 14,
   "id": "2090980a",
   "metadata": {},
   "outputs": [],
   "source": [
    "labels101 = {0: 'Goal Keeper', 1: 'Defender', 2: 'Mid-Fielder', 3: 'Forward'}"
   ]
  },
  {
   "cell_type": "code",
   "execution_count": 15,
   "id": "5e97af28-1984-4de2-a3cd-9dc492d4a024",
   "metadata": {},
   "outputs": [],
   "source": [
    "features_df = data_df.drop('Position', axis = 1)\n",
    "labels = data_df['Position']"
   ]
  },
  {
   "cell_type": "code",
   "execution_count": 16,
   "id": "352346e9-13e1-4300-b133-2e2e75563820",
   "metadata": {},
   "outputs": [
    {
     "data": {
      "text/plain": [
       "0"
      ]
     },
     "execution_count": 16,
     "metadata": {},
     "output_type": "execute_result"
    }
   ],
   "source": [
    "data_df['Position'].isnull().sum()"
   ]
  },
  {
   "cell_type": "code",
   "execution_count": 17,
   "id": "1644bc88",
   "metadata": {},
   "outputs": [
    {
     "data": {
      "text/plain": [
       "((14517, 33), (3630, 33), (14517,), (3630,))"
      ]
     },
     "execution_count": 17,
     "metadata": {},
     "output_type": "execute_result"
    }
   ],
   "source": [
    "# splitting in train ans test datasets\n",
    "X_train, X_test, y_train, y_test = train_test_split(features_df, labels,\n",
    "                                     stratify=labels,\n",
    "                                     test_size=TEST_SIZE, \n",
    "                                     random_state=RANDOM_STATE )\n",
    "X_train.shape, X_test.shape, y_train.shape, y_test.shape"
   ]
  },
  {
   "cell_type": "code",
   "execution_count": 18,
   "id": "41f368ae-3a4a-453e-8ad4-e9d07db1e5d4",
   "metadata": {},
   "outputs": [],
   "source": [
    "sc = StandardScaler()\n",
    "\n",
    "X_train = sc.fit_transform(X_train)\n",
    "X_test = sc.transform(X_test)"
   ]
  },
  {
   "cell_type": "code",
   "execution_count": 19,
   "id": "4602e774-78ae-44a2-8d95-a56434961a17",
   "metadata": {},
   "outputs": [
    {
     "data": {
      "text/plain": [
       "(14517, 33)"
      ]
     },
     "execution_count": 19,
     "metadata": {},
     "output_type": "execute_result"
    }
   ],
   "source": [
    "X_train.shape"
   ]
  },
  {
   "cell_type": "code",
   "execution_count": 20,
   "id": "0c6e7c9b-3448-463b-8743-ba13b08837de",
   "metadata": {},
   "outputs": [],
   "source": [
    "y_train = y_train.to_numpy()\n",
    "y_test = y_test.to_numpy()"
   ]
  },
  {
   "cell_type": "markdown",
   "id": "3a30b5e3-e834-4ec9-ab8d-a6e9e37dba96",
   "metadata": {},
   "source": [
    "# defining model"
   ]
  },
  {
   "cell_type": "code",
   "execution_count": 21,
   "id": "e34f1b95-f33e-48e5-9c7e-9f7d2c91e0de",
   "metadata": {},
   "outputs": [],
   "source": [
    "# 33 -> 23 -> 12 -> 4 -> 4 #diving layers"
   ]
  },
  {
   "cell_type": "markdown",
   "id": "0fa927b2-239b-4d9d-bcef-4cae2f318ae4",
   "metadata": {},
   "source": [
    "## with batch normalization"
   ]
  },
  {
   "cell_type": "code",
   "execution_count": 22,
   "id": "a9e45550-275a-4d9a-993c-5dd6ac394d0f",
   "metadata": {},
   "outputs": [
    {
     "name": "stdout",
     "output_type": "stream",
     "text": [
      "WARNING:tensorflow:From C:\\Users\\Administrator.DAI-PC2\\AppData\\Roaming\\Python\\Python311\\site-packages\\keras\\src\\backend.py:1398: The name tf.executing_eagerly_outside_functions is deprecated. Please use tf.compat.v1.executing_eagerly_outside_functions instead.\n",
      "\n"
     ]
    }
   ],
   "source": [
    "\n",
    "#initializer\n",
    "k_init = tf.keras.initializers.GlorotUniform(seed=RANDOM_STATE)\n",
    "\n",
    "#regularizer\n",
    "#k_reg = tf.keras.regularizers.L2(l2=REG_LAMBDA)\n",
    "k_reg = None\n",
    "\n",
    "#dropout rates\n",
    "dor1 = 0.35\n",
    "dor2 = 0.25\n",
    "dor3 = 0.15\n",
    "dor4 = 0.05\n",
    "\n",
    "model = tf.keras.Sequential([\n",
    "\n",
    "    #input layer\n",
    "    tf.keras.layers.InputLayer(input_shape = (33,)),\n",
    "\n",
    "    #each set contains 1 dense layer and 1 dropout\n",
    "\n",
    "    #hidden layers\n",
    "    #set 1\n",
    "    tf.keras.layers.Dense(33, \n",
    "                          #activation='relu', \n",
    "                          kernel_initializer = k_init, \n",
    "                          kernel_regularizer=k_reg),\n",
    "\n",
    "    #BN layer\n",
    "    tf.keras.layers.BatchNormalization(),\n",
    "    tf.keras.layers.ReLU(),\n",
    "    #DO Layer\n",
    "    #tf.keras.layers.Dropout(dor1),\n",
    "\n",
    "    ############################################################################\n",
    "    \n",
    "    #set 2\n",
    "    tf.keras.layers.Dense(23, \n",
    "                          #activation='relu', \n",
    "                          kernel_initializer=k_init, \n",
    "                          kernel_regularizer=k_reg),\n",
    "\n",
    "    #BN layer\n",
    "    tf.keras.layers.BatchNormalization(),\n",
    "    tf.keras.layers.ReLU(),\n",
    "    #DO Layer\n",
    "    #tf.keras.layers.Dropout(dor2),\n",
    "    ############################################################################\n",
    "     \n",
    "    #set 3\n",
    "    tf.keras.layers.Dense(12, \n",
    "                          #activation='relu', \n",
    "                          kernel_initializer=k_init, \n",
    "                          kernel_regularizer=k_reg),\n",
    "\n",
    "    #BN layer\n",
    "    tf.keras.layers.BatchNormalization(),\n",
    "    tf.keras.layers.ReLU(),\n",
    "    #DO Layer\n",
    "    #tf.keras.layers.Dropout(dor3),\n",
    "    ############################################################################\n",
    "    \n",
    "    #set 4\n",
    "    tf.keras.layers.Dense(4, \n",
    "                          #activation='relu', \n",
    "                          kernel_initializer=k_init, \n",
    "                          kernel_regularizer=k_reg),\n",
    "\n",
    "    #BN layer\n",
    "    tf.keras.layers.BatchNormalization(),\n",
    "    tf.keras.layers.ReLU(),\n",
    "    #DO Layer\n",
    "    #tf.keras.layers.Dropout(dor4),\n",
    "    ############################################################################\n",
    "\n",
    "    #output layer\n",
    "    tf.keras.layers.Dense(4)\n",
    "])"
   ]
  },
  {
   "cell_type": "code",
   "execution_count": 23,
   "id": "86bc6c8c-6596-40e9-919f-c2c375da2070",
   "metadata": {},
   "outputs": [
    {
     "data": {
      "text/plain": [
       "<tf.Tensor: shape=(1, 4), dtype=float32, numpy=\n",
       "array([[ 0.07922255, -0.03820699, -0.06462078, -0.19361062]],\n",
       "      dtype=float32)>"
      ]
     },
     "execution_count": 23,
     "metadata": {},
     "output_type": "execute_result"
    }
   ],
   "source": [
    "model(X_train[:1])"
   ]
  },
  {
   "cell_type": "code",
   "execution_count": 24,
   "id": "c9807fab-82aa-4126-9456-1fa35a807164",
   "metadata": {},
   "outputs": [],
   "source": [
    "loss_fn = tf.keras.losses.SparseCategoricalCrossentropy(from_logits=True)\n",
    "optimizer = tf.keras.optimizers.Adam(learning_rate = ALPHA)"
   ]
  },
  {
   "cell_type": "code",
   "execution_count": 25,
   "id": "26f21238-b48f-4e62-abe8-7e7c7ef35636",
   "metadata": {
    "scrolled": true
   },
   "outputs": [
    {
     "name": "stdout",
     "output_type": "stream",
     "text": [
      "Epoch 1/101\n",
      "WARNING:tensorflow:From C:\\Users\\Administrator.DAI-PC2\\AppData\\Roaming\\Python\\Python311\\site-packages\\keras\\src\\utils\\tf_utils.py:492: The name tf.ragged.RaggedTensorValue is deprecated. Please use tf.compat.v1.ragged.RaggedTensorValue instead.\n",
      "\n",
      "WARNING:tensorflow:From C:\\Users\\Administrator.DAI-PC2\\AppData\\Roaming\\Python\\Python311\\site-packages\\keras\\src\\engine\\base_layer_utils.py:384: The name tf.executing_eagerly_outside_functions is deprecated. Please use tf.compat.v1.executing_eagerly_outside_functions instead.\n",
      "\n",
      "454/454 - 6s - loss: 0.8553 - accuracy: 0.6568 - val_loss: 0.4817 - val_accuracy: 0.8399 - 6s/epoch - 13ms/step\n",
      "Epoch 2/101\n",
      "454/454 - 2s - loss: 0.4342 - accuracy: 0.8474 - val_loss: 0.3449 - val_accuracy: 0.8667 - 2s/epoch - 5ms/step\n",
      "Epoch 3/101\n",
      "454/454 - 2s - loss: 0.3655 - accuracy: 0.8587 - val_loss: 0.3252 - val_accuracy: 0.8620 - 2s/epoch - 5ms/step\n",
      "Epoch 4/101\n",
      "454/454 - 2s - loss: 0.3430 - accuracy: 0.8605 - val_loss: 0.3115 - val_accuracy: 0.8716 - 2s/epoch - 5ms/step\n",
      "Epoch 5/101\n",
      "454/454 - 2s - loss: 0.3326 - accuracy: 0.8614 - val_loss: 0.3135 - val_accuracy: 0.8647 - 2s/epoch - 5ms/step\n",
      "Epoch 6/101\n",
      "454/454 - 2s - loss: 0.3335 - accuracy: 0.8651 - val_loss: 0.3050 - val_accuracy: 0.8702 - 2s/epoch - 5ms/step\n",
      "Epoch 7/101\n",
      "454/454 - 2s - loss: 0.3195 - accuracy: 0.8677 - val_loss: 0.3046 - val_accuracy: 0.8691 - 2s/epoch - 5ms/step\n",
      "Epoch 8/101\n",
      "454/454 - 2s - loss: 0.3174 - accuracy: 0.8678 - val_loss: 0.3039 - val_accuracy: 0.8738 - 2s/epoch - 5ms/step\n",
      "Epoch 9/101\n",
      "454/454 - 3s - loss: 0.3162 - accuracy: 0.8686 - val_loss: 0.3113 - val_accuracy: 0.8667 - 3s/epoch - 6ms/step\n",
      "Epoch 10/101\n",
      "454/454 - 3s - loss: 0.3108 - accuracy: 0.8727 - val_loss: 0.3027 - val_accuracy: 0.8730 - 3s/epoch - 6ms/step\n",
      "Epoch 11/101\n",
      "454/454 - 2s - loss: 0.3139 - accuracy: 0.8686 - val_loss: 0.3013 - val_accuracy: 0.8736 - 2s/epoch - 5ms/step\n",
      "Epoch 12/101\n",
      "454/454 - 2s - loss: 0.3039 - accuracy: 0.8737 - val_loss: 0.3042 - val_accuracy: 0.8719 - 2s/epoch - 5ms/step\n",
      "Epoch 13/101\n",
      "454/454 - 2s - loss: 0.3080 - accuracy: 0.8741 - val_loss: 0.3060 - val_accuracy: 0.8741 - 2s/epoch - 5ms/step\n",
      "Epoch 14/101\n",
      "454/454 - 2s - loss: 0.3049 - accuracy: 0.8724 - val_loss: 0.3011 - val_accuracy: 0.8758 - 2s/epoch - 4ms/step\n",
      "Epoch 15/101\n",
      "454/454 - 2s - loss: 0.2985 - accuracy: 0.8751 - val_loss: 0.3041 - val_accuracy: 0.8763 - 2s/epoch - 5ms/step\n",
      "Epoch 16/101\n",
      "454/454 - 2s - loss: 0.2981 - accuracy: 0.8764 - val_loss: 0.2991 - val_accuracy: 0.8758 - 2s/epoch - 5ms/step\n",
      "Epoch 17/101\n",
      "454/454 - 2s - loss: 0.3002 - accuracy: 0.8761 - val_loss: 0.3011 - val_accuracy: 0.8713 - 2s/epoch - 5ms/step\n",
      "Epoch 18/101\n",
      "454/454 - 2s - loss: 0.2988 - accuracy: 0.8785 - val_loss: 0.3006 - val_accuracy: 0.8741 - 2s/epoch - 5ms/step\n",
      "Epoch 19/101\n",
      "454/454 - 2s - loss: 0.2941 - accuracy: 0.8777 - val_loss: 0.3004 - val_accuracy: 0.8697 - 2s/epoch - 5ms/step\n",
      "Epoch 20/101\n",
      "454/454 - 2s - loss: 0.2936 - accuracy: 0.8795 - val_loss: 0.3112 - val_accuracy: 0.8716 - 2s/epoch - 5ms/step\n",
      "Epoch 21/101\n",
      "454/454 - 2s - loss: 0.2954 - accuracy: 0.8777 - val_loss: 0.3020 - val_accuracy: 0.8689 - 2s/epoch - 5ms/step\n",
      "Epoch 22/101\n",
      "454/454 - 2s - loss: 0.2938 - accuracy: 0.8761 - val_loss: 0.3069 - val_accuracy: 0.8683 - 2s/epoch - 5ms/step\n",
      "Epoch 23/101\n",
      "454/454 - 2s - loss: 0.2937 - accuracy: 0.8810 - val_loss: 0.2998 - val_accuracy: 0.8741 - 2s/epoch - 5ms/step\n",
      "Epoch 24/101\n",
      "454/454 - 2s - loss: 0.2924 - accuracy: 0.8789 - val_loss: 0.3054 - val_accuracy: 0.8667 - 2s/epoch - 5ms/step\n",
      "Epoch 25/101\n",
      "454/454 - 2s - loss: 0.2907 - accuracy: 0.8766 - val_loss: 0.3025 - val_accuracy: 0.8716 - 2s/epoch - 5ms/step\n",
      "Epoch 26/101\n",
      "454/454 - 2s - loss: 0.2876 - accuracy: 0.8799 - val_loss: 0.3040 - val_accuracy: 0.8747 - 2s/epoch - 4ms/step\n",
      "Epoch 27/101\n",
      "454/454 - 2s - loss: 0.2867 - accuracy: 0.8818 - val_loss: 0.3064 - val_accuracy: 0.8763 - 2s/epoch - 5ms/step\n",
      "Epoch 28/101\n",
      "454/454 - 2s - loss: 0.2873 - accuracy: 0.8808 - val_loss: 0.3062 - val_accuracy: 0.8722 - 2s/epoch - 5ms/step\n",
      "Epoch 29/101\n",
      "454/454 - 2s - loss: 0.2893 - accuracy: 0.8817 - val_loss: 0.3109 - val_accuracy: 0.8691 - 2s/epoch - 5ms/step\n",
      "Epoch 30/101\n",
      "454/454 - 2s - loss: 0.2827 - accuracy: 0.8826 - val_loss: 0.3067 - val_accuracy: 0.8675 - 2s/epoch - 5ms/step\n",
      "Epoch 31/101\n",
      "454/454 - 2s - loss: 0.2860 - accuracy: 0.8810 - val_loss: 0.3042 - val_accuracy: 0.8680 - 2s/epoch - 5ms/step\n",
      "Epoch 32/101\n",
      "454/454 - 2s - loss: 0.2797 - accuracy: 0.8835 - val_loss: 0.3027 - val_accuracy: 0.8708 - 2s/epoch - 4ms/step\n",
      "Epoch 33/101\n",
      "454/454 - 2s - loss: 0.2824 - accuracy: 0.8833 - val_loss: 0.3041 - val_accuracy: 0.8727 - 2s/epoch - 5ms/step\n",
      "Epoch 34/101\n",
      "454/454 - 2s - loss: 0.2792 - accuracy: 0.8850 - val_loss: 0.3057 - val_accuracy: 0.8697 - 2s/epoch - 5ms/step\n",
      "Epoch 35/101\n",
      "454/454 - 3s - loss: 0.2800 - accuracy: 0.8830 - val_loss: 0.3072 - val_accuracy: 0.8708 - 3s/epoch - 6ms/step\n",
      "Epoch 36/101\n",
      "454/454 - 2s - loss: 0.2820 - accuracy: 0.8832 - val_loss: 0.3060 - val_accuracy: 0.8686 - 2s/epoch - 5ms/step\n",
      "Epoch 37/101\n",
      "454/454 - 2s - loss: 0.2744 - accuracy: 0.8858 - val_loss: 0.3079 - val_accuracy: 0.8689 - 2s/epoch - 5ms/step\n",
      "Epoch 38/101\n",
      "454/454 - 2s - loss: 0.2757 - accuracy: 0.8879 - val_loss: 0.3070 - val_accuracy: 0.8658 - 2s/epoch - 5ms/step\n",
      "Epoch 39/101\n",
      "454/454 - 2s - loss: 0.2772 - accuracy: 0.8858 - val_loss: 0.3093 - val_accuracy: 0.8736 - 2s/epoch - 5ms/step\n",
      "Epoch 40/101\n",
      "454/454 - 2s - loss: 0.2740 - accuracy: 0.8883 - val_loss: 0.3107 - val_accuracy: 0.8702 - 2s/epoch - 5ms/step\n",
      "Epoch 41/101\n",
      "454/454 - 2s - loss: 0.2822 - accuracy: 0.8846 - val_loss: 0.3044 - val_accuracy: 0.8705 - 2s/epoch - 5ms/step\n",
      "Epoch 42/101\n",
      "454/454 - 2s - loss: 0.2744 - accuracy: 0.8868 - val_loss: 0.3083 - val_accuracy: 0.8736 - 2s/epoch - 5ms/step\n",
      "Epoch 43/101\n",
      "454/454 - 2s - loss: 0.2746 - accuracy: 0.8859 - val_loss: 0.3076 - val_accuracy: 0.8716 - 2s/epoch - 5ms/step\n",
      "Epoch 44/101\n",
      "454/454 - 2s - loss: 0.2727 - accuracy: 0.8874 - val_loss: 0.3057 - val_accuracy: 0.8697 - 2s/epoch - 5ms/step\n",
      "Epoch 45/101\n",
      "454/454 - 2s - loss: 0.2723 - accuracy: 0.8870 - val_loss: 0.3097 - val_accuracy: 0.8749 - 2s/epoch - 5ms/step\n",
      "Epoch 46/101\n",
      "454/454 - 2s - loss: 0.2751 - accuracy: 0.8855 - val_loss: 0.3072 - val_accuracy: 0.8727 - 2s/epoch - 5ms/step\n",
      "Epoch 47/101\n",
      "454/454 - 2s - loss: 0.2735 - accuracy: 0.8851 - val_loss: 0.3134 - val_accuracy: 0.8697 - 2s/epoch - 5ms/step\n",
      "Epoch 48/101\n",
      "454/454 - 2s - loss: 0.2757 - accuracy: 0.8847 - val_loss: 0.3034 - val_accuracy: 0.8705 - 2s/epoch - 5ms/step\n",
      "Epoch 49/101\n",
      "454/454 - 2s - loss: 0.2737 - accuracy: 0.8854 - val_loss: 0.3101 - val_accuracy: 0.8705 - 2s/epoch - 4ms/step\n",
      "Epoch 50/101\n",
      "454/454 - 2s - loss: 0.2747 - accuracy: 0.8894 - val_loss: 0.3078 - val_accuracy: 0.8669 - 2s/epoch - 4ms/step\n",
      "Epoch 51/101\n",
      "454/454 - 2s - loss: 0.2686 - accuracy: 0.8878 - val_loss: 0.3089 - val_accuracy: 0.8719 - 2s/epoch - 4ms/step\n",
      "Epoch 52/101\n",
      "454/454 - 2s - loss: 0.2691 - accuracy: 0.8872 - val_loss: 0.3097 - val_accuracy: 0.8700 - 2s/epoch - 5ms/step\n",
      "Epoch 53/101\n",
      "454/454 - 2s - loss: 0.2746 - accuracy: 0.8856 - val_loss: 0.3072 - val_accuracy: 0.8716 - 2s/epoch - 5ms/step\n",
      "Epoch 54/101\n",
      "454/454 - 2s - loss: 0.2687 - accuracy: 0.8886 - val_loss: 0.3064 - val_accuracy: 0.8700 - 2s/epoch - 5ms/step\n",
      "Epoch 55/101\n",
      "454/454 - 2s - loss: 0.2675 - accuracy: 0.8874 - val_loss: 0.3143 - val_accuracy: 0.8697 - 2s/epoch - 5ms/step\n",
      "Epoch 56/101\n",
      "454/454 - 2s - loss: 0.2686 - accuracy: 0.8867 - val_loss: 0.3096 - val_accuracy: 0.8711 - 2s/epoch - 5ms/step\n",
      "Epoch 57/101\n",
      "454/454 - 2s - loss: 0.2691 - accuracy: 0.8857 - val_loss: 0.3143 - val_accuracy: 0.8700 - 2s/epoch - 5ms/step\n",
      "Epoch 58/101\n",
      "454/454 - 2s - loss: 0.2644 - accuracy: 0.8913 - val_loss: 0.3176 - val_accuracy: 0.8658 - 2s/epoch - 5ms/step\n",
      "Epoch 59/101\n",
      "454/454 - 2s - loss: 0.2671 - accuracy: 0.8861 - val_loss: 0.3126 - val_accuracy: 0.8716 - 2s/epoch - 5ms/step\n",
      "Epoch 60/101\n",
      "454/454 - 2s - loss: 0.2666 - accuracy: 0.8888 - val_loss: 0.3128 - val_accuracy: 0.8686 - 2s/epoch - 5ms/step\n",
      "Epoch 61/101\n",
      "454/454 - 2s - loss: 0.2668 - accuracy: 0.8894 - val_loss: 0.3106 - val_accuracy: 0.8705 - 2s/epoch - 5ms/step\n",
      "Epoch 62/101\n",
      "454/454 - 2s - loss: 0.2670 - accuracy: 0.8876 - val_loss: 0.3119 - val_accuracy: 0.8675 - 2s/epoch - 5ms/step\n",
      "Epoch 63/101\n",
      "454/454 - 2s - loss: 0.2633 - accuracy: 0.8902 - val_loss: 0.3114 - val_accuracy: 0.8725 - 2s/epoch - 5ms/step\n",
      "Epoch 64/101\n",
      "454/454 - 2s - loss: 0.2648 - accuracy: 0.8881 - val_loss: 0.3104 - val_accuracy: 0.8713 - 2s/epoch - 5ms/step\n",
      "Epoch 65/101\n",
      "454/454 - 3s - loss: 0.2632 - accuracy: 0.8896 - val_loss: 0.3118 - val_accuracy: 0.8719 - 3s/epoch - 6ms/step\n",
      "Epoch 66/101\n",
      "454/454 - 3s - loss: 0.2653 - accuracy: 0.8883 - val_loss: 0.3180 - val_accuracy: 0.8691 - 3s/epoch - 6ms/step\n",
      "Epoch 67/101\n",
      "454/454 - 2s - loss: 0.2634 - accuracy: 0.8890 - val_loss: 0.3112 - val_accuracy: 0.8733 - 2s/epoch - 5ms/step\n",
      "Epoch 68/101\n",
      "454/454 - 3s - loss: 0.2575 - accuracy: 0.8910 - val_loss: 0.3227 - val_accuracy: 0.8636 - 3s/epoch - 6ms/step\n",
      "Epoch 69/101\n",
      "454/454 - 3s - loss: 0.2685 - accuracy: 0.8894 - val_loss: 0.3205 - val_accuracy: 0.8609 - 3s/epoch - 6ms/step\n",
      "Epoch 70/101\n",
      "454/454 - 2s - loss: 0.2646 - accuracy: 0.8881 - val_loss: 0.3127 - val_accuracy: 0.8689 - 2s/epoch - 5ms/step\n",
      "Epoch 71/101\n",
      "454/454 - 2s - loss: 0.2654 - accuracy: 0.8870 - val_loss: 0.3143 - val_accuracy: 0.8705 - 2s/epoch - 5ms/step\n",
      "Epoch 72/101\n",
      "454/454 - 2s - loss: 0.2620 - accuracy: 0.8921 - val_loss: 0.3121 - val_accuracy: 0.8669 - 2s/epoch - 5ms/step\n",
      "Epoch 73/101\n",
      "454/454 - 2s - loss: 0.2613 - accuracy: 0.8898 - val_loss: 0.3151 - val_accuracy: 0.8680 - 2s/epoch - 5ms/step\n",
      "Epoch 74/101\n",
      "454/454 - 2s - loss: 0.2600 - accuracy: 0.8905 - val_loss: 0.3082 - val_accuracy: 0.8694 - 2s/epoch - 5ms/step\n",
      "Epoch 75/101\n",
      "454/454 - 2s - loss: 0.2633 - accuracy: 0.8891 - val_loss: 0.3180 - val_accuracy: 0.8664 - 2s/epoch - 5ms/step\n",
      "Epoch 76/101\n",
      "454/454 - 2s - loss: 0.2620 - accuracy: 0.8896 - val_loss: 0.3122 - val_accuracy: 0.8667 - 2s/epoch - 5ms/step\n",
      "Epoch 77/101\n",
      "454/454 - 2s - loss: 0.2579 - accuracy: 0.8934 - val_loss: 0.3156 - val_accuracy: 0.8711 - 2s/epoch - 5ms/step\n",
      "Epoch 78/101\n",
      "454/454 - 2s - loss: 0.2623 - accuracy: 0.8901 - val_loss: 0.3161 - val_accuracy: 0.8694 - 2s/epoch - 5ms/step\n",
      "Epoch 79/101\n",
      "454/454 - 2s - loss: 0.2600 - accuracy: 0.8927 - val_loss: 0.3192 - val_accuracy: 0.8691 - 2s/epoch - 5ms/step\n",
      "Epoch 80/101\n",
      "454/454 - 2s - loss: 0.2584 - accuracy: 0.8911 - val_loss: 0.3174 - val_accuracy: 0.8697 - 2s/epoch - 5ms/step\n",
      "Epoch 81/101\n",
      "454/454 - 2s - loss: 0.2594 - accuracy: 0.8907 - val_loss: 0.3186 - val_accuracy: 0.8672 - 2s/epoch - 5ms/step\n",
      "Epoch 82/101\n",
      "454/454 - 2s - loss: 0.2594 - accuracy: 0.8930 - val_loss: 0.3275 - val_accuracy: 0.8647 - 2s/epoch - 5ms/step\n",
      "Epoch 83/101\n",
      "454/454 - 2s - loss: 0.2588 - accuracy: 0.8907 - val_loss: 0.3142 - val_accuracy: 0.8711 - 2s/epoch - 5ms/step\n",
      "Epoch 84/101\n",
      "454/454 - 2s - loss: 0.2563 - accuracy: 0.8922 - val_loss: 0.3227 - val_accuracy: 0.8664 - 2s/epoch - 5ms/step\n",
      "Epoch 85/101\n",
      "454/454 - 2s - loss: 0.2577 - accuracy: 0.8914 - val_loss: 0.3189 - val_accuracy: 0.8647 - 2s/epoch - 5ms/step\n",
      "Epoch 86/101\n",
      "454/454 - 2s - loss: 0.2572 - accuracy: 0.8928 - val_loss: 0.3127 - val_accuracy: 0.8711 - 2s/epoch - 5ms/step\n",
      "Epoch 87/101\n",
      "454/454 - 2s - loss: 0.2529 - accuracy: 0.8942 - val_loss: 0.3209 - val_accuracy: 0.8694 - 2s/epoch - 5ms/step\n",
      "Epoch 88/101\n",
      "454/454 - 2s - loss: 0.2598 - accuracy: 0.8914 - val_loss: 0.3164 - val_accuracy: 0.8730 - 2s/epoch - 5ms/step\n",
      "Epoch 89/101\n",
      "454/454 - 2s - loss: 0.2601 - accuracy: 0.8919 - val_loss: 0.3175 - val_accuracy: 0.8691 - 2s/epoch - 5ms/step\n",
      "Epoch 90/101\n",
      "454/454 - 2s - loss: 0.2536 - accuracy: 0.8919 - val_loss: 0.3221 - val_accuracy: 0.8669 - 2s/epoch - 5ms/step\n",
      "Epoch 91/101\n",
      "454/454 - 2s - loss: 0.2565 - accuracy: 0.8905 - val_loss: 0.3171 - val_accuracy: 0.8741 - 2s/epoch - 5ms/step\n",
      "Epoch 92/101\n",
      "454/454 - 2s - loss: 0.2568 - accuracy: 0.8924 - val_loss: 0.3173 - val_accuracy: 0.8678 - 2s/epoch - 5ms/step\n",
      "Epoch 93/101\n",
      "454/454 - 2s - loss: 0.2571 - accuracy: 0.8928 - val_loss: 0.3197 - val_accuracy: 0.8697 - 2s/epoch - 5ms/step\n",
      "Epoch 94/101\n",
      "454/454 - 2s - loss: 0.2525 - accuracy: 0.8922 - val_loss: 0.3218 - val_accuracy: 0.8700 - 2s/epoch - 5ms/step\n",
      "Epoch 95/101\n",
      "454/454 - 2s - loss: 0.2567 - accuracy: 0.8920 - val_loss: 0.3196 - val_accuracy: 0.8744 - 2s/epoch - 5ms/step\n",
      "Epoch 96/101\n",
      "454/454 - 2s - loss: 0.2535 - accuracy: 0.8918 - val_loss: 0.3167 - val_accuracy: 0.8733 - 2s/epoch - 5ms/step\n",
      "Epoch 97/101\n",
      "454/454 - 2s - loss: 0.2591 - accuracy: 0.8919 - val_loss: 0.3222 - val_accuracy: 0.8730 - 2s/epoch - 4ms/step\n",
      "Epoch 98/101\n",
      "454/454 - 2s - loss: 0.2557 - accuracy: 0.8918 - val_loss: 0.3157 - val_accuracy: 0.8708 - 2s/epoch - 5ms/step\n",
      "Epoch 99/101\n",
      "454/454 - 2s - loss: 0.2561 - accuracy: 0.8923 - val_loss: 0.3256 - val_accuracy: 0.8667 - 2s/epoch - 5ms/step\n",
      "Epoch 100/101\n",
      "454/454 - 2s - loss: 0.2513 - accuracy: 0.8967 - val_loss: 0.3254 - val_accuracy: 0.8642 - 2s/epoch - 5ms/step\n",
      "Epoch 101/101\n",
      "454/454 - 2s - loss: 0.2528 - accuracy: 0.8956 - val_loss: 0.3303 - val_accuracy: 0.8694 - 2s/epoch - 5ms/step\n"
     ]
    }
   ],
   "source": [
    "model.compile(optimizer=optimizer, loss=loss_fn, metrics=['accuracy'])\n",
    "history = model.fit(X_train, y_train, validation_data=(X_test, y_test),\n",
    "                    batch_size=BATCH_SIZE,\n",
    "                    epochs=EPOCHS,\n",
    "                    verbose=2\n",
    "                   )"
   ]
  },
  {
   "cell_type": "code",
   "execution_count": 26,
   "id": "6cf6dcda-fc03-4189-a94f-67e2e3d32b26",
   "metadata": {},
   "outputs": [
    {
     "data": {
      "text/html": [
       "<div>\n",
       "<style scoped>\n",
       "    .dataframe tbody tr th:only-of-type {\n",
       "        vertical-align: middle;\n",
       "    }\n",
       "\n",
       "    .dataframe tbody tr th {\n",
       "        vertical-align: top;\n",
       "    }\n",
       "\n",
       "    .dataframe thead th {\n",
       "        text-align: right;\n",
       "    }\n",
       "</style>\n",
       "<table border=\"1\" class=\"dataframe\">\n",
       "  <thead>\n",
       "    <tr style=\"text-align: right;\">\n",
       "      <th></th>\n",
       "      <th>loss</th>\n",
       "      <th>accuracy</th>\n",
       "      <th>val_loss</th>\n",
       "      <th>val_accuracy</th>\n",
       "    </tr>\n",
       "  </thead>\n",
       "  <tbody>\n",
       "    <tr>\n",
       "      <th>0</th>\n",
       "      <td>0.855305</td>\n",
       "      <td>0.656816</td>\n",
       "      <td>0.481662</td>\n",
       "      <td>0.839945</td>\n",
       "    </tr>\n",
       "    <tr>\n",
       "      <th>1</th>\n",
       "      <td>0.434214</td>\n",
       "      <td>0.847351</td>\n",
       "      <td>0.344914</td>\n",
       "      <td>0.866667</td>\n",
       "    </tr>\n",
       "    <tr>\n",
       "      <th>2</th>\n",
       "      <td>0.365547</td>\n",
       "      <td>0.858717</td>\n",
       "      <td>0.325249</td>\n",
       "      <td>0.861983</td>\n",
       "    </tr>\n",
       "    <tr>\n",
       "      <th>3</th>\n",
       "      <td>0.343046</td>\n",
       "      <td>0.860508</td>\n",
       "      <td>0.311511</td>\n",
       "      <td>0.871625</td>\n",
       "    </tr>\n",
       "    <tr>\n",
       "      <th>4</th>\n",
       "      <td>0.332572</td>\n",
       "      <td>0.861404</td>\n",
       "      <td>0.313460</td>\n",
       "      <td>0.864738</td>\n",
       "    </tr>\n",
       "  </tbody>\n",
       "</table>\n",
       "</div>"
      ],
      "text/plain": [
       "       loss  accuracy  val_loss  val_accuracy\n",
       "0  0.855305  0.656816  0.481662      0.839945\n",
       "1  0.434214  0.847351  0.344914      0.866667\n",
       "2  0.365547  0.858717  0.325249      0.861983\n",
       "3  0.343046  0.860508  0.311511      0.871625\n",
       "4  0.332572  0.861404  0.313460      0.864738"
      ]
     },
     "execution_count": 26,
     "metadata": {},
     "output_type": "execute_result"
    }
   ],
   "source": [
    "loss_df = pd.DataFrame(history.history)\n",
    "loss_df.head()"
   ]
  },
  {
   "cell_type": "code",
   "execution_count": 27,
   "id": "46eb4941-6ace-4bc8-9b09-e446edc1cc00",
   "metadata": {},
   "outputs": [
    {
     "data": {
      "image/png": "[encoded data removed]",
      "text/plain": [
       "<Figure size 1500x600 with 2 Axes>"
      ]
     },
     "metadata": {},
     "output_type": "display_data"
    }
   ],
   "source": [
    "fn_plot_tf_hist(loss_df)"
   ]
  }
 ],
 "metadata": {
  "kernelspec": {
   "display_name": "Python 3 (ipykernel)",
   "language": "python",
   "name": "python3"
  },
  "language_info": {
   "codemirror_mode": {
    "name": "ipython",
    "version": 3
   },
   "file_extension": ".py",
   "mimetype": "text/x-python",
   "name": "python",
   "nbconvert_exporter": "python",
   "pygments_lexer": "ipython3",
   "version": "3.11.7"
  }
 },
 "nbformat": 4,
 "nbformat_minor": 5
}
